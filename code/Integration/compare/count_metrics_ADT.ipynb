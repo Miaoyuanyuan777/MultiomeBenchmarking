{
 "cells": [
  {
   "cell_type": "code",
   "execution_count": 1,
   "id": "d7f0f5dd-1cb0-4f9b-a35b-ba348a131cef",
   "metadata": {
    "collapsed": true,
    "jupyter": {
     "outputs_hidden": true
    },
    "tags": []
   },
   "outputs": [
    {
     "name": "stderr",
     "output_type": "stream",
     "text": [
      "/home/qukun/lyz32/miniconda3/envs/scarches/lib/python3.9/site-packages/umap/distances.py:1063: NumbaDeprecationWarning: The 'nopython' keyword argument was not supplied to the 'numba.jit' decorator. The implicit default value for this argument is currently False, but it will be changed to True in Numba 0.59.0. See https://numba.readthedocs.io/en/stable/reference/deprecation.html#deprecation-of-object-mode-fall-back-behaviour-when-using-jit for details.\n",
      "  @numba.jit()\n",
      "/home/qukun/lyz32/miniconda3/envs/scarches/lib/python3.9/site-packages/umap/distances.py:1071: NumbaDeprecationWarning: The 'nopython' keyword argument was not supplied to the 'numba.jit' decorator. The implicit default value for this argument is currently False, but it will be changed to True in Numba 0.59.0. See https://numba.readthedocs.io/en/stable/reference/deprecation.html#deprecation-of-object-mode-fall-back-behaviour-when-using-jit for details.\n",
      "  @numba.jit()\n",
      "/home/qukun/lyz32/miniconda3/envs/scarches/lib/python3.9/site-packages/umap/distances.py:1086: NumbaDeprecationWarning: The 'nopython' keyword argument was not supplied to the 'numba.jit' decorator. The implicit default value for this argument is currently False, but it will be changed to True in Numba 0.59.0. See https://numba.readthedocs.io/en/stable/reference/deprecation.html#deprecation-of-object-mode-fall-back-behaviour-when-using-jit for details.\n",
      "  @numba.jit()\n",
      "/home/qukun/lyz32/miniconda3/envs/scarches/lib/python3.9/site-packages/umap/umap_.py:660: NumbaDeprecationWarning: The 'nopython' keyword argument was not supplied to the 'numba.jit' decorator. The implicit default value for this argument is currently False, but it will be changed to True in Numba 0.59.0. See https://numba.readthedocs.io/en/stable/reference/deprecation.html#deprecation-of-object-mode-fall-back-behaviour-when-using-jit for details.\n",
      "  @numba.jit()\n",
      "/home/qukun/lyz32/miniconda3/envs/scarches/lib/python3.9/site-packages/umap/__init__.py:9: ImportWarning: Tensorflow not installed; ParametricUMAP will be unavailable\n",
      "  warn(\n",
      "WARNING:root:In order to use the mouse gastrulation seqFISH datsets, please install squidpy (see https://github.com/scverse/squidpy).\n",
      "/home/qukun/lyz32/miniconda3/envs/scarches/lib/python3.9/site-packages/lightning/fabric/__init__.py:36: DeprecationWarning: Deprecated call to `pkg_resources.declare_namespace('lightning.fabric')`.\n",
      "Implementing implicit namespace packages (as specified in PEP 420) is preferred to `pkg_resources.declare_namespace`. See https://setuptools.pypa.io/en/latest/references/keywords.html#keyword-namespace-packages\n",
      "  __import__(\"pkg_resources\").declare_namespace(__name__)\n",
      "/home/qukun/lyz32/miniconda3/envs/scarches/lib/python3.9/site-packages/pkg_resources/__init__.py:2350: DeprecationWarning: Deprecated call to `pkg_resources.declare_namespace('lightning')`.\n",
      "Implementing implicit namespace packages (as specified in PEP 420) is preferred to `pkg_resources.declare_namespace`. See https://setuptools.pypa.io/en/latest/references/keywords.html#keyword-namespace-packages\n",
      "  declare_namespace(parent)\n",
      "/home/qukun/lyz32/miniconda3/envs/scarches/lib/python3.9/site-packages/torchmetrics/utilities/imports.py:24: DeprecationWarning: distutils Version classes are deprecated. Use packaging.version instead.\n",
      "  _PYTHON_LOWER_3_8 = LooseVersion(_PYTHON_VERSION) < LooseVersion(\"3.8\")\n",
      "/home/qukun/lyz32/miniconda3/envs/scarches/lib/python3.9/site-packages/lightning/pytorch/__init__.py:36: DeprecationWarning: Deprecated call to `pkg_resources.declare_namespace('lightning.pytorch')`.\n",
      "Implementing implicit namespace packages (as specified in PEP 420) is preferred to `pkg_resources.declare_namespace`. See https://setuptools.pypa.io/en/latest/references/keywords.html#keyword-namespace-packages\n",
      "  __import__(\"pkg_resources\").declare_namespace(__name__)\n",
      "/home/qukun/lyz32/miniconda3/envs/scarches/lib/python3.9/site-packages/pkg_resources/__init__.py:2350: DeprecationWarning: Deprecated call to `pkg_resources.declare_namespace('lightning')`.\n",
      "Implementing implicit namespace packages (as specified in PEP 420) is preferred to `pkg_resources.declare_namespace`. See https://setuptools.pypa.io/en/latest/references/keywords.html#keyword-namespace-packages\n",
      "  declare_namespace(parent)\n",
      "/home/qukun/lyz32/miniconda3/envs/scarches/lib/python3.9/site-packages/scvi/_settings.py:63: UserWarning: Since v1.0.0, scvi-tools no longer uses a random seed by default. Run `scvi.settings.seed = 0` to reproduce results from previous versions.\n",
      "  self.seed = seed\n",
      "/home/qukun/lyz32/miniconda3/envs/scarches/lib/python3.9/site-packages/scvi/_settings.py:70: UserWarning: Setting `dl_pin_memory_gpu_training` is deprecated in v1.0 and will be removed in v1.1. Please pass in `pin_memory` to the data loaders instead.\n",
      "  self.dl_pin_memory_gpu_training = (\n",
      "WARNING:root:In order to use sagenet models, please install pytorch geometric (see https://pytorch-geometric.readthedocs.io) and \n",
      " captum (see https://github.com/pytorch/captum).\n",
      "WARNING:root:mvTCR is not installed. To use mvTCR models, please install it first using \"pip install mvtcr\"\n",
      "/home/qukun/lyz32/miniconda3/envs/scarches/lib/python3.9/site-packages/scanpy/_settings.py:450: DeprecationWarning: `set_matplotlib_formats` is deprecated since IPython 7.23, directly use `matplotlib_inline.backend_inline.set_matplotlib_formats()`\n",
      "  IPython.display.set_matplotlib_formats(*ipython_format)\n"
     ]
    }
   ],
   "source": [
    "import scib\n",
    "import anndata as ad\n",
    "import pandas as pd\n",
    "import numpy as np\n",
    "from multiprocessing import Pool \n",
    "from scipy.io import mmread\n",
    "from scipy.sparse import csr_matrix\n",
    "import muon\n",
    "import os\n",
    "import scarches as sca\n",
    "import scanpy as sc\n",
    "from scib_metrics.benchmark import Benchmarker\n",
    "import scib_metrics\n",
    "from typing import Optional\n",
    "\n",
    "import warnings\n",
    "warnings.filterwarnings(\"ignore\")"
   ]
  },
  {
   "cell_type": "code",
   "execution_count": null,
   "id": "9700870d-35d4-4aff-86d0-0e3c7de6fb79",
   "metadata": {},
   "outputs": [],
   "source": [
    "# dt_list = ['Dataset2','Dataset3','Dataset4','Dataset5','Dataset6','Dataset8','Dataset9',\n",
    "#            'Dataset10','Dataset13','Dataset17','Dataset24','Dataset26']\n",
    "dt_list = ['Dataset26']"
   ]
  },
  {
   "cell_type": "code",
   "execution_count": 58,
   "id": "b20ba750-0515-4073-bde9-76f97cecb253",
   "metadata": {},
   "outputs": [],
   "source": [
    "for dataset in dt_list:\n",
    "    latent = pd.read_csv('../Integration/results/Vertical/RNA_ADT/' + dataset + '/MOJITOO.csv', header = None)\n",
    "    latent.drop(0, axis=1)\n",
    "    latent.to_csv('../Integration/results/Vertical/RNA_ADT/' + dataset + '/MOJITOO.csv', header = None)"
   ]
  },
  {
   "cell_type": "code",
   "execution_count": null,
   "id": "1df3fc6e-d9c8-470f-a149-78f118fa2bf7",
   "metadata": {},
   "outputs": [],
   "source": [
    "def count_metrics(dataset):\n",
    "    data_path = '../Integration/dataset/Vertical/RNA_ADT/' + dataset\n",
    "    RNA_path = data_path+\"/RNA/\"\n",
    "    cell_names = pd.read_csv(RNA_path+'barcodes.tsv', sep = '\\t', header=None, index_col=None)\n",
    "    cell_names.columns =  ['cell_ids'] \n",
    "    cell_names['cell_ids'] = cell_names['cell_ids'].str.replace('.','-')\n",
    "    X = csr_matrix(mmread(RNA_path+'matrix.mtx').T)\n",
    "    gene_names = pd.read_csv(RNA_path+'features.tsv', sep = '\\t',  header=None, index_col=None) \n",
    "    gene_names.columns =  ['gene_ids'] \n",
    "    adata_RNA = ad.AnnData(X, obs=pd.DataFrame(index=cell_names.cell_ids), var=pd.DataFrame(index = gene_names.gene_ids))\n",
    "    adata_RNA.var_names_make_unique()\n",
    "    del X\n",
    "\n",
    "    adata_RNA.layers[\"counts\"] = adata_RNA.X.copy()\n",
    "    sc.pp.normalize_total(adata_RNA)\n",
    "    sc.pp.log1p(adata_RNA)\n",
    "    sc.pp.highly_variable_genes(\n",
    "        adata_RNA,\n",
    "        flavor=\"seurat_v3\",\n",
    "        n_top_genes=4000,\n",
    "        subset=False\n",
    "    )\n",
    "    adata_RNA = adata_RNA[:, adata_RNA.var.highly_variable].copy()\n",
    "\n",
    "    # read ADT data\n",
    "    adata_ADT = pd.read_csv(data_path+'/ADT.csv',index_col = 0)\n",
    "    adata_ADT.columns = adata_ADT.columns.str.replace('.','-')\n",
    "    adata_ADT.index = adata_ADT.index.str.replace('.','_')\n",
    "    adata_ADT.index = adata_ADT.index.str.replace('-','_')\n",
    "    adata_ADT = ad.AnnData(adata_ADT.T)\n",
    "    adata_ADT.X = adata_ADT.X.astype(np.float64)\n",
    "    adata_ADT.layers[\"counts\"] = adata_ADT.X.copy()\n",
    "    muon.prot.pp.clr(adata_ADT)\n",
    "    adata_ADT.layers['clr'] = adata_ADT.X.copy()\n",
    "\n",
    "    adata = sca.models.organize_multiome_anndatas(\n",
    "        adatas = [[adata_RNA], [adata_ADT]],    # a list of anndata objects per modality, RNA-seq always goes first\n",
    "        layers = [['counts'], ['clr']], # if need to use data from .layers, if None use .X\n",
    "    )\n",
    "\n",
    "    metadata = pd.read_csv(data_path + \"/metadata.csv\")\n",
    "    metadata['cell_type'].index = adata.obs_names\n",
    "    adata.obs['cell_type'] = metadata['cell_type'].astype('category')\n",
    "    if np.where(adata.obs[\"cell_type\"].isna())[0].shape[0]!=0:\n",
    "        adata.obs[\"cell_type\"] = adata.obs[\"cell_type\"].cat.add_categories(['NaN'])\n",
    "        adata.obs[\"cell_type\"][np.where(adata.obs[\"cell_type\"].isna())[0]] = 'NaN'\n",
    "    adata.obs['batch'] = ['batch1'] * adata.shape[0]\n",
    "    \n",
    "    result = pd.DataFrame()\n",
    "    metrics_list = []\n",
    "    method_list = ['TotalVI','scArches','Multigrate','SCOIT','MOJITOO','DeepMaps','scVAEIT']\n",
    "    for method in method_list:\n",
    "        if os.path.exists('../Integration/results/Vertical/RNA_ADT/' + dataset + '/' + method + '.csv'):\n",
    "            latent = pd.read_csv('../Integration/results/Vertical/RNA_ADT/' + dataset + '/' + method + '.csv', header = None)\n",
    "            latent.index = adata.obs_names\n",
    "            adata.obsm[method] = latent\n",
    "            sc.pp.neighbors(adata, use_rep=method)\n",
    "            sc.tl.umap(adata)\n",
    "            sc.tl.leiden(adata, key_added=\"cluster\")\n",
    "            scib.metrics.cluster_optimal_resolution(adata, cluster_key=\"cluster\", label_key=\"cell_type\")\n",
    "            ari = scib.metrics.ari(adata, cluster_key=\"cluster\", label_key=\"cell_type\")\n",
    "            iso_asw = scib.metrics.isolated_labels_asw(adata, label_key=\"cell_type\", batch_key='batch', embed=method,  verbose = False)\n",
    "            nmi = scib.metrics.nmi(adata, cluster_key=\"cluster\", label_key=\"cell_type\")\n",
    "            clisi = scib.metrics.clisi_graph(adata, label_key=\"cell_type\",use_rep=method, type_='embed')\n",
    "            sht = scib.metrics.silhouette(adata, label_key=\"cell_type\", embed=method, metric='euclidean', scale=True)\n",
    "            metrics_list.append([ari, iso_asw, nmi, clisi, sht, method])\n",
    "    method_list = ['Seurat','CiteFuse']\n",
    "    for method in method_list:\n",
    "        if os.path.exists('../Integration/dataset/Vertical/RNA_ADT/'+ dataset + '/'+ method + '_connectivities.mtx'):\n",
    "            con = mmread('../Integration/dataset/Vertical/RNA_ADT/'+ dataset + '/'+ method + '_connectivities.mtx')\n",
    "            dis = mmread('../Integration/dataset/Vertical/RNA_ADT/'+ dataset + '/'+ method + '_distance.mtx')\n",
    "            adata.uns['neighbors'] = {'connectivities_key': 'connectivities', 'distances_key': 'distances', \n",
    "                                      'params': {'n_neighbors': 20, 'method': 'umap', 'random_state': 0, \n",
    "                                                 'metric': 'euclidean'}}\n",
    "            adata.uns['neighbors']['distance'] = csr_matrix(dis)\n",
    "            adata.uns['neighbors']['connectivities'] = csr_matrix(con)\n",
    "            adata.obsp['distance'] = csr_matrix(dis)\n",
    "            adata.obsp['connectivities'] = csr_matrix(con)\n",
    "            sc.tl.umap(adata, n_components=20)\n",
    "            scib.metrics.cluster_optimal_resolution(adata, cluster_key=\"cluster\", label_key=\"cell_type\")\n",
    "            ari = scib.metrics.ari(adata, cluster_key=\"cluster\", label_key=\"cell_type\")\n",
    "            iso_asw = scib.metrics.isolated_labels_asw(adata, label_key=\"cell_type\", batch_key='batch', embed=\"X_umap\",  verbose = False)\n",
    "            nmi = scib.metrics.nmi(adata, cluster_key=\"cluster\", label_key=\"cell_type\")\n",
    "            clisi = scib.metrics.clisi_graph(adata, label_key=\"cell_type\", type_='knn')\n",
    "            sht = scib.metrics.silhouette(adata, label_key=\"cell_type\", embed=\"X_umap\", metric='euclidean', scale=True)\n",
    "            metrics_list.append([ari, iso_asw, nmi, clisi, sht, method])\n",
    "    df = pd.DataFrame(metrics_list,columns = ['ARI','Isolated_Labels_ASW','NMI','cLISI_Graph','Silhouette','method'])\n",
    "    result = pd.concat([result,df])\n",
    "    result['Dataset'] = dataset\n",
    "    result.to_csv('../Integration/results/Vertical/RNA_ADT/' + dataset + \"/mc_result.csv\",index = False)\n",
    "    print(dataset)"
   ]
  },
  {
   "cell_type": "code",
   "execution_count": 58,
   "id": "da673ed9-11a2-463e-b198-0fedcff0d11f",
   "metadata": {
    "collapsed": true,
    "jupyter": {
     "outputs_hidden": true
    },
    "tags": []
   },
   "outputs": [
    {
     "ename": "OSError",
     "evalue": "[Errno 12] Cannot allocate memory",
     "output_type": "error",
     "traceback": [
      "\u001b[0;31m---------------------------------------------------------------------------\u001b[0m",
      "\u001b[0;31mOSError\u001b[0m                                   Traceback (most recent call last)",
      "Cell \u001b[0;32mIn[58], line 1\u001b[0m\n\u001b[0;32m----> 1\u001b[0m pool \u001b[38;5;241m=\u001b[39m \u001b[43mPool\u001b[49m\u001b[43m(\u001b[49m\u001b[38;5;241;43m20\u001b[39;49m\u001b[43m)\u001b[49m\n\u001b[1;32m      2\u001b[0m results \u001b[38;5;241m=\u001b[39m pool\u001b[38;5;241m.\u001b[39mmap(count_metrics, dt_list)\n\u001b[1;32m      3\u001b[0m pool\u001b[38;5;241m.\u001b[39mclose()\n",
      "File \u001b[0;32m~/miniconda3/envs/scarches/lib/python3.9/multiprocessing/context.py:119\u001b[0m, in \u001b[0;36mBaseContext.Pool\u001b[0;34m(self, processes, initializer, initargs, maxtasksperchild)\u001b[0m\n\u001b[1;32m    117\u001b[0m \u001b[38;5;250m\u001b[39m\u001b[38;5;124;03m'''Returns a process pool object'''\u001b[39;00m\n\u001b[1;32m    118\u001b[0m \u001b[38;5;28;01mfrom\u001b[39;00m \u001b[38;5;21;01m.\u001b[39;00m\u001b[38;5;21;01mpool\u001b[39;00m \u001b[38;5;28;01mimport\u001b[39;00m Pool\n\u001b[0;32m--> 119\u001b[0m \u001b[38;5;28;01mreturn\u001b[39;00m \u001b[43mPool\u001b[49m\u001b[43m(\u001b[49m\u001b[43mprocesses\u001b[49m\u001b[43m,\u001b[49m\u001b[43m \u001b[49m\u001b[43minitializer\u001b[49m\u001b[43m,\u001b[49m\u001b[43m \u001b[49m\u001b[43minitargs\u001b[49m\u001b[43m,\u001b[49m\u001b[43m \u001b[49m\u001b[43mmaxtasksperchild\u001b[49m\u001b[43m,\u001b[49m\n\u001b[1;32m    120\u001b[0m \u001b[43m            \u001b[49m\u001b[43mcontext\u001b[49m\u001b[38;5;241;43m=\u001b[39;49m\u001b[38;5;28;43mself\u001b[39;49m\u001b[38;5;241;43m.\u001b[39;49m\u001b[43mget_context\u001b[49m\u001b[43m(\u001b[49m\u001b[43m)\u001b[49m\u001b[43m)\u001b[49m\n",
      "File \u001b[0;32m~/miniconda3/envs/scarches/lib/python3.9/multiprocessing/pool.py:212\u001b[0m, in \u001b[0;36mPool.__init__\u001b[0;34m(self, processes, initializer, initargs, maxtasksperchild, context)\u001b[0m\n\u001b[1;32m    210\u001b[0m \u001b[38;5;28mself\u001b[39m\u001b[38;5;241m.\u001b[39m_processes \u001b[38;5;241m=\u001b[39m processes\n\u001b[1;32m    211\u001b[0m \u001b[38;5;28;01mtry\u001b[39;00m:\n\u001b[0;32m--> 212\u001b[0m     \u001b[38;5;28;43mself\u001b[39;49m\u001b[38;5;241;43m.\u001b[39;49m\u001b[43m_repopulate_pool\u001b[49m\u001b[43m(\u001b[49m\u001b[43m)\u001b[49m\n\u001b[1;32m    213\u001b[0m \u001b[38;5;28;01mexcept\u001b[39;00m \u001b[38;5;167;01mException\u001b[39;00m:\n\u001b[1;32m    214\u001b[0m     \u001b[38;5;28;01mfor\u001b[39;00m p \u001b[38;5;129;01min\u001b[39;00m \u001b[38;5;28mself\u001b[39m\u001b[38;5;241m.\u001b[39m_pool:\n",
      "File \u001b[0;32m~/miniconda3/envs/scarches/lib/python3.9/multiprocessing/pool.py:303\u001b[0m, in \u001b[0;36mPool._repopulate_pool\u001b[0;34m(self)\u001b[0m\n\u001b[1;32m    302\u001b[0m \u001b[38;5;28;01mdef\u001b[39;00m \u001b[38;5;21m_repopulate_pool\u001b[39m(\u001b[38;5;28mself\u001b[39m):\n\u001b[0;32m--> 303\u001b[0m     \u001b[38;5;28;01mreturn\u001b[39;00m \u001b[38;5;28;43mself\u001b[39;49m\u001b[38;5;241;43m.\u001b[39;49m\u001b[43m_repopulate_pool_static\u001b[49m\u001b[43m(\u001b[49m\u001b[38;5;28;43mself\u001b[39;49m\u001b[38;5;241;43m.\u001b[39;49m\u001b[43m_ctx\u001b[49m\u001b[43m,\u001b[49m\u001b[43m \u001b[49m\u001b[38;5;28;43mself\u001b[39;49m\u001b[38;5;241;43m.\u001b[39;49m\u001b[43mProcess\u001b[49m\u001b[43m,\u001b[49m\n\u001b[1;32m    304\u001b[0m \u001b[43m                                        \u001b[49m\u001b[38;5;28;43mself\u001b[39;49m\u001b[38;5;241;43m.\u001b[39;49m\u001b[43m_processes\u001b[49m\u001b[43m,\u001b[49m\n\u001b[1;32m    305\u001b[0m \u001b[43m                                        \u001b[49m\u001b[38;5;28;43mself\u001b[39;49m\u001b[38;5;241;43m.\u001b[39;49m\u001b[43m_pool\u001b[49m\u001b[43m,\u001b[49m\u001b[43m \u001b[49m\u001b[38;5;28;43mself\u001b[39;49m\u001b[38;5;241;43m.\u001b[39;49m\u001b[43m_inqueue\u001b[49m\u001b[43m,\u001b[49m\n\u001b[1;32m    306\u001b[0m \u001b[43m                                        \u001b[49m\u001b[38;5;28;43mself\u001b[39;49m\u001b[38;5;241;43m.\u001b[39;49m\u001b[43m_outqueue\u001b[49m\u001b[43m,\u001b[49m\u001b[43m \u001b[49m\u001b[38;5;28;43mself\u001b[39;49m\u001b[38;5;241;43m.\u001b[39;49m\u001b[43m_initializer\u001b[49m\u001b[43m,\u001b[49m\n\u001b[1;32m    307\u001b[0m \u001b[43m                                        \u001b[49m\u001b[38;5;28;43mself\u001b[39;49m\u001b[38;5;241;43m.\u001b[39;49m\u001b[43m_initargs\u001b[49m\u001b[43m,\u001b[49m\n\u001b[1;32m    308\u001b[0m \u001b[43m                                        \u001b[49m\u001b[38;5;28;43mself\u001b[39;49m\u001b[38;5;241;43m.\u001b[39;49m\u001b[43m_maxtasksperchild\u001b[49m\u001b[43m,\u001b[49m\n\u001b[1;32m    309\u001b[0m \u001b[43m                                        \u001b[49m\u001b[38;5;28;43mself\u001b[39;49m\u001b[38;5;241;43m.\u001b[39;49m\u001b[43m_wrap_exception\u001b[49m\u001b[43m)\u001b[49m\n",
      "File \u001b[0;32m~/miniconda3/envs/scarches/lib/python3.9/multiprocessing/pool.py:326\u001b[0m, in \u001b[0;36mPool._repopulate_pool_static\u001b[0;34m(ctx, Process, processes, pool, inqueue, outqueue, initializer, initargs, maxtasksperchild, wrap_exception)\u001b[0m\n\u001b[1;32m    324\u001b[0m w\u001b[38;5;241m.\u001b[39mname \u001b[38;5;241m=\u001b[39m w\u001b[38;5;241m.\u001b[39mname\u001b[38;5;241m.\u001b[39mreplace(\u001b[38;5;124m'\u001b[39m\u001b[38;5;124mProcess\u001b[39m\u001b[38;5;124m'\u001b[39m, \u001b[38;5;124m'\u001b[39m\u001b[38;5;124mPoolWorker\u001b[39m\u001b[38;5;124m'\u001b[39m)\n\u001b[1;32m    325\u001b[0m w\u001b[38;5;241m.\u001b[39mdaemon \u001b[38;5;241m=\u001b[39m \u001b[38;5;28;01mTrue\u001b[39;00m\n\u001b[0;32m--> 326\u001b[0m \u001b[43mw\u001b[49m\u001b[38;5;241;43m.\u001b[39;49m\u001b[43mstart\u001b[49m\u001b[43m(\u001b[49m\u001b[43m)\u001b[49m\n\u001b[1;32m    327\u001b[0m pool\u001b[38;5;241m.\u001b[39mappend(w)\n\u001b[1;32m    328\u001b[0m util\u001b[38;5;241m.\u001b[39mdebug(\u001b[38;5;124m'\u001b[39m\u001b[38;5;124madded worker\u001b[39m\u001b[38;5;124m'\u001b[39m)\n",
      "File \u001b[0;32m~/miniconda3/envs/scarches/lib/python3.9/multiprocessing/process.py:121\u001b[0m, in \u001b[0;36mBaseProcess.start\u001b[0;34m(self)\u001b[0m\n\u001b[1;32m    118\u001b[0m \u001b[38;5;28;01massert\u001b[39;00m \u001b[38;5;129;01mnot\u001b[39;00m _current_process\u001b[38;5;241m.\u001b[39m_config\u001b[38;5;241m.\u001b[39mget(\u001b[38;5;124m'\u001b[39m\u001b[38;5;124mdaemon\u001b[39m\u001b[38;5;124m'\u001b[39m), \\\n\u001b[1;32m    119\u001b[0m        \u001b[38;5;124m'\u001b[39m\u001b[38;5;124mdaemonic processes are not allowed to have children\u001b[39m\u001b[38;5;124m'\u001b[39m\n\u001b[1;32m    120\u001b[0m _cleanup()\n\u001b[0;32m--> 121\u001b[0m \u001b[38;5;28mself\u001b[39m\u001b[38;5;241m.\u001b[39m_popen \u001b[38;5;241m=\u001b[39m \u001b[38;5;28;43mself\u001b[39;49m\u001b[38;5;241;43m.\u001b[39;49m\u001b[43m_Popen\u001b[49m\u001b[43m(\u001b[49m\u001b[38;5;28;43mself\u001b[39;49m\u001b[43m)\u001b[49m\n\u001b[1;32m    122\u001b[0m \u001b[38;5;28mself\u001b[39m\u001b[38;5;241m.\u001b[39m_sentinel \u001b[38;5;241m=\u001b[39m \u001b[38;5;28mself\u001b[39m\u001b[38;5;241m.\u001b[39m_popen\u001b[38;5;241m.\u001b[39msentinel\n\u001b[1;32m    123\u001b[0m \u001b[38;5;66;03m# Avoid a refcycle if the target function holds an indirect\u001b[39;00m\n\u001b[1;32m    124\u001b[0m \u001b[38;5;66;03m# reference to the process object (see bpo-30775)\u001b[39;00m\n",
      "File \u001b[0;32m~/miniconda3/envs/scarches/lib/python3.9/multiprocessing/context.py:277\u001b[0m, in \u001b[0;36mForkProcess._Popen\u001b[0;34m(process_obj)\u001b[0m\n\u001b[1;32m    274\u001b[0m \u001b[38;5;129m@staticmethod\u001b[39m\n\u001b[1;32m    275\u001b[0m \u001b[38;5;28;01mdef\u001b[39;00m \u001b[38;5;21m_Popen\u001b[39m(process_obj):\n\u001b[1;32m    276\u001b[0m     \u001b[38;5;28;01mfrom\u001b[39;00m \u001b[38;5;21;01m.\u001b[39;00m\u001b[38;5;21;01mpopen_fork\u001b[39;00m \u001b[38;5;28;01mimport\u001b[39;00m Popen\n\u001b[0;32m--> 277\u001b[0m     \u001b[38;5;28;01mreturn\u001b[39;00m \u001b[43mPopen\u001b[49m\u001b[43m(\u001b[49m\u001b[43mprocess_obj\u001b[49m\u001b[43m)\u001b[49m\n",
      "File \u001b[0;32m~/miniconda3/envs/scarches/lib/python3.9/multiprocessing/popen_fork.py:19\u001b[0m, in \u001b[0;36mPopen.__init__\u001b[0;34m(self, process_obj)\u001b[0m\n\u001b[1;32m     17\u001b[0m \u001b[38;5;28mself\u001b[39m\u001b[38;5;241m.\u001b[39mreturncode \u001b[38;5;241m=\u001b[39m \u001b[38;5;28;01mNone\u001b[39;00m\n\u001b[1;32m     18\u001b[0m \u001b[38;5;28mself\u001b[39m\u001b[38;5;241m.\u001b[39mfinalizer \u001b[38;5;241m=\u001b[39m \u001b[38;5;28;01mNone\u001b[39;00m\n\u001b[0;32m---> 19\u001b[0m \u001b[38;5;28;43mself\u001b[39;49m\u001b[38;5;241;43m.\u001b[39;49m\u001b[43m_launch\u001b[49m\u001b[43m(\u001b[49m\u001b[43mprocess_obj\u001b[49m\u001b[43m)\u001b[49m\n",
      "File \u001b[0;32m~/miniconda3/envs/scarches/lib/python3.9/multiprocessing/popen_fork.py:66\u001b[0m, in \u001b[0;36mPopen._launch\u001b[0;34m(self, process_obj)\u001b[0m\n\u001b[1;32m     64\u001b[0m parent_r, child_w \u001b[38;5;241m=\u001b[39m os\u001b[38;5;241m.\u001b[39mpipe()\n\u001b[1;32m     65\u001b[0m child_r, parent_w \u001b[38;5;241m=\u001b[39m os\u001b[38;5;241m.\u001b[39mpipe()\n\u001b[0;32m---> 66\u001b[0m \u001b[38;5;28mself\u001b[39m\u001b[38;5;241m.\u001b[39mpid \u001b[38;5;241m=\u001b[39m \u001b[43mos\u001b[49m\u001b[38;5;241;43m.\u001b[39;49m\u001b[43mfork\u001b[49m\u001b[43m(\u001b[49m\u001b[43m)\u001b[49m\n\u001b[1;32m     67\u001b[0m \u001b[38;5;28;01mif\u001b[39;00m \u001b[38;5;28mself\u001b[39m\u001b[38;5;241m.\u001b[39mpid \u001b[38;5;241m==\u001b[39m \u001b[38;5;241m0\u001b[39m:\n\u001b[1;32m     68\u001b[0m     \u001b[38;5;28;01mtry\u001b[39;00m:\n",
      "\u001b[0;31mOSError\u001b[0m: [Errno 12] Cannot allocate memory"
     ]
    }
   ],
   "source": [
    "pool = Pool(10)\n",
    "results = pool.map(count_metrics, dt_list)\n",
    "pool.close()\n",
    "pool.join()"
   ]
  },
  {
   "cell_type": "code",
   "execution_count": null,
   "id": "9cd91ab4-7b13-4f30-be07-c2e8cf3ffefc",
   "metadata": {},
   "outputs": [],
   "source": []
  }
 ],
 "metadata": {
  "kernelspec": {
   "display_name": "Python 3 (ipykernel)",
   "language": "python",
   "name": "python3"
  },
  "language_info": {
   "codemirror_mode": {
    "name": "ipython",
    "version": 3
   },
   "file_extension": ".py",
   "mimetype": "text/x-python",
   "name": "python",
   "nbconvert_exporter": "python",
   "pygments_lexer": "ipython3",
   "version": "3.8.17"
  }
 },
 "nbformat": 4,
 "nbformat_minor": 5
}
