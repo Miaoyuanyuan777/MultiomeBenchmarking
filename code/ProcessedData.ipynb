{
 "cells": [
  {
   "cell_type": "code",
   "execution_count": 3,
   "id": "9739544d-9cb7-4324-96b8-f08c1db71fa0",
   "metadata": {},
   "outputs": [],
   "source": [
    "atac = readRDS(\"rawdata/GSM6062731_retina_10x.atac.RDS\")"
   ]
  },
  {
   "cell_type": "code",
   "execution_count": 4,
   "id": "7780beb8-8c5a-4a24-839f-b55e9593f725",
   "metadata": {},
   "outputs": [],
   "source": [
    "rna = readRDS(\"rawdata/GSM6062732_retina_10x.rna.RDS\")"
   ]
  },
  {
   "cell_type": "code",
   "execution_count": 5,
   "id": "b0e455f9-9bed-43e5-bffa-00bbc8ada17c",
   "metadata": {},
   "outputs": [],
   "source": [
    "multiome = readRDS(\"rawdata/GSM6062732_multiomics_mouse_wt_GeneExpression_Peaks_lists.RDS\")"
   ]
  },
  {
   "cell_type": "code",
   "execution_count": 20,
   "id": "44247ac2-4921-4f7a-a7da-7fad9a532aea",
   "metadata": {},
   "outputs": [],
   "source": [
    "ing = intersect(atac@assays$ATAC@counts@Dimnames[2][[1]], rna@assays$RNA@counts@Dimnames[2][[1]])"
   ]
  },
  {
   "cell_type": "code",
   "execution_count": 18,
   "id": "7249f349-5f5b-468f-b66a-c50ded25c109",
   "metadata": {},
   "outputs": [
    {
     "name": "stdout",
     "output_type": "stream",
     "text": [
      "List of 2\n",
      " $ Gene Expression:Formal class 'dgCMatrix' [package \"Matrix\"] with 6 slots\n",
      "  .. ..@ i       : int [1:12528771] 16 19 39 50 59 63 64 110 120 123 ...\n",
      "  .. ..@ p       : int [1:10445] 0 2104 4544 5069 5635 9861 10674 11982 12460 13442 ...\n",
      "  .. ..@ Dim     : int [1:2] 32285 10444\n",
      "  .. ..@ Dimnames:List of 2\n",
      "  .. .. ..$ : chr [1:32285] \"Xkr4\" \"Gm1992\" \"Gm19938\" \"Gm37381\" ...\n",
      "  .. .. ..$ : chr [1:10444] \"AAACAGCCAACTCGCG-1\" \"AAACAGCCAAGGTGGC-1\" \"AAACAGCCAGCAAATA-1\" \"AAACAGCCAGCTCATA-1\" ...\n",
      "  .. ..@ x       : num [1:12528771] 1 4 1 2 26 3 1 3 1 1 ...\n",
      "  .. ..@ factors : list()\n",
      " $ Peaks          :Formal class 'dgCMatrix' [package \"Matrix\"] with 6 slots\n",
      "  .. ..@ i       : int [1:32352736] 25 28 32 69 79 90 223 309 320 337 ...\n",
      "  .. ..@ p       : int [1:10445] 0 2798 3544 4248 6471 16511 19294 23854 26578 28125 ...\n",
      "  .. ..@ Dim     : int [1:2] 89636 10444\n",
      "  .. ..@ Dimnames:List of 2\n",
      "  .. .. ..$ : chr [1:89636] \"chr1:3210414-3210481\" \"chr1:3360870-3361295\" \"chr1:3447396-3447625\" \"chr1:3508638-3508830\" ...\n",
      "  .. .. ..$ : chr [1:10444] \"AAACAGCCAACTCGCG-1\" \"AAACAGCCAAGGTGGC-1\" \"AAACAGCCAGCAAATA-1\" \"AAACAGCCAGCTCATA-1\" ...\n",
      "  .. ..@ x       : num [1:32352736] 2 2 2 2 2 2 2 2 2 2 ...\n",
      "  .. ..@ factors : list()\n"
     ]
    }
   ],
   "source": [
    "str(multiome)"
   ]
  },
  {
   "cell_type": "code",
   "execution_count": 24,
   "id": "1a4d3e12-81fb-4742-b9e9-df4f700770ce",
   "metadata": {},
   "outputs": [
    {
     "data": {
      "text/html": [
       "9383"
      ],
      "text/latex": [
       "9383"
      ],
      "text/markdown": [
       "9383"
      ],
      "text/plain": [
       "[1] 9383"
      ]
     },
     "metadata": {},
     "output_type": "display_data"
    }
   ],
   "source": [
    "length(intersect(multiome$Peaks@Dimnames[2][[1]],ing))"
   ]
  },
  {
   "cell_type": "code",
   "execution_count": 25,
   "id": "7bc16166-7a84-4544-9383-8040653516af",
   "metadata": {},
   "outputs": [
    {
     "name": "stdout",
     "output_type": "stream",
     "text": [
      "Formal class 'Seurat' [package \"Seurat\"] with 13 slots\n"
     ]
    },
    {
     "name": "stderr",
     "output_type": "stream",
     "text": [
      "Warning message:\n",
      "“Not a validObject(): no slot of name \"images\" for this object of class \"Seurat\"”\n"
     ]
    },
    {
     "name": "stdout",
     "output_type": "stream",
     "text": [
      "  ..@ assays      :List of 2\n",
      "  .. ..$ ATAC    :Formal class 'Assay' [package \"Seurat\"] with 8 slots\n"
     ]
    },
    {
     "name": "stderr",
     "output_type": "stream",
     "text": [
      "Warning message:\n",
      "“Not a validObject(): no slot of name \"assay.orig\" for this object of class \"Assay\"”\n"
     ]
    },
    {
     "name": "stdout",
     "output_type": "stream",
     "text": [
      "  .. .. .. ..@ counts       :Formal class 'dgCMatrix' [package \"Matrix\"] with 6 slots\n",
      "  .. .. .. .. .. ..@ i       : int [1:29348849] 16 19 23 43 49 57 132 190 196 204 ...\n",
      "  .. .. .. .. .. ..@ p       : int [1:9384] 0 2643 3378 4069 6244 15660 18403 22579 24104 25229 ...\n",
      "  .. .. .. .. .. ..@ Dim     : int [1:2] 59353 9383\n",
      "  .. .. .. .. .. ..@ Dimnames:List of 2\n",
      "  .. .. .. .. .. .. ..$ : chr [1:59353] \"chr1:3360870-3361295\" \"chr1:3514585-3515131\" \"chr1:3670540-3672512\" \"chr1:3934269-3934668\" ...\n",
      "  .. .. .. .. .. .. ..$ : chr [1:9383] \"AAACAGCCAACTCGCG-1\" \"AAACAGCCAAGGTGGC-1\" \"AAACAGCCAGCAAATA-1\" \"AAACAGCCAGCTCATA-1\" ...\n",
      "  .. .. .. .. .. ..@ x       : num [1:29348849] 2 2 2 2 2 2 2 2 2 2 ...\n",
      "  .. .. .. .. .. ..@ factors : list()\n",
      "  .. .. .. ..@ data         :Formal class 'dgCMatrix' [package \"Matrix\"] with 6 slots\n",
      "  .. .. .. .. .. ..@ i       : int [1:29348849] 16 19 23 43 49 57 132 190 196 204 ...\n",
      "  .. .. .. .. .. ..@ p       : int [1:9384] 0 2643 3378 4069 6244 15660 18403 22579 24104 25229 ...\n",
      "  .. .. .. .. .. ..@ Dim     : int [1:2] 59353 9383\n",
      "  .. .. .. .. .. ..@ Dimnames:List of 2\n",
      "  .. .. .. .. .. .. ..$ : chr [1:59353] \"chr1:3360870-3361295\" \"chr1:3514585-3515131\" \"chr1:3670540-3672512\" \"chr1:3934269-3934668\" ...\n",
      "  .. .. .. .. .. .. ..$ : chr [1:9383] \"AAACAGCCAACTCGCG-1\" \"AAACAGCCAAGGTGGC-1\" \"AAACAGCCAGCAAATA-1\" \"AAACAGCCAGCTCATA-1\" ...\n",
      "  .. .. .. .. .. ..@ x       : num [1:29348849] 2 2 2 2 2 2 2 2 2 2 ...\n",
      "  .. .. .. .. .. ..@ factors : list()\n",
      "  .. .. .. ..@ scale.data   : num[0 , 0 ] \n",
      "  .. .. .. ..@ key          : chr \"atac_\"\n",
      "  .. .. .. ..@ var.features : chr [1:59353] \"chr1:3360870-3361295\" \"chr1:3514585-3515131\" \"chr1:3670540-3672512\" \"chr1:3934269-3934668\" ...\n",
      "  .. .. .. ..@ meta.features:'data.frame':\t59353 obs. of  0 variables\n",
      "  .. .. .. ..@ misc         : symbol \u0001NULL\u0001\n",
      "  .. .. .. ..@ NA           : NULL\n",
      "  .. ..$ ACTIVITY:Formal class 'Assay' [package \"Seurat\"] with 8 slots\n"
     ]
    },
    {
     "name": "stderr",
     "output_type": "stream",
     "text": [
      "Warning message:\n",
      "“Not a validObject(): no slot of name \"assay.orig\" for this object of class \"Assay\"”\n"
     ]
    },
    {
     "name": "stdout",
     "output_type": "stream",
     "text": [
      "  .. .. .. ..@ counts       :Formal class 'dgCMatrix' [package \"Matrix\"] with 6 slots\n",
      "  .. .. .. .. .. ..@ i       : int [1:23196633] 4 5 6 16 19 24 69 71 83 86 ...\n",
      "  .. .. .. .. .. ..@ p       : int [1:9384] 0 2168 2830 3423 5243 11880 14181 17288 18626 19601 ...\n",
      "  .. .. .. .. .. ..@ Dim     : int [1:2] 16928 9383\n",
      "  .. .. .. .. .. ..@ Dimnames:List of 2\n",
      "  .. .. .. .. .. .. ..$ : chr [1:16928] \"Xkr4\" \"RP23-333I7.1\" \"Rp1\" \"Sox17\" ...\n",
      "  .. .. .. .. .. .. ..$ : chr [1:9383] \"AAACAGCCAACTCGCG-1\" \"AAACAGCCAAGGTGGC-1\" \"AAACAGCCAGCAAATA-1\" \"AAACAGCCAGCTCATA-1\" ...\n",
      "  .. .. .. .. .. ..@ x       : num [1:23196633] 2 2 2 2 2 2 2 2 4 1 ...\n",
      "  .. .. .. .. .. ..@ factors : list()\n",
      "  .. .. .. ..@ data         :Formal class 'dgCMatrix' [package \"Matrix\"] with 6 slots\n",
      "  .. .. .. .. .. ..@ i       : int [1:23196633] 4 5 6 16 19 24 69 71 83 86 ...\n",
      "  .. .. .. .. .. ..@ p       : int [1:9384] 0 2168 2830 3423 5243 11880 14181 17288 18626 19601 ...\n",
      "  .. .. .. .. .. ..@ Dim     : int [1:2] 16928 9383\n",
      "  .. .. .. .. .. ..@ Dimnames:List of 2\n",
      "  .. .. .. .. .. .. ..$ : chr [1:16928] \"Xkr4\" \"RP23-333I7.1\" \"Rp1\" \"Sox17\" ...\n",
      "  .. .. .. .. .. .. ..$ : chr [1:9383] \"AAACAGCCAACTCGCG-1\" \"AAACAGCCAAGGTGGC-1\" \"AAACAGCCAGCAAATA-1\" \"AAACAGCCAGCTCATA-1\" ...\n",
      "  .. .. .. .. .. ..@ x       : num [1:23196633] 1.58 1.58 1.58 1.58 1.58 ...\n",
      "  .. .. .. .. .. ..@ factors : list()\n",
      "  .. .. .. ..@ scale.data   : num [1:6275, 1:9383] -0.07786 -0.02318 -0.02678 -0.49832 -0.00574 ...\n",
      "  .. .. .. .. ..- attr(*, \"dimnames\")=List of 2\n",
      "  .. .. .. .. .. ..$ : chr [1:6275] \"Xkr4\" \"Sox17\" \"St18\" \"Pcmtd1\" ...\n",
      "  .. .. .. .. .. ..$ : chr [1:9383] \"AAACAGCCAACTCGCG-1\" \"AAACAGCCAAGGTGGC-1\" \"AAACAGCCAGCAAATA-1\" \"AAACAGCCAGCTCATA-1\" ...\n",
      "  .. .. .. ..@ key          : chr \"activity_\"\n",
      "  .. .. .. ..@ var.features : chr [1:5000] \"Gm10800\" \"Foxc1\" \"RP23-81C12.1\" \"Gm10801\" ...\n",
      "  .. .. .. ..@ meta.features:'data.frame':\t16928 obs. of  5 variables:\n",
      "  .. .. .. .. ..$ vst.mean                 : num [1:16928] 0.1672 0.0132 1.3808 0.0464 0.3085 ...\n",
      "  .. .. .. .. ..$ vst.variance             : num [1:16928] 0.5761 0.0275 6.4328 0.1463 0.825 ...\n",
      "  .. .. .. .. ..$ vst.variance.expected    : num [1:16928] 0.4476 0.0272 5.9531 0.1095 0.8712 ...\n",
      "  .. .. .. .. ..$ vst.variance.standardized: num [1:16928] 1.287 1.013 1.081 1.336 0.947 ...\n",
      "  .. .. .. .. ..$ vst.variable             : logi [1:16928] TRUE FALSE TRUE TRUE FALSE FALSE ...\n",
      "  .. .. .. ..@ misc         : symbol \u0001NULL\u0001\n",
      "  .. .. .. ..@ NA           : NULL\n",
      "  ..@ meta.data   :'data.frame':\t9383 obs. of  8 variables:\n",
      "  .. ..$ orig.ident          : Factor w/ 1 level \"retina\": 1 1 1 1 1 1 1 1 1 1 ...\n",
      "  .. ..$ nCount_ATAC         : num [1:9383] 5831 1506 1456 4997 25634 ...\n",
      "  .. ..$ nFeature_ATAC       : int [1:9383] 2643 735 691 2175 9416 2743 4176 1525 1125 5672 ...\n",
      "  .. ..$ nCount_ACTIVITY     : num [1:9383] 5211 1394 1294 4579 22756 ...\n",
      "  .. ..$ nFeature_ACTIVITY   : int [1:9383] 2168 662 593 1820 6637 2301 3107 1338 975 4306 ...\n",
      "  .. ..$ ACTIVITY_snn_res.0.5: Factor w/ 19 levels \"0\",\"1\",\"2\",\"3\",..: 11 2 2 1 8 3 7 1 2 9 ...\n",
      "  .. ..$ seurat_clusters     : Factor w/ 19 levels \"0\",\"1\",\"2\",\"3\",..: 11 2 2 1 8 3 7 1 2 9 ...\n",
      "  .. ..$ ATAC_snn_res.0.5    : Factor w/ 19 levels \"0\",\"1\",\"2\",\"3\",..: 8 1 1 1 7 1 5 1 1 6 ...\n",
      "  ..@ active.assay: chr \"ACTIVITY\"\n",
      "  ..@ active.ident: Factor w/ 16 levels \"BC4\",\"BC2\",\"rod\",..: 1 2 3 3 2 3 4 3 3 5 ...\n",
      "  .. ..- attr(*, \"names\")= chr [1:9383] \"AAACAGCCAACTCGCG-1\" \"AAACAGCCAAGGTGGC-1\" \"AAACAGCCAGCAAATA-1\" \"AAACAGCCAGCTCATA-1\" ...\n",
      "  ..@ graphs      :List of 4\n",
      "  .. ..$ ACTIVITY_nn :Formal class 'Graph' [package \"Seurat\"] with 7 slots\n"
     ]
    },
    {
     "name": "stderr",
     "output_type": "stream",
     "text": [
      "Warning message:\n",
      "“Not a validObject(): no slot of name \"assay.used\" for this object of class \"Graph\"”\n"
     ]
    },
    {
     "name": "stdout",
     "output_type": "stream",
     "text": [
      "  .. .. .. ..@ i       : int [1:187660] 0 1624 1850 2202 3231 4827 5102 5292 6400 6818 ...\n",
      "  .. .. .. ..@ p       : int [1:9384] 0 15 26 36 67 80 105 118 126 131 ...\n",
      "  .. .. .. ..@ Dim     : int [1:2] 9383 9383\n",
      "  .. .. .. ..@ Dimnames:List of 2\n",
      "  .. .. .. .. ..$ : chr [1:9383] \"AAACAGCCAACTCGCG-1\" \"AAACAGCCAAGGTGGC-1\" \"AAACAGCCAGCAAATA-1\" \"AAACAGCCAGCTCATA-1\" ...\n",
      "  .. .. .. .. ..$ : chr [1:9383] \"AAACAGCCAACTCGCG-1\" \"AAACAGCCAAGGTGGC-1\" \"AAACAGCCAGCAAATA-1\" \"AAACAGCCAGCTCATA-1\" ...\n",
      "  .. .. .. ..@ x       : num [1:187660] 1 1 1 1 1 1 1 1 1 1 ...\n",
      "  .. .. .. ..@ factors : list()\n",
      "  .. .. .. ..@ NA      : NULL\n",
      "  .. ..$ ACTIVITY_snn:Formal class 'Graph' [package \"Seurat\"] with 7 slots\n"
     ]
    },
    {
     "name": "stderr",
     "output_type": "stream",
     "text": [
      "Warning message:\n",
      "“Not a validObject(): no slot of name \"assay.used\" for this object of class \"Graph\"”\n"
     ]
    },
    {
     "name": "stdout",
     "output_type": "stream",
     "text": [
      "  .. .. .. ..@ i       : int [1:599297] 0 150 226 301 382 444 579 585 682 701 ...\n",
      "  .. .. .. ..@ p       : int [1:9384] 0 83 120 183 267 336 411 457 518 564 ...\n",
      "  .. .. .. ..@ Dim     : int [1:2] 9383 9383\n",
      "  .. .. .. ..@ Dimnames:List of 2\n",
      "  .. .. .. .. ..$ : chr [1:9383] \"AAACAGCCAACTCGCG-1\" \"AAACAGCCAAGGTGGC-1\" \"AAACAGCCAGCAAATA-1\" \"AAACAGCCAGCTCATA-1\" ...\n",
      "  .. .. .. .. ..$ : chr [1:9383] \"AAACAGCCAACTCGCG-1\" \"AAACAGCCAAGGTGGC-1\" \"AAACAGCCAGCAAATA-1\" \"AAACAGCCAGCTCATA-1\" ...\n",
      "  .. .. .. ..@ x       : num [1:599297] 1 0.1429 0.1111 0.1111 0.0811 ...\n",
      "  .. .. .. ..@ factors : list()\n",
      "  .. .. .. ..@ NA      : NULL\n",
      "  .. ..$ ATAC_nn     :Formal class 'Graph' [package \"Seurat\"] with 7 slots\n"
     ]
    },
    {
     "name": "stderr",
     "output_type": "stream",
     "text": [
      "Warning message:\n",
      "“Not a validObject(): no slot of name \"assay.used\" for this object of class \"Graph\"”\n"
     ]
    },
    {
     "name": "stdout",
     "output_type": "stream",
     "text": [
      "  .. .. .. ..@ i       : int [1:187660] 0 950 1415 3228 3958 4215 5292 6818 7733 1 ...\n",
      "  .. .. .. ..@ p       : int [1:9384] 0 9 25 32 57 77 97 110 119 128 ...\n",
      "  .. .. .. ..@ Dim     : int [1:2] 9383 9383\n",
      "  .. .. .. ..@ Dimnames:List of 2\n",
      "  .. .. .. .. ..$ : chr [1:9383] \"AAACAGCCAACTCGCG-1\" \"AAACAGCCAAGGTGGC-1\" \"AAACAGCCAGCAAATA-1\" \"AAACAGCCAGCTCATA-1\" ...\n",
      "  .. .. .. .. ..$ : chr [1:9383] \"AAACAGCCAACTCGCG-1\" \"AAACAGCCAAGGTGGC-1\" \"AAACAGCCAGCAAATA-1\" \"AAACAGCCAGCTCATA-1\" ...\n",
      "  .. .. .. ..@ x       : num [1:187660] 1 1 1 1 1 1 1 1 1 1 ...\n",
      "  .. .. .. ..@ factors : list()\n",
      "  .. .. .. ..@ NA      : NULL\n",
      "  .. ..$ ATAC_snn    :Formal class 'Graph' [package \"Seurat\"] with 7 slots\n"
     ]
    },
    {
     "name": "stderr",
     "output_type": "stream",
     "text": [
      "Warning message:\n",
      "“Not a validObject(): no slot of name \"assay.used\" for this object of class \"Graph\"”\n"
     ]
    },
    {
     "name": "stdout",
     "output_type": "stream",
     "text": [
      "  .. .. .. ..@ i       : int [1:507351] 0 150 226 247 301 382 444 579 585 682 ...\n",
      "  .. .. .. ..@ p       : int [1:9384] 0 113 169 207 246 324 356 391 427 475 ...\n",
      "  .. .. .. ..@ Dim     : int [1:2] 9383 9383\n",
      "  .. .. .. ..@ Dimnames:List of 2\n",
      "  .. .. .. .. ..$ : chr [1:9383] \"AAACAGCCAACTCGCG-1\" \"AAACAGCCAAGGTGGC-1\" \"AAACAGCCAGCAAATA-1\" \"AAACAGCCAGCTCATA-1\" ...\n",
      "  .. .. .. .. ..$ : chr [1:9383] \"AAACAGCCAACTCGCG-1\" \"AAACAGCCAAGGTGGC-1\" \"AAACAGCCAGCAAATA-1\" \"AAACAGCCAGCTCATA-1\" ...\n",
      "  .. .. .. ..@ x       : num [1:507351] 1 0.212 0.176 0.143 0.111 ...\n",
      "  .. .. .. ..@ factors : list()\n",
      "  .. .. .. ..@ NA      : NULL\n",
      "  ..@ neighbors   : list()\n",
      "  ..@ reductions  :List of 4\n",
      "  .. ..$ pca      :Formal class 'DimReduc' [package \"Seurat\"] with 9 slots\n"
     ]
    },
    {
     "name": "stderr",
     "output_type": "stream",
     "text": [
      "Warning message:\n",
      "“Not a validObject(): no slot of name \"global\" for this object of class \"DimReduc\"”\n"
     ]
    },
    {
     "name": "stdout",
     "output_type": "stream",
     "text": [
      "  .. .. .. ..@ cell.embeddings           : num [1:9383, 1:50] -3.24 10.31 10.99 1.21 -14.27 ...\n",
      "  .. .. .. .. ..- attr(*, \"dimnames\")=List of 2\n",
      "  .. .. .. .. .. ..$ : chr [1:9383] \"AAACAGCCAACTCGCG-1\" \"AAACAGCCAAGGTGGC-1\" \"AAACAGCCAGCAAATA-1\" \"AAACAGCCAGCTCATA-1\" ...\n",
      "  .. .. .. .. .. ..$ : chr [1:50] \"PC_1\" \"PC_2\" \"PC_3\" \"PC_4\" ...\n",
      "  .. .. .. ..@ feature.loadings          : num [1:6275, 1:50] -0.00175 -0.00292 -0.00355 -0.00141 -0.0108 ...\n",
      "  .. .. .. .. ..- attr(*, \"dimnames\")=List of 2\n",
      "  .. .. .. .. .. ..$ : chr [1:6275] \"Foxc1\" \"Gm10801\" \"Esam\" \"Pdk4\" ...\n",
      "  .. .. .. .. .. ..$ : chr [1:50] \"PC_1\" \"PC_2\" \"PC_3\" \"PC_4\" ...\n",
      "  .. .. .. ..@ feature.loadings.projected: num[0 , 0 ] \n",
      "  .. .. .. ..@ assay.used                : chr \"ACTIVITY\"\n",
      "  .. .. .. ..@ stdev                     : num [1:50] 7.08 5.34 2.57 1.58 1.48 ...\n",
      "  .. .. .. ..@ key                       : chr \"PC_\"\n",
      "  .. .. .. ..@ jackstraw                 :Formal class 'JackStrawData' [package \"Seurat\"] with 4 slots\n",
      "  .. .. .. .. .. ..@ empirical.p.values     : num[0 , 0 ] \n",
      "  .. .. .. .. .. ..@ fake.reduction.scores  : num[0 , 0 ] \n",
      "  .. .. .. .. .. ..@ empirical.p.values.full: num[0 , 0 ] \n",
      "  .. .. .. .. .. ..@ overall.p.values       : num[0 , 0 ] \n",
      "  .. .. .. ..@ misc                      :List of 1\n",
      "  .. .. .. .. ..$ total.variance: num 1479\n",
      "  .. .. .. ..@ NA                        : NULL\n",
      "  .. ..$ umap     :Formal class 'DimReduc' [package \"Seurat\"] with 9 slots\n"
     ]
    },
    {
     "name": "stderr",
     "output_type": "stream",
     "text": [
      "Warning message:\n",
      "“Not a validObject(): no slot of name \"global\" for this object of class \"DimReduc\"”\n"
     ]
    },
    {
     "name": "stdout",
     "output_type": "stream",
     "text": [
      "  .. .. .. ..@ cell.embeddings           : num [1:9383, 1:2] 10.304 -1.192 -1.894 0.426 8.245 ...\n",
      "  .. .. .. .. ..- attr(*, \"scaled:center\")= num [1:2] -0.133 3.813\n",
      "  .. .. .. .. ..- attr(*, \"dimnames\")=List of 2\n",
      "  .. .. .. .. .. ..$ : chr [1:9383] \"AAACAGCCAACTCGCG-1\" \"AAACAGCCAAGGTGGC-1\" \"AAACAGCCAGCAAATA-1\" \"AAACAGCCAGCTCATA-1\" ...\n",
      "  .. .. .. .. .. ..$ : chr [1:2] \"UMAP_1\" \"UMAP_2\"\n",
      "  .. .. .. ..@ feature.loadings          : num[0 , 0 ] \n",
      "  .. .. .. ..@ feature.loadings.projected: num[0 , 0 ] \n",
      "  .. .. .. ..@ assay.used                : chr \"ATAC\"\n",
      "  .. .. .. ..@ stdev                     : num(0) \n",
      "  .. .. .. ..@ key                       : chr \"UMAP_\"\n",
      "  .. .. .. ..@ jackstraw                 :Formal class 'JackStrawData' [package \"Seurat\"] with 4 slots\n",
      "  .. .. .. .. .. ..@ empirical.p.values     : num[0 , 0 ] \n",
      "  .. .. .. .. .. ..@ fake.reduction.scores  : num[0 , 0 ] \n",
      "  .. .. .. .. .. ..@ empirical.p.values.full: num[0 , 0 ] \n",
      "  .. .. .. .. .. ..@ overall.p.values       : num[0 , 0 ] \n",
      "  .. .. .. ..@ misc                      : list()\n",
      "  .. .. .. ..@ NA                        : NULL\n",
      "  .. ..$ lsi      :Formal class 'DimReduc' [package \"Seurat\"] with 9 slots\n"
     ]
    },
    {
     "name": "stderr",
     "output_type": "stream",
     "text": [
      "Warning message:\n",
      "“Not a validObject(): no slot of name \"global\" for this object of class \"DimReduc\"”\n"
     ]
    },
    {
     "name": "stdout",
     "output_type": "stream",
     "text": [
      "  .. .. .. ..@ cell.embeddings           : num [1:9383, 1:50] 0.544 0.758 0.75 0.946 0.933 ...\n",
      "  .. .. .. .. ..- attr(*, \"dimnames\")=List of 2\n",
      "  .. .. .. .. .. ..$ : chr [1:9383] \"AAACAGCCAACTCGCG-1\" \"AAACAGCCAAGGTGGC-1\" \"AAACAGCCAGCAAATA-1\" \"AAACAGCCAGCTCATA-1\" ...\n",
      "  .. .. .. .. .. ..$ : chr [1:50] \"LSI_1\" \"LSI_2\" \"LSI_3\" \"LSI_4\" ...\n",
      "  .. .. .. ..@ feature.loadings          : num [1:59353, 1:50] 0.000824 0.000963 0.00262 0.001521 0.002392 ...\n",
      "  .. .. .. .. ..- attr(*, \"dimnames\")=List of 2\n",
      "  .. .. .. .. .. ..$ : chr [1:59353] \"chr1:3360870-3361295\" \"chr1:3514585-3515131\" \"chr1:3670540-3672512\" \"chr1:3934269-3934668\" ...\n",
      "  .. .. .. .. .. ..$ : chr [1:50] \"LSI_1\" \"LSI_2\" \"LSI_3\" \"LSI_4\" ...\n",
      "  .. .. .. ..@ feature.loadings.projected: num[0 , 0 ] \n",
      "  .. .. .. ..@ assay.used                : chr \"ATAC\"\n",
      "  .. .. .. ..@ stdev                     : num [1:50] 6.293 2.363 1.609 0.962 0.87 ...\n",
      "  .. .. .. ..@ key                       : chr \"LSI_\"\n",
      "  .. .. .. ..@ jackstraw                 :Formal class 'JackStrawData' [package \"Seurat\"] with 4 slots\n",
      "  .. .. .. .. .. ..@ empirical.p.values     : num[0 , 0 ] \n",
      "  .. .. .. .. .. ..@ fake.reduction.scores  : num[0 , 0 ] \n",
      "  .. .. .. .. .. ..@ empirical.p.values.full: num[0 , 0 ] \n",
      "  .. .. .. .. .. ..@ overall.p.values       : num[0 , 0 ] \n",
      "  .. .. .. ..@ misc                      : list()\n",
      "  .. .. .. ..@ NA                        : NULL\n",
      "  .. ..$ gene.umap:Formal class 'DimReduc' [package \"Seurat\"] with 9 slots\n"
     ]
    },
    {
     "name": "stderr",
     "output_type": "stream",
     "text": [
      "Warning message:\n",
      "“Not a validObject(): no slot of name \"global\" for this object of class \"DimReduc\"”\n"
     ]
    },
    {
     "name": "stdout",
     "output_type": "stream",
     "text": [
      "  .. .. .. ..@ cell.embeddings           : num [1:9383, 1:2] 7.8 5.3 4.22 -2.4 8.07 ...\n",
      "  .. .. .. .. ..- attr(*, \"scaled:center\")= num [1:2] -4.34 -3.43\n",
      "  .. .. .. .. ..- attr(*, \"dimnames\")=List of 2\n",
      "  .. .. .. .. .. ..$ : chr [1:9383] \"AAACAGCCAACTCGCG-1\" \"AAACAGCCAAGGTGGC-1\" \"AAACAGCCAGCAAATA-1\" \"AAACAGCCAGCTCATA-1\" ...\n",
      "  .. .. .. .. .. ..$ : chr [1:2] \"gene.umap_1\" \"gene.umap_2\"\n",
      "  .. .. .. ..@ feature.loadings          : num[0 , 0 ] \n",
      "  .. .. .. ..@ feature.loadings.projected: num[0 , 0 ] \n",
      "  .. .. .. ..@ assay.used                : chr \"ACTIVITY\"\n",
      "  .. .. .. ..@ stdev                     : num(0) \n",
      "  .. .. .. ..@ key                       : chr \"gene.umap_\"\n",
      "  .. .. .. ..@ jackstraw                 :Formal class 'JackStrawData' [package \"Seurat\"] with 4 slots\n",
      "  .. .. .. .. .. ..@ empirical.p.values     : num[0 , 0 ] \n",
      "  .. .. .. .. .. ..@ fake.reduction.scores  : num[0 , 0 ] \n",
      "  .. .. .. .. .. ..@ empirical.p.values.full: num[0 , 0 ] \n",
      "  .. .. .. .. .. ..@ overall.p.values       : num[0 , 0 ] \n",
      "  .. .. .. ..@ misc                      : list()\n",
      "  .. .. .. ..@ NA                        : NULL\n",
      "  ..@ project.name: chr \"retina\"\n",
      "  ..@ misc        : list()\n",
      "  ..@ version     :Classes 'package_version', 'numeric_version'  hidden list of 1\n",
      "  .. ..$ : int [1:3] 3 1 1\n",
      "  ..@ commands    :List of 11\n",
      "  .. ..$ NormalizeData.ACTIVITY       :Formal class 'SeuratCommand' [package \"Seurat\"] with 5 slots\n"
     ]
    },
    {
     "name": "stderr",
     "output_type": "stream",
     "text": [
      "Warning message:\n",
      "“Not a validObject(): no slot of name \"assay.used\" for this object of class \"SeuratCommand\"”\n"
     ]
    },
    {
     "name": "stdout",
     "output_type": "stream",
     "text": [
      "  .. .. .. ..@ name       : chr \"NormalizeData.ACTIVITY\"\n",
      "  .. .. .. ..@ time.stamp : POSIXct[1:1], format: \"2020-12-02 13:45:55\"\n",
      "  .. .. .. ..@ call.string: chr \"NormalizeData(atac)\"\n",
      "  .. .. .. ..@ params     :List of 5\n",
      "  .. .. .. .. ..$ assay               : chr \"ACTIVITY\"\n",
      "  .. .. .. .. ..$ normalization.method: chr \"LogNormalize\"\n",
      "  .. .. .. .. ..$ scale.factor        : num 10000\n",
      "  .. .. .. .. ..$ margin              : num 1\n",
      "  .. .. .. .. ..$ verbose             : logi TRUE\n",
      "  .. .. .. ..@ NA         : NULL\n",
      "  .. ..$ ScaleData.ACTIVITY           :Formal class 'SeuratCommand' [package \"Seurat\"] with 5 slots\n"
     ]
    },
    {
     "name": "stderr",
     "output_type": "stream",
     "text": [
      "Warning message:\n",
      "“Not a validObject(): no slot of name \"assay.used\" for this object of class \"SeuratCommand\"”\n"
     ]
    },
    {
     "name": "stdout",
     "output_type": "stream",
     "text": [
      "  .. .. .. ..@ name       : chr \"ScaleData.ACTIVITY\"\n",
      "  .. .. .. ..@ time.stamp : POSIXct[1:1], format: \"2020-12-02 13:46:00\"\n",
      "  .. .. .. ..@ call.string: chr \"ScaleData(atac, features = genes.use, do.scale = FALSE)\"\n",
      "  .. .. .. ..@ params     :List of 10\n",
      "  .. .. .. .. ..$ features          : chr [1:6275] \"Erbb4\" \"Thsd7b\" \"Hs6st3\" \"Ptgds\" ...\n",
      "  .. .. .. .. ..$ assay             : chr \"ACTIVITY\"\n",
      "  .. .. .. .. ..$ model.use         : chr \"linear\"\n",
      "  .. .. .. .. ..$ use.umi           : logi FALSE\n",
      "  .. .. .. .. ..$ do.scale          : logi FALSE\n",
      "  .. .. .. .. ..$ do.center         : logi TRUE\n",
      "  .. .. .. .. ..$ scale.max         : num 10\n",
      "  .. .. .. .. ..$ block.size        : num 1000\n",
      "  .. .. .. .. ..$ min.cells.to.block: num 3000\n",
      "  .. .. .. .. ..$ verbose           : logi TRUE\n",
      "  .. .. .. ..@ NA         : NULL\n",
      "  .. ..$ FindNeighbors.ACTIVITY.pca   :Formal class 'SeuratCommand' [package \"Seurat\"] with 5 slots\n"
     ]
    },
    {
     "name": "stderr",
     "output_type": "stream",
     "text": [
      "Warning message:\n",
      "“Not a validObject(): no slot of name \"assay.used\" for this object of class \"SeuratCommand\"”\n"
     ]
    },
    {
     "name": "stdout",
     "output_type": "stream",
     "text": [
      "  .. .. .. ..@ name       : chr \"FindNeighbors.ACTIVITY.pca\"\n",
      "  .. .. .. ..@ time.stamp : POSIXct[1:1], format: \"2020-12-02 13:46:21\"\n",
      "  .. .. .. ..@ call.string: chr \"FindNeighbors(atac, dims = 1:30)\"\n",
      "  .. .. .. ..@ params     :List of 13\n",
      "  .. .. .. .. ..$ reduction   : chr \"pca\"\n",
      "  .. .. .. .. ..$ dims        : int [1:30] 1 2 3 4 5 6 7 8 9 10 ...\n",
      "  .. .. .. .. ..$ assay       : chr \"ACTIVITY\"\n",
      "  .. .. .. .. ..$ k.param     : num 20\n",
      "  .. .. .. .. ..$ compute.SNN : logi TRUE\n",
      "  .. .. .. .. ..$ prune.SNN   : num 0.0667\n",
      "  .. .. .. .. ..$ nn.method   : chr \"rann\"\n",
      "  .. .. .. .. ..$ annoy.metric: chr \"euclidean\"\n",
      "  .. .. .. .. ..$ nn.eps      : num 0\n",
      "  .. .. .. .. ..$ verbose     : logi TRUE\n",
      "  .. .. .. .. ..$ force.recalc: logi FALSE\n",
      "  .. .. .. .. ..$ do.plot     : logi FALSE\n",
      "  .. .. .. .. ..$ graph.name  : chr [1:2] \"ACTIVITY_nn\" \"ACTIVITY_snn\"\n",
      "  .. .. .. ..@ NA         : NULL\n",
      "  .. ..$ RunLSI.ATAC                  :Formal class 'SeuratCommand' [package \"Seurat\"] with 5 slots\n"
     ]
    },
    {
     "name": "stderr",
     "output_type": "stream",
     "text": [
      "Warning message:\n",
      "“Not a validObject(): no slot of name \"assay.used\" for this object of class \"SeuratCommand\"”\n"
     ]
    },
    {
     "name": "stdout",
     "output_type": "stream",
     "text": [
      "  .. .. .. ..@ name       : chr \"RunLSI.ATAC\"\n",
      "  .. .. .. ..@ time.stamp : POSIXct[1:1], format: \"2020-12-02 13:49:09\"\n",
      "  .. .. .. ..@ call.string: chr \"RunLSI(atac, n = 50, scale.max = NULL)\"\n",
      "  .. .. .. ..@ params     :List of 5\n",
      "  .. .. .. .. ..$ assay         : chr \"ATAC\"\n",
      "  .. .. .. .. ..$ n             : num 50\n",
      "  .. .. .. .. ..$ reduction.key : chr \"LSI_\"\n",
      "  .. .. .. .. ..$ reduction.name: chr \"lsi\"\n",
      "  .. .. .. .. ..$ verbose       : logi TRUE\n",
      "  .. .. .. ..@ NA         : NULL\n",
      "  .. ..$ FindNeighbors.ATAC.lsi       :Formal class 'SeuratCommand' [package \"Seurat\"] with 5 slots\n"
     ]
    },
    {
     "name": "stderr",
     "output_type": "stream",
     "text": [
      "Warning message:\n",
      "“Not a validObject(): no slot of name \"assay.used\" for this object of class \"SeuratCommand\"”\n"
     ]
    },
    {
     "name": "stdout",
     "output_type": "stream",
     "text": [
      "  .. .. .. ..@ name       : chr \"FindNeighbors.ATAC.lsi\"\n",
      "  .. .. .. ..@ time.stamp : POSIXct[1:1], format: \"2020-12-02 13:49:20\"\n",
      "  .. .. .. ..@ call.string: chr \"FindNeighbors(atac, dims = 1:30, reduction = \\\"lsi\\\")\"\n",
      "  .. .. .. ..@ params     :List of 13\n",
      "  .. .. .. .. ..$ reduction   : chr \"lsi\"\n",
      "  .. .. .. .. ..$ dims        : int [1:30] 1 2 3 4 5 6 7 8 9 10 ...\n",
      "  .. .. .. .. ..$ assay       : chr \"ATAC\"\n",
      "  .. .. .. .. ..$ k.param     : num 20\n",
      "  .. .. .. .. ..$ compute.SNN : logi TRUE\n",
      "  .. .. .. .. ..$ prune.SNN   : num 0.0667\n",
      "  .. .. .. .. ..$ nn.method   : chr \"rann\"\n",
      "  .. .. .. .. ..$ annoy.metric: chr \"euclidean\"\n",
      "  .. .. .. .. ..$ nn.eps      : num 0\n",
      "  .. .. .. .. ..$ verbose     : logi TRUE\n",
      "  .. .. .. .. ..$ force.recalc: logi FALSE\n",
      "  .. .. .. .. ..$ do.plot     : logi FALSE\n",
      "  .. .. .. .. ..$ graph.name  : chr [1:2] \"ATAC_nn\" \"ATAC_snn\"\n",
      "  .. .. .. ..@ NA         : NULL\n",
      "  .. ..$ RunUMAP.ATAC.lsi             :Formal class 'SeuratCommand' [package \"Seurat\"] with 5 slots\n"
     ]
    },
    {
     "name": "stderr",
     "output_type": "stream",
     "text": [
      "Warning message:\n",
      "“Not a validObject(): no slot of name \"assay.used\" for this object of class \"SeuratCommand\"”\n"
     ]
    },
    {
     "name": "stdout",
     "output_type": "stream",
     "text": [
      "  .. .. .. ..@ name       : chr \"RunUMAP.ATAC.lsi\"\n",
      "  .. .. .. ..@ time.stamp : POSIXct[1:1], format: \"2020-12-02 13:49:59\"\n",
      "  .. .. .. ..@ call.string: chr \"RunUMAP(atac, reduction = \\\"lsi\\\", dims = 1:30)\"\n",
      "  .. .. .. ..@ params     :List of 20\n",
      "  .. .. .. .. ..$ dims                : int [1:30] 1 2 3 4 5 6 7 8 9 10 ...\n",
      "  .. .. .. .. ..$ reduction           : chr \"lsi\"\n",
      "  .. .. .. .. ..$ assay               : chr \"ATAC\"\n",
      "  .. .. .. .. ..$ umap.method         : chr \"uwot\"\n",
      "  .. .. .. .. ..$ n.neighbors         : int 30\n",
      "  .. .. .. .. ..$ n.components        : int 2\n",
      "  .. .. .. .. ..$ metric              : chr \"cosine\"\n",
      "  .. .. .. .. ..$ learning.rate       : num 1\n",
      "  .. .. .. .. ..$ min.dist            : num 0.3\n",
      "  .. .. .. .. ..$ spread              : num 1\n",
      "  .. .. .. .. ..$ set.op.mix.ratio    : num 1\n",
      "  .. .. .. .. ..$ local.connectivity  : int 1\n",
      "  .. .. .. .. ..$ repulsion.strength  : num 1\n",
      "  .. .. .. .. ..$ negative.sample.rate: int 5\n",
      "  .. .. .. .. ..$ uwot.sgd            : logi FALSE\n",
      "  .. .. .. .. ..$ seed.use            : int 42\n",
      "  .. .. .. .. ..$ angular.rp.forest   : logi FALSE\n",
      "  .. .. .. .. ..$ verbose             : logi TRUE\n",
      "  .. .. .. .. ..$ reduction.name      : chr \"umap\"\n",
      "  .. .. .. .. ..$ reduction.key       : chr \"UMAP_\"\n",
      "  .. .. .. ..@ NA         : NULL\n",
      "  .. ..$ RunPCA.ACTIVITY              :Formal class 'SeuratCommand' [package \"Seurat\"] with 5 slots\n"
     ]
    },
    {
     "name": "stderr",
     "output_type": "stream",
     "text": [
      "Warning message:\n",
      "“Not a validObject(): no slot of name \"assay.used\" for this object of class \"SeuratCommand\"”\n"
     ]
    },
    {
     "name": "stdout",
     "output_type": "stream",
     "text": [
      "  .. .. .. ..@ name       : chr \"RunPCA.ACTIVITY\"\n",
      "  .. .. .. ..@ time.stamp : POSIXct[1:1], format: \"2021-03-02 08:25:49\"\n",
      "  .. .. .. ..@ call.string: chr \"RunPCA(atac, npcs = 50)\"\n",
      "  .. .. .. ..@ params     :List of 10\n",
      "  .. .. .. .. ..$ assay          : chr \"ACTIVITY\"\n",
      "  .. .. .. .. ..$ npcs           : num 50\n",
      "  .. .. .. .. ..$ rev.pca        : logi FALSE\n",
      "  .. .. .. .. ..$ weight.by.var  : logi TRUE\n",
      "  .. .. .. .. ..$ verbose        : logi TRUE\n",
      "  .. .. .. .. ..$ ndims.print    : int [1:5] 1 2 3 4 5\n",
      "  .. .. .. .. ..$ nfeatures.print: num 30\n",
      "  .. .. .. .. ..$ reduction.name : chr \"pca\"\n",
      "  .. .. .. .. ..$ reduction.key  : chr \"PC_\"\n",
      "  .. .. .. .. ..$ seed.use       : num 42\n",
      "  .. .. .. ..@ NA         : NULL\n",
      "  .. ..$ FindNeighbors.ACTIVITY.lsi   :Formal class 'SeuratCommand' [package \"Seurat\"] with 5 slots\n"
     ]
    },
    {
     "name": "stderr",
     "output_type": "stream",
     "text": [
      "Warning message:\n",
      "“Not a validObject(): no slot of name \"assay.used\" for this object of class \"SeuratCommand\"”\n"
     ]
    },
    {
     "name": "stdout",
     "output_type": "stream",
     "text": [
      "  .. .. .. ..@ name       : chr \"FindNeighbors.ACTIVITY.lsi\"\n",
      "  .. .. .. ..@ time.stamp : POSIXct[1:1], format: \"2021-03-02 08:25:53\"\n",
      "  .. .. .. ..@ call.string: chr \"FindNeighbors(atac, dims = 1:20, reduction = \\\"lsi\\\")\"\n",
      "  .. .. .. ..@ params     :List of 13\n",
      "  .. .. .. .. ..$ reduction   : chr \"lsi\"\n",
      "  .. .. .. .. ..$ dims        : int [1:20] 1 2 3 4 5 6 7 8 9 10 ...\n",
      "  .. .. .. .. ..$ assay       : chr \"ACTIVITY\"\n",
      "  .. .. .. .. ..$ k.param     : num 20\n",
      "  .. .. .. .. ..$ compute.SNN : logi TRUE\n",
      "  .. .. .. .. ..$ prune.SNN   : num 0.0667\n",
      "  .. .. .. .. ..$ nn.method   : chr \"rann\"\n",
      "  .. .. .. .. ..$ annoy.metric: chr \"euclidean\"\n",
      "  .. .. .. .. ..$ nn.eps      : num 0\n",
      "  .. .. .. .. ..$ verbose     : logi TRUE\n",
      "  .. .. .. .. ..$ force.recalc: logi FALSE\n",
      "  .. .. .. .. ..$ do.plot     : logi FALSE\n",
      "  .. .. .. .. ..$ graph.name  : chr [1:2] \"ACTIVITY_nn\" \"ACTIVITY_snn\"\n",
      "  .. .. .. ..@ NA         : NULL\n",
      "  .. ..$ FindClusters                 :Formal class 'SeuratCommand' [package \"Seurat\"] with 5 slots\n"
     ]
    },
    {
     "name": "stderr",
     "output_type": "stream",
     "text": [
      "Warning message:\n",
      "“Not a validObject(): no slot of name \"assay.used\" for this object of class \"SeuratCommand\"”\n"
     ]
    },
    {
     "name": "stdout",
     "output_type": "stream",
     "text": [
      "  .. .. .. ..@ name       : chr \"FindClusters\"\n",
      "  .. .. .. ..@ time.stamp : POSIXct[1:1], format: \"2021-03-02 08:25:55\"\n",
      "  .. .. .. ..@ call.string: chr \"FindClusters(atac, resolution = 0.5)\"\n",
      "  .. .. .. ..@ params     :List of 9\n",
      "  .. .. .. .. ..$ graph.name      : chr \"ACTIVITY_snn\"\n",
      "  .. .. .. .. ..$ modularity.fxn  : num 1\n",
      "  .. .. .. .. ..$ resolution      : num 0.5\n",
      "  .. .. .. .. ..$ algorithm       : num 1\n",
      "  .. .. .. .. ..$ n.start         : num 10\n",
      "  .. .. .. .. ..$ n.iter          : num 10\n",
      "  .. .. .. .. ..$ random.seed     : num 0\n",
      "  .. .. .. .. ..$ group.singletons: logi TRUE\n",
      "  .. .. .. .. ..$ verbose         : logi TRUE\n",
      "  .. .. .. ..@ NA         : NULL\n",
      "  .. ..$ RunUMAP.ACTIVITY.pca         :Formal class 'SeuratCommand' [package \"Seurat\"] with 5 slots\n"
     ]
    },
    {
     "name": "stderr",
     "output_type": "stream",
     "text": [
      "Warning message:\n",
      "“Not a validObject(): no slot of name \"assay.used\" for this object of class \"SeuratCommand\"”\n"
     ]
    },
    {
     "name": "stdout",
     "output_type": "stream",
     "text": [
      "  .. .. .. ..@ name       : chr \"RunUMAP.ACTIVITY.pca\"\n",
      "  .. .. .. ..@ time.stamp : POSIXct[1:1], format: \"2021-03-02 08:26:31\"\n",
      "  .. .. .. ..@ call.string: chr \"RunUMAP(atac, reduction = \\\"pca\\\", dims = 1:30, reduction.name = \\\"gene.umap\\\")\"\n",
      "  .. .. .. ..@ params     :List of 20\n",
      "  .. .. .. .. ..$ dims                : int [1:30] 1 2 3 4 5 6 7 8 9 10 ...\n",
      "  .. .. .. .. ..$ reduction           : chr \"pca\"\n",
      "  .. .. .. .. ..$ assay               : chr \"ACTIVITY\"\n",
      "  .. .. .. .. ..$ umap.method         : chr \"uwot\"\n",
      "  .. .. .. .. ..$ n.neighbors         : int 30\n",
      "  .. .. .. .. ..$ n.components        : int 2\n",
      "  .. .. .. .. ..$ metric              : chr \"cosine\"\n",
      "  .. .. .. .. ..$ learning.rate       : num 1\n",
      "  .. .. .. .. ..$ min.dist            : num 0.3\n",
      "  .. .. .. .. ..$ spread              : num 1\n",
      "  .. .. .. .. ..$ set.op.mix.ratio    : num 1\n",
      "  .. .. .. .. ..$ local.connectivity  : int 1\n",
      "  .. .. .. .. ..$ repulsion.strength  : num 1\n",
      "  .. .. .. .. ..$ negative.sample.rate: int 5\n",
      "  .. .. .. .. ..$ uwot.sgd            : logi FALSE\n",
      "  .. .. .. .. ..$ seed.use            : int 42\n",
      "  .. .. .. .. ..$ angular.rp.forest   : logi FALSE\n",
      "  .. .. .. .. ..$ verbose             : logi TRUE\n",
      "  .. .. .. .. ..$ reduction.name      : chr \"gene.umap\"\n",
      "  .. .. .. .. ..$ reduction.key       : chr \"UMAP_\"\n",
      "  .. .. .. ..@ NA         : NULL\n",
      "  .. ..$ FindVariableFeatures.ACTIVITY:Formal class 'SeuratCommand' [package \"Seurat\"] with 5 slots\n"
     ]
    },
    {
     "name": "stderr",
     "output_type": "stream",
     "text": [
      "Warning message:\n",
      "“Not a validObject(): no slot of name \"assay.used\" for this object of class \"SeuratCommand\"”\n"
     ]
    },
    {
     "name": "stdout",
     "output_type": "stream",
     "text": [
      "  .. .. .. ..@ name       : chr \"FindVariableFeatures.ACTIVITY\"\n",
      "  .. .. .. ..@ time.stamp : POSIXct[1:1], format: \"2021-03-02 09:14:02\"\n",
      "  .. .. .. ..@ call.string: chr \"FindVariableFeatures(atac, nfeatures = 5000)\"\n",
      "  .. .. .. ..@ params     :List of 12\n",
      "  .. .. .. .. ..$ assay              : chr \"ACTIVITY\"\n",
      "  .. .. .. .. ..$ selection.method   : chr \"vst\"\n",
      "  .. .. .. .. ..$ loess.span         : num 0.3\n",
      "  .. .. .. .. ..$ clip.max           : chr \"auto\"\n",
      "  .. .. .. .. ..$ mean.function      :function (mat, display_progress)  \n",
      "  .. .. .. .. ..$ dispersion.function:function (mat, display_progress)  \n",
      "  .. .. .. .. ..$ num.bin            : num 20\n",
      "  .. .. .. .. ..$ binning.method     : chr \"equal_width\"\n",
      "  .. .. .. .. ..$ nfeatures          : num 5000\n",
      "  .. .. .. .. ..$ mean.cutoff        : num [1:2] 0.1 8\n",
      "  .. .. .. .. ..$ dispersion.cutoff  : num [1:2] 1 Inf\n",
      "  .. .. .. .. ..$ verbose            : logi TRUE\n",
      "  .. .. .. ..@ NA         : NULL\n",
      "  ..@ tools       : list()\n",
      "  ..@ NA          : NULL\n"
     ]
    }
   ],
   "source": [
    "str(atac)"
   ]
  }
 ],
 "metadata": {
  "kernelspec": {
   "display_name": "seuratV4_python38",
   "language": "R",
   "name": "seuratv4_python38"
  },
  "language_info": {
   "codemirror_mode": "r",
   "file_extension": ".r",
   "mimetype": "text/x-r-source",
   "name": "R",
   "pygments_lexer": "r",
   "version": "4.2.0"
  }
 },
 "nbformat": 4,
 "nbformat_minor": 5
}
