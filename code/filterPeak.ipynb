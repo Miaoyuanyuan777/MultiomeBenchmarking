{
 "cells": [
  {
   "cell_type": "code",
   "execution_count": 14,
   "id": "4f854572-db14-4a5c-aa9a-b9c0faab654f",
   "metadata": {},
   "outputs": [
    {
     "name": "stderr",
     "output_type": "stream",
     "text": [
      "\n",
      "Attaching package: 'dplyr'\n",
      "\n",
      "\n",
      "The following objects are masked from 'package:ensembldb':\n",
      "\n",
      "    filter, select\n",
      "\n",
      "\n",
      "The following object is masked from 'package:AnnotationDbi':\n",
      "\n",
      "    select\n",
      "\n",
      "\n",
      "The following object is masked from 'package:Biobase':\n",
      "\n",
      "    combine\n",
      "\n",
      "\n",
      "The following objects are masked from 'package:GenomicRanges':\n",
      "\n",
      "    intersect, setdiff, union\n",
      "\n",
      "\n",
      "The following object is masked from 'package:GenomeInfoDb':\n",
      "\n",
      "    intersect\n",
      "\n",
      "\n",
      "The following objects are masked from 'package:IRanges':\n",
      "\n",
      "    collapse, desc, intersect, setdiff, slice, union\n",
      "\n",
      "\n",
      "The following objects are masked from 'package:S4Vectors':\n",
      "\n",
      "    first, intersect, rename, setdiff, setequal, union\n",
      "\n",
      "\n",
      "The following objects are masked from 'package:BiocGenerics':\n",
      "\n",
      "    combine, intersect, setdiff, union\n",
      "\n",
      "\n",
      "The following objects are masked from 'package:stats':\n",
      "\n",
      "    filter, lag\n",
      "\n",
      "\n",
      "The following objects are masked from 'package:base':\n",
      "\n",
      "    intersect, setdiff, setequal, union\n",
      "\n",
      "\n"
     ]
    }
   ],
   "source": [
    "library(Seurat)\n",
    "library(Signac)\n",
    "library(EnsDb.Hsapiens.v86)\n",
    "library(ggplot2)\n",
    "library(cowplot)\n",
    "library(Matrix)\n",
    "library(org.Hs.eg.db)\n",
    "library(dplyr)"
   ]
  },
  {
   "cell_type": "code",
   "execution_count": 4,
   "id": "f62fd4ac-b82a-4853-814e-c6808e841237",
   "metadata": {},
   "outputs": [
    {
     "data": {
      "text/html": [
       "'/home/math/hyl2016/Intergration_Benchmark/BenchmarkRealDataset/RNA_ATAC'"
      ],
      "text/latex": [
       "'/home/math/hyl2016/Intergration\\_Benchmark/BenchmarkRealDataset/RNA\\_ATAC'"
      ],
      "text/markdown": [
       "'/home/math/hyl2016/Intergration_Benchmark/BenchmarkRealDataset/RNA_ATAC'"
      ],
      "text/plain": [
       "[1] \"/home/math/hyl2016/Intergration_Benchmark/BenchmarkRealDataset/RNA_ATAC\""
      ]
     },
     "metadata": {},
     "output_type": "display_data"
    }
   ],
   "source": [
    "getwd()"
   ]
  },
  {
   "cell_type": "code",
   "execution_count": null,
   "id": "6cd28198-ef7b-4846-9c2c-9216f9880701",
   "metadata": {},
   "outputs": [],
   "source": [
    "data_sets = c(\"10_GSE201402_down\",\"12_GSE178379\",\"14_GSE156478\",\"2_brain_ShareSeq\",\"4_brain_ISSAAC_seq\",\n",
    "              \"6_pbmc_granulocyte_sorted_10k\",\"8_pbmc_unsorted_10k\",\"11_GSE194122\",\"13_GSE74535_scMT-seq2016\",\n",
    "              \"1_ShareSeq_Skin\",\"3_brain_SNARE\",\"5_human_brain_10x\",\"7_human_pbmc_10x\",\"9_pbmc_unsorted_3k\")"
   ]
  },
  {
   "cell_type": "code",
   "execution_count": 26,
   "id": "db760584-b9df-4641-a225-d840761c314f",
   "metadata": {},
   "outputs": [],
   "source": [
    "# batch = c('s1d1', 's1d2', 's1d3', 's2d1', 's2d4', 's2d5', 's3d10', 's3d3',\n",
    "#        's3d6', 's3d7', 's4d1', 's4d8', 's4d9')\n",
    "\n",
    "batch = c('s1d1', 's1d2', 's1d3', 's2d1', 's2d4', 's2d5', 's3d10', 's3d3',\n",
    "       's3d6', 's3d7', 's4d9')\n",
    "# batch = c('s4d1', 's4d8')"
   ]
  },
  {
   "cell_type": "code",
   "execution_count": 30,
   "id": "0ea82915-e503-4e41-996d-e8b635b96ae0",
   "metadata": {},
   "outputs": [
    {
     "data": {
      "text/html": [
       "'/home/math/hyl2016/Intergration_Benchmark/BenchmarkRealDataset/RNA_ATAC/11_GSE194122'"
      ],
      "text/latex": [
       "'/home/math/hyl2016/Intergration\\_Benchmark/BenchmarkRealDataset/RNA\\_ATAC/11\\_GSE194122'"
      ],
      "text/markdown": [
       "'/home/math/hyl2016/Intergration_Benchmark/BenchmarkRealDataset/RNA_ATAC/11_GSE194122'"
      ],
      "text/plain": [
       "[1] \"/home/math/hyl2016/Intergration_Benchmark/BenchmarkRealDataset/RNA_ATAC/11_GSE194122\""
      ]
     },
     "metadata": {},
     "output_type": "display_data"
    }
   ],
   "source": [
    "getwd()"
   ]
  },
  {
   "cell_type": "code",
   "execution_count": 29,
   "id": "ba13d9c2-6ce3-4f1e-b267-2a4a2bfc0590",
   "metadata": {},
   "outputs": [],
   "source": [
    "setwd(\"11_GSE194122\")"
   ]
  },
  {
   "cell_type": "code",
   "execution_count": 31,
   "id": "c1aabb2b-7414-451c-a807-c79b946f0aa4",
   "metadata": {},
   "outputs": [
    {
     "name": "stderr",
     "output_type": "stream",
     "text": [
      "Performing TF-IDF normalization\n",
      "\n",
      "Warning message in dir.create(path):\n",
      "\"'s1d1/ATAC' already exists\"\n",
      "Performing TF-IDF normalization\n",
      "\n",
      "Warning message in dir.create(path):\n",
      "\"'s1d2/ATAC' already exists\"\n",
      "Performing TF-IDF normalization\n",
      "\n",
      "Warning message in dir.create(path):\n",
      "\"'s1d3/ATAC' already exists\"\n",
      "Performing TF-IDF normalization\n",
      "\n",
      "Warning message in dir.create(path):\n",
      "\"'s2d1/ATAC' already exists\"\n",
      "Performing TF-IDF normalization\n",
      "\n",
      "Warning message in dir.create(path):\n",
      "\"'s2d4/ATAC' already exists\"\n",
      "Performing TF-IDF normalization\n",
      "\n",
      "Warning message in dir.create(path):\n",
      "\"'s2d5/ATAC' already exists\"\n",
      "Performing TF-IDF normalization\n",
      "\n",
      "Warning message in dir.create(path):\n",
      "\"'s3d10/ATAC' already exists\"\n",
      "Performing TF-IDF normalization\n",
      "\n",
      "Warning message in dir.create(path):\n",
      "\"'s3d3/ATAC' already exists\"\n",
      "Performing TF-IDF normalization\n",
      "\n",
      "Warning message in dir.create(path):\n",
      "\"'s3d6/ATAC' already exists\"\n",
      "Performing TF-IDF normalization\n",
      "\n",
      "Warning message in dir.create(path):\n",
      "\"'s3d7/ATAC' already exists\"\n",
      "Performing TF-IDF normalization\n",
      "\n",
      "Warning message in dir.create(path):\n",
      "\"'s4d9/ATAC' already exists\"\n"
     ]
    }
   ],
   "source": [
    "for (id in batch){\n",
    "    path = paste0(id,\"/ATAC.raw/\")\n",
    "\n",
    "    # 读取barcode.tsv文件，这将包含细胞的名称或条形码\n",
    "    barcodes <- read.table(paste0(path,\"barcodes.tsv\"), header = FALSE, stringsAsFactors = FALSE)\n",
    "    \n",
    "    # 读取features.tsv文件，这将包含峰或基因的名称\n",
    "    features <- read.table(paste0(path,\"features.tsv\"), header = FALSE, stringsAsFactors = FALSE)\n",
    "    \n",
    "    # 读取matrix.mtx文件，这将包含峰-细胞表达矩阵\n",
    "    mat <- readMM(paste0(path,\"matrix.mtx\"))\n",
    "    colnames(mat) <- barcodes$V1\n",
    "    rownames(mat) <- features$V1\n",
    "    \n",
    "    # 创建Seurat对象\n",
    "    pbmc <- CreateSeuratObject(counts = mat, project = \"pbmc3k\", min.cells = 3, min.features = 2)\n",
    "\n",
    "    # 使用 vapply() 和 grep() 加速代码\n",
    "    valid_indices <- vapply(features$V1, function(peak) {\n",
    "      feature_parts <- strsplit(peak, \"-\")\n",
    "      if (length(feature_parts[[1]]) > 0 && grepl(\"^chr[0-9]+$\", feature_parts[[1]][1])) {\n",
    "        return(TRUE)\n",
    "      } else {\n",
    "        return(FALSE)\n",
    "      }\n",
    "    }, logical(1))\n",
    "    \n",
    "    valid_peaks <- features$V1[valid_indices]\n",
    "    \n",
    "    pbmc= pbmc[valid_peaks,]\n",
    "    pbmc <- RunTFIDF(pbmc)\n",
    "    pbmc <- FindTopFeatures(pbmc, min.cutoff = \"q0\")\n",
    "\n",
    "    var_feature = pbmc@assays$RNA@var.features\n",
    "    pbmc = pbmc[var_feature,]\n",
    "    path = paste0(id,\"/ATAC\")\n",
    "    dir.create(path)\n",
    "    \n",
    "    writeMM(pbmc@assays$RNA@counts, paste0(path,\"/matrix.mtx\"))\n",
    "    write.table(pbmc@assays$RNA@counts@Dimnames[1], file = paste0(path,\"/features.tsv\"), sep = \"\\t\", row.names = FALSE, col.names = FALSE, quote = FALSE)\n",
    "    write.table(pbmc@assays$RNA@counts@Dimnames[2], file = paste0(path,\"/barcodes.tsv\"), sep = \"\\t\", row.names = FALSE, col.names = FALSE, quote = FALSE)\n",
    "}"
   ]
  },
  {
   "cell_type": "code",
   "execution_count": 17,
   "id": "27650f3d-c874-4354-85dc-9968f79fe8ac",
   "metadata": {},
   "outputs": [],
   "source": [
    "ing=as(pbmc@assays$RNA@counts,\"TsparseMatrix\")"
   ]
  },
  {
   "cell_type": "code",
   "execution_count": 24,
   "id": "cc466dce-500d-40e1-89df-93672729ccab",
   "metadata": {},
   "outputs": [
    {
     "data": {
      "text/plain": [
       "NULL"
      ]
     },
     "metadata": {},
     "output_type": "display_data"
    }
   ],
   "source": [
    "writeMM(pbmc@assays$RNA@counts, paste0(path,\"/matrix.mtx\"), type = \"coordinate\", precision = \"double\", index = \"auto\")"
   ]
  },
  {
   "cell_type": "code",
   "execution_count": 23,
   "id": "4fa57014-cc44-405b-b801-d8d410edf67d",
   "metadata": {
    "scrolled": true
   },
   "outputs": [],
   "source": [
    "pbmc@assays$RNA@counts[1,1]=0"
   ]
  },
  {
   "cell_type": "code",
   "execution_count": 4,
   "id": "ca72d0d0-6041-48d2-9efe-55740878c280",
   "metadata": {},
   "outputs": [
    {
     "data": {
      "text/plain": [
       "Length  Class   Mode \n",
       "     1 Seurat     S4 "
      ]
     },
     "metadata": {},
     "output_type": "display_data"
    }
   ],
   "source": [
    "\n",
    "\n",
    "# 查看Seurat对象的摘要\n",
    "summary(pbmc)"
   ]
  },
  {
   "cell_type": "code",
   "execution_count": 5,
   "id": "d6a9ed15-bf0f-4193-9f4c-4079123e7eb3",
   "metadata": {},
   "outputs": [
    {
     "name": "stderr",
     "output_type": "stream",
     "text": [
      "Performing TF-IDF normalization\n",
      "\n"
     ]
    }
   ],
   "source": [
    "# 使用 vapply() 和 grep() 加速代码\n",
    "valid_indices <- vapply(features$V1, function(peak) {\n",
    "  feature_parts <- strsplit(peak, \"-\")\n",
    "  if (length(feature_parts[[1]]) > 0 && grepl(\"^chr[0-9]+$\", feature_parts[[1]][1])) {\n",
    "    return(TRUE)\n",
    "  } else {\n",
    "    return(FALSE)\n",
    "  }\n",
    "}, logical(1))\n",
    "\n",
    "valid_peaks <- features$V1[valid_indices]\n",
    "\n",
    "pbmc= pbmc[valid_peaks,]\n",
    "pbmc <- RunTFIDF(pbmc)\n",
    "pbmc <- FindTopFeatures(pbmc, min.cutoff = \"q0\")"
   ]
  },
  {
   "cell_type": "code",
   "execution_count": 6,
   "id": "82edf22f-39bb-4083-a618-e175d2c7982e",
   "metadata": {},
   "outputs": [
    {
     "data": {
      "text/plain": [
       "NULL"
      ]
     },
     "metadata": {},
     "output_type": "display_data"
    }
   ],
   "source": [
    "var_feature = pbmc@assays$RNA@var.features\n",
    "pbmc = pbmc[var_feature,]\n",
    "path = \"ATAC.filter\"\n",
    "dir.create(path)\n",
    "\n",
    "writeMM(pbmc@assays$RNA@counts, paste0(path,\"/matrix.mtx\"))\n",
    "write.table(pbmc@assays$RNA@counts@Dimnames[1], file = paste0(path,\"/features.tsv\"), sep = \"\\t\", row.names = FALSE, col.names = FALSE, quote = FALSE)\n",
    "write.table(pbmc@assays$RNA@counts@Dimnames[2], file = paste0(path,\"/barcodes.tsv\"), sep = \"\\t\", row.names = FALSE, col.names = FALSE, quote = FALSE)"
   ]
  },
  {
   "cell_type": "code",
   "execution_count": null,
   "id": "3d18dcd1-92d2-44c6-b949-83e6f382c7bf",
   "metadata": {},
   "outputs": [],
   "source": []
  },
  {
   "cell_type": "code",
   "execution_count": null,
   "id": "a67b2a8b-a074-49db-a5cd-13a07292f247",
   "metadata": {},
   "outputs": [],
   "source": [
    "# We exclude the first dimension as this is typically correlated with sequencing depth\n",
    "\n",
    "pbmc <- RunSVD(pbmc)\n",
    "pbmc <- RunUMAP(pbmc, reduction = \"lsi\", dims = 2:30, reduction.name = \"umap.atac\", reduction.key = \"atacUMAP_\")"
   ]
  },
  {
   "cell_type": "code",
   "execution_count": 28,
   "id": "2c6e419f-4560-4edc-98ee-f992f3978dab",
   "metadata": {},
   "outputs": [],
   "source": [
    "atac = readRDS(\"rawdata/GSM6062731_retina_10x.atac.RDS\")"
   ]
  },
  {
   "cell_type": "code",
   "execution_count": 29,
   "id": "a00fe4ac-a276-4351-a659-6bca11f95fab",
   "metadata": {},
   "outputs": [],
   "source": [
    "rna = readRDS(\"rawdata/GSM6062732_retina_10x.rna.RDS\")"
   ]
  },
  {
   "cell_type": "code",
   "execution_count": 18,
   "id": "3cba5818-73c5-4569-bada-9d59a0be54b2",
   "metadata": {},
   "outputs": [],
   "source": [
    "setwd(\"10_GSE201402_down/\")"
   ]
  },
  {
   "cell_type": "code",
   "execution_count": 30,
   "id": "3013bc3a-8eae-46a1-b7cb-238b6b2707aa",
   "metadata": {},
   "outputs": [
    {
     "data": {
      "text/html": [
       "'/media/Data/Program3/testcode_20230710/Masic_Intergration/BenchmarkRealDataset/RNA_ATAC/10_GSE201402_down'"
      ],
      "text/latex": [
       "'/media/Data/Program3/testcode\\_20230710/Masic\\_Intergration/BenchmarkRealDataset/RNA\\_ATAC/10\\_GSE201402\\_down'"
      ],
      "text/markdown": [
       "'/media/Data/Program3/testcode_20230710/Masic_Intergration/BenchmarkRealDataset/RNA_ATAC/10_GSE201402_down'"
      ],
      "text/plain": [
       "[1] \"/media/Data/Program3/testcode_20230710/Masic_Intergration/BenchmarkRealDataset/RNA_ATAC/10_GSE201402_down\""
      ]
     },
     "metadata": {},
     "output_type": "display_data"
    }
   ],
   "source": [
    "getwd()"
   ]
  },
  {
   "cell_type": "code",
   "execution_count": 16,
   "id": "f5d78a7b-9d2c-46a5-8436-be03797d898a",
   "metadata": {},
   "outputs": [
    {
     "data": {
      "text/html": [
       "9383"
      ],
      "text/latex": [
       "9383"
      ],
      "text/markdown": [
       "9383"
      ],
      "text/plain": [
       "[1] 9383"
      ]
     },
     "metadata": {},
     "output_type": "display_data"
    }
   ],
   "source": [
    "length(intersect(atac@assays$ATAC@counts@Dimnames[[2]], rna@assays$ATAC@counts@Dimnames[[2]]))"
   ]
  },
  {
   "cell_type": "code",
   "execution_count": 32,
   "id": "5d0f0dd8-b10c-4c99-83f0-583351b2cf0b",
   "metadata": {},
   "outputs": [
    {
     "name": "stderr",
     "output_type": "stream",
     "text": [
      "Warning message in dir.create(path):\n",
      "\"'ATAC' already exists\"\n"
     ]
    },
    {
     "data": {
      "text/plain": [
       "NULL"
      ]
     },
     "metadata": {},
     "output_type": "display_data"
    }
   ],
   "source": [
    "path = \"ATAC\"\n",
    "dir.create(path)\n",
    "writeMM(atac@assays$ATAC@counts, paste0(path,\"/matrix.mtx\"))\n",
    "write.table(atac@assays$ATAC@counts@Dimnames[1], file = paste0(path,\"/features.tsv\"), sep = \"\\t\", row.names = FALSE, col.names = FALSE, quote = FALSE)\n",
    "write.table(atac@assays$ATAC@counts@Dimnames[2], file = paste0(path,\"/barcodes.tsv\"), sep = \"\\t\", row.names = FALSE, col.names = FALSE, quote = FALSE)"
   ]
  },
  {
   "cell_type": "code",
   "execution_count": 33,
   "id": "79b999b6-5b30-4676-b246-c0048d5f1a0f",
   "metadata": {},
   "outputs": [
    {
     "name": "stderr",
     "output_type": "stream",
     "text": [
      "Warning message in dir.create(path):\n",
      "\"'RNA' already exists\"\n"
     ]
    },
    {
     "data": {
      "text/plain": [
       "NULL"
      ]
     },
     "metadata": {},
     "output_type": "display_data"
    }
   ],
   "source": [
    "path = \"RNA\"\n",
    "dir.create(path)\n",
    "writeMM(rna@assays$RNA@counts, paste0(path,\"/matrix.mtx\"))\n",
    "write.table(rna@assays$RNA@counts@Dimnames[1], file = paste0(path,\"/features.tsv\"), sep = \"\\t\", row.names = FALSE, col.names = FALSE, quote = FALSE)\n",
    "write.table(rna@assays$RNA@counts@Dimnames[2], file = paste0(path,\"/barcodes.tsv\"), sep = \"\\t\", row.names = FALSE, col.names = FALSE, quote = FALSE)"
   ]
  },
  {
   "cell_type": "code",
   "execution_count": 1,
   "id": "cb4463dc-0ce8-4baf-b870-b19bf1290c69",
   "metadata": {},
   "outputs": [
    {
     "name": "stderr",
     "output_type": "stream",
     "text": [
      "The legacy packages maptools, rgdal, and rgeos, underpinning the sp package,\n",
      "which was just loaded, will retire in October 2023.\n",
      "Please refer to R-spatial evolution reports for details, especially\n",
      "https://r-spatial.org/r/2023/05/15/evolution4.html.\n",
      "It may be desirable to make the sf package available;\n",
      "package maintainers should consider adding sf to Suggests:.\n",
      "The sp package is now running under evolution status 2\n",
      "     (status 2 uses the sf package in place of rgdal)\n",
      "\n",
      "Attaching SeuratObject\n",
      "\n",
      "Loading required package: ensembldb\n",
      "\n",
      "Loading required package: BiocGenerics\n",
      "\n",
      "Warning message:\n",
      "\"package 'BiocGenerics' was built under R version 4.2.1\"\n",
      "\n",
      "Attaching package: 'BiocGenerics'\n",
      "\n",
      "\n",
      "The following objects are masked from 'package:stats':\n",
      "\n",
      "    IQR, mad, sd, var, xtabs\n",
      "\n",
      "\n",
      "The following objects are masked from 'package:base':\n",
      "\n",
      "    Filter, Find, Map, Position, Reduce, anyDuplicated, aperm, append,\n",
      "    as.data.frame, basename, cbind, colnames, dirname, do.call,\n",
      "    duplicated, eval, evalq, get, grep, grepl, intersect, is.unsorted,\n",
      "    lapply, mapply, match, mget, order, paste, pmax, pmax.int, pmin,\n",
      "    pmin.int, rank, rbind, rownames, sapply, setdiff, sort, table,\n",
      "    tapply, union, unique, unsplit, which.max, which.min\n",
      "\n",
      "\n",
      "Loading required package: GenomicRanges\n",
      "\n",
      "Loading required package: stats4\n",
      "\n",
      "Loading required package: S4Vectors\n",
      "\n",
      "\n",
      "Attaching package: 'S4Vectors'\n",
      "\n",
      "\n",
      "The following objects are masked from 'package:base':\n",
      "\n",
      "    I, expand.grid, unname\n",
      "\n",
      "\n",
      "Loading required package: IRanges\n",
      "\n",
      "Loading required package: GenomeInfoDb\n",
      "\n",
      "Loading required package: GenomicFeatures\n",
      "\n",
      "Loading required package: AnnotationDbi\n",
      "\n",
      "Loading required package: Biobase\n",
      "\n",
      "Welcome to Bioconductor\n",
      "\n",
      "    Vignettes contain introductory material; view with\n",
      "    'browseVignettes()'. To cite Bioconductor, see\n",
      "    'citation(\"Biobase\")', and for packages 'citation(\"pkgname\")'.\n",
      "\n",
      "\n",
      "Loading required package: AnnotationFilter\n",
      "\n",
      "\n",
      "Attaching package: 'ensembldb'\n",
      "\n",
      "\n",
      "The following object is masked from 'package:stats':\n",
      "\n",
      "    filter\n",
      "\n",
      "\n",
      "Warning message:\n",
      "\"package 'ggplot2' was built under R version 4.2.3\"\n",
      "\n",
      "Attaching package: 'Matrix'\n",
      "\n",
      "\n",
      "The following object is masked from 'package:S4Vectors':\n",
      "\n",
      "    expand\n",
      "\n",
      "\n"
     ]
    }
   ],
   "source": [
    "library(Seurat)\n",
    "library(Signac)\n",
    "library(EnsDb.Hsapiens.v86)\n",
    "library(ggplot2)\n",
    "library(cowplot)\n",
    "library(Matrix)"
   ]
  },
  {
   "cell_type": "code",
   "execution_count": 2,
   "id": "addbad72-7c0d-4a7f-aa56-29ecf0afabb2",
   "metadata": {},
   "outputs": [],
   "source": [
    "setwd(\"/home/math/hyl2016/Intergration_Benchmark//BenchmarkRealDataset/RNA_ATAC/\")"
   ]
  },
  {
   "cell_type": "code",
   "execution_count": 26,
   "id": "ac36b60e-00d4-4cd4-b4db-4392a3c8860f",
   "metadata": {},
   "outputs": [],
   "source": [
    "rna = readRDS(\"10_GSE201402_down/rawdata/GSM6062732_retina_10x.rna.RDS\")\n",
    "atac = readRDS(\"10_GSE201402_down/rawdata/GSM6062731_retina_10x.atac.RDS\")\n",
    "identical(atac@assays$ATAC@counts@Dimnames[[2]], rna@assays$RNA@counts@Dimnames[[2]])"
   ]
  },
  {
   "cell_type": "code",
   "execution_count": 30,
   "id": "9deff8d5-2785-482d-9400-be92f700849b",
   "metadata": {},
   "outputs": [],
   "source": [
    "features = atac@assays$ATAC@counts@Dimnames[[1]]\n",
    "atac@assays$ATAC@counts@Dimnames[[1]] = gsub(\":\", \"-\", features)"
   ]
  },
  {
   "cell_type": "code",
   "execution_count": 33,
   "id": "0dd04ab7-04ba-4e9f-9b48-6efca1c97a6a",
   "metadata": {},
   "outputs": [
    {
     "name": "stderr",
     "output_type": "stream",
     "text": [
      "Performing TF-IDF normalization\n",
      "\n",
      "Warning message in dir.create(path):\n",
      "\"'./10_GSE201402_down/ATAC' already exists\"\n"
     ]
    },
    {
     "data": {
      "text/plain": [
       "NULL"
      ]
     },
     "metadata": {},
     "output_type": "display_data"
    }
   ],
   "source": [
    "pbmc <- CreateSeuratObject(counts =atac@assays$ATAC@counts , project = \"pbmc3k\", min.cells = 3, min.features = 2)\n",
    "features = pbmc@assays$RNA@counts@Dimnames[[1]]\n",
    "# modified_string <- gsub(\":\", \"-\", features)\n",
    "# 使用 vapply() 和 grep() 加速代码\n",
    "valid_indices <- vapply(features, function(peak) {\n",
    "  feature_parts <- strsplit(peak, \"-\")\n",
    "  if (length(feature_parts[[1]]) > 0 && grepl(\"^chr[0-9]+$\", feature_parts[[1]][1])) {\n",
    "    return(TRUE)\n",
    "  } else {\n",
    "    return(FALSE)\n",
    "  }\n",
    "}, logical(1))\n",
    "\n",
    "valid_peaks <- features[valid_indices]\n",
    "pbmc= pbmc[valid_peaks,]\n",
    "pbmc <- RunTFIDF(pbmc)\n",
    "pbmc <- FindTopFeatures(pbmc, min.cutoff = \"q0\")\n",
    "\n",
    "var_feature = pbmc@assays$RNA@var.features\n",
    "pbmc = pbmc[var_feature,]\n",
    "path = paste0(\"./10_GSE201402_down\",\"/ATAC\")\n",
    "dir.create(path)\n",
    "\n",
    "writeMM(pbmc@assays$RNA@counts, paste0(path,\"/matrix.mtx\"))\n",
    "write.table(pbmc@assays$RNA@counts@Dimnames[1], file = paste0(path,\"/features.tsv\"), sep = \"\\t\", row.names = FALSE, col.names = FALSE, quote = FALSE)\n",
    "write.table(pbmc@assays$RNA@counts@Dimnames[2], file = paste0(path,\"/barcodes.tsv\"), sep = \"\\t\", row.names = FALSE, col.names = FALSE, quote = FALSE)"
   ]
  },
  {
   "cell_type": "code",
   "execution_count": 37,
   "id": "57cf89d2-902c-4bfa-828b-4693ddb3fa7b",
   "metadata": {},
   "outputs": [],
   "source": [
    "write.csv(rna@meta.data,\"./10_GSE201402_down/metadata.csv\")"
   ]
  },
  {
   "cell_type": "code",
   "execution_count": 38,
   "id": "6d3bb0f3-144c-4aad-88a0-d4a744642a76",
   "metadata": {},
   "outputs": [
    {
     "name": "stderr",
     "output_type": "stream",
     "text": [
      "Warning message in dir.create(path):\n",
      "\"'./10_GSE201402_down/RNA' already exists\"\n"
     ]
    },
    {
     "data": {
      "text/plain": [
       "NULL"
      ]
     },
     "metadata": {},
     "output_type": "display_data"
    }
   ],
   "source": [
    "\n",
    "path = paste0(\"./10_GSE201402_down\",\"/RNA\")\n",
    "dir.create(path)\n",
    "\n",
    "writeMM(rna@assays$RNA@counts, paste0(path,\"/matrix.mtx\"))\n",
    "write.table(rna@assays$RNA@counts@Dimnames[1], file = paste0(path,\"/features.tsv\"), sep = \"\\t\", row.names = FALSE, col.names = FALSE, quote = FALSE)\n",
    "write.table(rna@assays$RNA@counts@Dimnames[2], file = paste0(path,\"/barcodes.tsv\"), sep = \"\\t\", row.names = FALSE, col.names = FALSE, quote = FALSE)"
   ]
  }
 ],
 "metadata": {
  "kernelspec": {
   "display_name": "seuratV4_python38",
   "language": "R",
   "name": "seuratv4_python38"
  },
  "language_info": {
   "codemirror_mode": "r",
   "file_extension": ".r",
   "mimetype": "text/x-r-source",
   "name": "R",
   "pygments_lexer": "r",
   "version": "4.2.0"
  }
 },
 "nbformat": 4,
 "nbformat_minor": 5
}
