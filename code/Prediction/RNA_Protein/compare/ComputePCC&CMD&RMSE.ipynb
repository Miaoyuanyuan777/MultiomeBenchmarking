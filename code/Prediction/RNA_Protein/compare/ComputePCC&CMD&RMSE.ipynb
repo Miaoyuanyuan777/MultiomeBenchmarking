{
 "cells": [
  {
   "cell_type": "code",
   "execution_count": 1,
   "id": "afacd1b3-8e85-4a31-9f97-8ac1778c146d",
   "metadata": {},
   "outputs": [],
   "source": [
    "import numpy as np\n",
    "import pandas as pd\n",
    "import scanpy as sc\n",
    "import anndata as ad\n",
    "import argparse\n",
    "import os\n",
    "\n",
    "from scipy.stats import pearsonr\n",
    "from scipy.sparse import csr_matrix, coo_matrix, csc_matrix\n",
    "from scipy.io import mmread, mmwrite\n",
    "from scipy import stats\n",
    "from sklearn import metrics\n",
    "\n",
    "import seaborn as sns\n",
    "import matplotlib\n",
    "import matplotlib.pyplot as plt\n",
    "matplotlib.rcParams.update(matplotlib.rcParamsDefault)\n",
    "# matplotlib.rcParams['pdf.fonttype'] = 42\n",
    "# matplotlib.rcParams['ps.fonttype'] = 42\n",
    "# matplotlib.rcParams['font.serif'] = ['Arial']\n",
    "# # matplotlib.rcParams['font.serif'] = ['SimHei']\n",
    "# sc.settings.set_figure_params(dpi=150,dpi_save=300,facecolor='white',fontsize=10,figsize=(3,3))\n",
    "matplotlib.rcParams['font.serif'] = ['Arial']\n",
    "\n",
    "import warnings\n",
    "warnings.filterwarnings(\"ignore\")"
   ]
  },
  {
   "cell_type": "markdown",
   "id": "2923069c-743b-4c5b-8b07-ae8984fdb301",
   "metadata": {},
   "source": [
    "# Load data #"
   ]
  },
  {
   "cell_type": "code",
   "execution_count": 2,
   "id": "98cc38b5-d337-4657-b9a9-87a56a032898",
   "metadata": {},
   "outputs": [],
   "source": [
    "train_id = \"24\"\n",
    "test_id = \"23\"\n",
    "data_path = \"../dataset/dataset\""
   ]
  },
  {
   "cell_type": "code",
   "execution_count": 3,
   "id": "a1ff3570-a150-4a71-9f02-c298403a4e03",
   "metadata": {},
   "outputs": [],
   "source": [
    "true_data_path = data_path + test_id +\"_adata.h5ad\"\n",
    "test_data = sc.read(true_data_path)\n",
    "true_data = test_data.obsm['protein_expression']\n",
    "true_data.columns = true_data.columns.str.replace(\"-\",\"_\")\n",
    "true_data.columns = true_data.columns.str.replace(\".\",\"_\")"
   ]
  },
  {
   "cell_type": "code",
   "execution_count": 4,
   "id": "1c4e9adc-7bef-4b04-a600-26e17682d9e9",
   "metadata": {},
   "outputs": [],
   "source": [
    "train_data = sc.read(data_path + train_id +\"_adata.h5ad\")\n",
    "train_data.obsm['protein_expression'].columns = train_data.obsm['protein_expression'].columns.str.replace(\"-\",\"_\")\n",
    "train_data.obsm['protein_expression'].columns = train_data.obsm['protein_expression'].columns.str.replace(\".\",\"_\")"
   ]
  },
  {
   "cell_type": "code",
   "execution_count": 5,
   "id": "cdfb276b-2f10-4184-8ab1-865e9b30a556",
   "metadata": {},
   "outputs": [],
   "source": [
    "totalVI_path = \"../Results/\"+ test_id + \"_from_\" + train_id + \"_totalVI.csv\"\n",
    "scArches_path = \"../Results/\" + test_id + \"_from_\" + train_id + \"_scArches.csv\"\n",
    "Dengkw_path = \"../Results/\" + test_id + \"_from_\" + train_id + \"_Dengkw.csv\"\n",
    "cTp_net_path = \"../Results/\" + test_id + \"_from_\" + train_id + \"_cTPnet.csv\"\n",
    "scMoGNN_path = \"../Results/\" + test_id + \"_from_\" + train_id + \"_scMoGNN.csv\"\n",
    "Seurat_path = \"../Results/\" + test_id + \"_from_\" + train_id + \"_seurat.csv\"\n",
    "Liger_path = \"../Results/\" + test_id + \"_from_\" + train_id + \"_Liger.csv\"\n",
    "BABEL_path = \"../Results/\" + test_id + \"_from_\" + train_id + \"_babel.csv\"\n",
    "CMAE_path = \"../Results/\" + test_id + \"_from_\" + train_id + \"_cmae.csv\"\n",
    "sciPENN_path = \"../Results/\" + test_id + \"_from_\" + train_id + \"_sciPENN.csv\"\n",
    "scVAEIT_path = \"../Results/\" + test_id + \"_from_\" + train_id + \"_scVAEIT.csv\""
   ]
  },
  {
   "cell_type": "code",
   "execution_count": 6,
   "id": "f95e6b37-620d-48ba-bd80-2c7776d4d69c",
   "metadata": {},
   "outputs": [],
   "source": [
    "totalVI_pre = pd.read_csv(totalVI_path,index_col = 0)\n",
    "scArches_pre = pd.read_csv(scArches_path,index_col = 0)\n",
    "Dengkw_pre = pd.read_csv(Dengkw_path,index_col = 0)\n",
    "cTp_net_pre = pd.read_csv(cTp_net_path,index_col = 0).T\n",
    "scMoGNN_pre = pd.read_csv(scMoGNN_path,index_col = 0).T\n",
    "Seurat_pre = pd.read_csv(Seurat_path,index_col = 0).T\n",
    "Liger_pre = pd.read_csv(Liger_path,index_col = 0).T\n",
    "BABEL_pre = pd.read_csv(BABEL_path,index_col = 0).T\n",
    "CMAE_pre = pd.read_csv(CMAE_path,index_col = 0).T\n",
    "sciPENN_pre = pd.read_csv(sciPENN_path,index_col = 0)\n",
    "scVAEIT_pre = pd.read_csv(scVAEIT_path,index_col = 0)"
   ]
  },
  {
   "cell_type": "code",
   "execution_count": 7,
   "id": "cb540631-eedc-4014-885f-80c1489f4230",
   "metadata": {},
   "outputs": [],
   "source": [
    "totalVI_pre.columns = totalVI_pre.columns.str.replace(\"-\",\"_\")\n",
    "totalVI_pre.columns = totalVI_pre.columns.str.replace(\".\",\"_\")\n",
    "scArches_pre.columns = scArches_pre.columns.str.replace(\"-\",\"_\")\n",
    "Dengkw_pre.columns = Dengkw_pre.columns.str.replace(\"-\",\"_\")\n",
    "cTp_net_pre.columns = cTp_net_pre.columns.str.replace(\"-\",\"_\")\n",
    "Seurat_pre.columns = Seurat_pre.columns.str.replace(\"-\",\"_\")\n",
    "Seurat_pre.columns = Seurat_pre.columns.str.replace(\".\",\"_\")\n",
    "Liger_pre.columns = Liger_pre.columns.str.replace(\"-\",\"_\")\n",
    "Liger_pre.columns = Liger_pre.columns.str.replace(\".\",\"_\")\n",
    "sciPENN_pre.columns = sciPENN_pre.columns.str.replace(\"-\",\"_\")\n",
    "sciPENN_pre.columns = sciPENN_pre.columns.str.replace(\".\",\"_\")\n",
    "scVAEIT_pre.columns = scVAEIT_pre.columns.str.replace(\"-\",\"_\")\n",
    "scVAEIT_pre.columns = scVAEIT_pre.columns.str.replace(\".\",\"_\")"
   ]
  },
  {
   "cell_type": "code",
   "execution_count": 8,
   "id": "38648bc2-7e61-4c2b-b5ad-6423591d4bd8",
   "metadata": {},
   "outputs": [],
   "source": [
    "proteins_inter = train_data.obsm['protein_expression'].columns.intersection(true_data.columns)"
   ]
  },
  {
   "cell_type": "code",
   "execution_count": 9,
   "id": "36b7016f-4bf3-43b8-b5ab-71c935c1c135",
   "metadata": {},
   "outputs": [],
   "source": [
    "scMoGNN_pre = pd.DataFrame(data = scMoGNN_pre.values, index = true_data.index , columns = proteins_inter)\n",
    "CMAE_pre = pd.DataFrame(data = CMAE_pre.values, index = true_data.index , columns = train_data.obsm['protein_expression'].columns)\n",
    "CMAE_pre = CMAE_pre[proteins_inter]\n",
    "BABEL_pre = pd.DataFrame(data = BABEL_pre.values, index = true_data.index , columns = train_data.obsm['protein_expression'].columns)\n",
    "BABEL_pre = BABEL_pre[proteins_inter]\n",
    "totalVI_pre = totalVI_pre[proteins_inter]\n",
    "scArches_pre = scArches_pre[proteins_inter]\n",
    "Dengkw_pre = Dengkw_pre[proteins_inter]\n",
    "cTp_net_pre = cTp_net_pre[proteins_inter]\n",
    "Seurat_pre = Seurat_pre[proteins_inter]\n",
    "Liger_pre = Liger_pre[proteins_inter]\n",
    "sciPENN_pre = sciPENN_pre[proteins_inter]\n",
    "sciPENN_pre = sciPENN_pre[proteins_inter]\n",
    "true_data = true_data[proteins_inter]"
   ]
  },
  {
   "cell_type": "code",
   "execution_count": 10,
   "id": "a2f61448-6acb-494b-8373-3f94e5910f4a",
   "metadata": {},
   "outputs": [
    {
     "name": "stdout",
     "output_type": "stream",
     "text": [
      "(3158, 48)\n",
      "(3158, 48)\n",
      "(3158, 48)\n",
      "(3158, 48)\n",
      "(3158, 48)\n",
      "(3158, 48)\n",
      "(3158, 48)\n",
      "(3158, 48)\n",
      "(3158, 48)\n",
      "(3158, 48)\n"
     ]
    }
   ],
   "source": [
    "print(scMoGNN_pre.shape)\n",
    "print(totalVI_pre.shape)\n",
    "print(scArches_pre.shape)\n",
    "print(Dengkw_pre.shape)\n",
    "print(cTp_net_pre.shape)\n",
    "print(Seurat_pre.shape)\n",
    "print(Liger_pre.shape)\n",
    "print(BABEL_pre.shape)\n",
    "print(CMAE_pre.shape)\n",
    "print(sciPENN_pre.shape)"
   ]
  },
  {
   "cell_type": "markdown",
   "id": "02c48a5f-63e0-4d28-84a8-5ac63e0f1444",
   "metadata": {},
   "source": [
    "# compute PCCs #"
   ]
  },
  {
   "cell_type": "markdown",
   "id": "8450a78f-6a30-4096-b361-a89e90067dfc",
   "metadata": {},
   "source": [
    "### totalVI ###"
   ]
  },
  {
   "cell_type": "code",
   "execution_count": 11,
   "id": "3bee7689-df42-4338-89e8-148d1ff1135a",
   "metadata": {},
   "outputs": [],
   "source": [
    "totalVI_pcc_protein = []\n",
    "for i in range(totalVI_pre.shape[1]):\n",
    "    x = np.array(totalVI_pre[totalVI_pre.columns[i]])\n",
    "    y = np.array(true_data[true_data.columns[i]])    \n",
    "    pcc = pearsonr(x,y)[0]\n",
    "    totalVI_pcc_protein.append(pcc)\n",
    "totalVI_pcc_cell = []\n",
    "for i in range(totalVI_pre.shape[0]):\n",
    "    x = np.array((totalVI_pre.T)[totalVI_pre.index[i]])\n",
    "    y = np.array((true_data.T)[true_data.index[i]])    \n",
    "    pcc = pearsonr(x,y)[0]\n",
    "    totalVI_pcc_cell.append(pcc)"
   ]
  },
  {
   "cell_type": "markdown",
   "id": "2b509dcf-b65b-44b2-9681-80f1a738b1fb",
   "metadata": {},
   "source": [
    "### scArches ###"
   ]
  },
  {
   "cell_type": "code",
   "execution_count": 12,
   "id": "4fa6789a-4310-483a-8508-691a67fca300",
   "metadata": {},
   "outputs": [],
   "source": [
    "scArches_pcc_protein = []\n",
    "for i in range(scArches_pre.shape[1]):\n",
    "    x = np.array(scArches_pre[scArches_pre.columns[i]])\n",
    "    y = np.array(true_data[true_data.columns[i]])    \n",
    "    pcc = pearsonr(x,y)[0]\n",
    "    scArches_pcc_protein.append(pcc)\n",
    "scArches_pcc_cell = []\n",
    "for i in range(scArches_pre.shape[0]):\n",
    "    x = np.array((scArches_pre.T)[scArches_pre.index[i]])\n",
    "    y = np.array((true_data.T)[true_data.index[i]])    \n",
    "    pcc = pearsonr(x,y)[0]\n",
    "    scArches_pcc_cell.append(pcc)"
   ]
  },
  {
   "cell_type": "markdown",
   "id": "01d6f930-acd1-4439-8e9e-359099c6c304",
   "metadata": {},
   "source": [
    "### Guanlab-dengkw ###"
   ]
  },
  {
   "cell_type": "code",
   "execution_count": 13,
   "id": "69c0fdec-884a-49ae-99e5-434856a573e0",
   "metadata": {},
   "outputs": [],
   "source": [
    "Dengkw_pcc_protein = []\n",
    "for i in range(Dengkw_pre.shape[1]):\n",
    "    x = np.array(Dengkw_pre[Dengkw_pre.columns[i]])\n",
    "    y = np.array(true_data[true_data.columns[i]])    \n",
    "    pcc = pearsonr(x,y)[0]\n",
    "    Dengkw_pcc_protein.append(pcc)\n",
    "Dengkw_pcc_cell = []\n",
    "for i in range(Dengkw_pre.shape[0]):\n",
    "    x = np.array((Dengkw_pre.T)[Dengkw_pre.index[i]])\n",
    "    y = np.array((true_data.T)[true_data.index[i]])    \n",
    "    pcc = pearsonr(x,y)[0]\n",
    "    Dengkw_pcc_cell.append(pcc)"
   ]
  },
  {
   "cell_type": "markdown",
   "id": "0128c887-4561-453b-a4c4-b3994fbf8780",
   "metadata": {},
   "source": [
    "### cTP-net ###"
   ]
  },
  {
   "cell_type": "code",
   "execution_count": 14,
   "id": "20d9c5a9-fb92-4b51-bd80-630a86b343d9",
   "metadata": {},
   "outputs": [],
   "source": [
    "clr_true = true_data.apply(lambda x: np.log((x+1.0)/stats.gmean(x+1.0)), axis=0)"
   ]
  },
  {
   "cell_type": "code",
   "execution_count": 15,
   "id": "1f0fd94b-5a5a-4057-8191-cec4321acf2c",
   "metadata": {},
   "outputs": [],
   "source": [
    "cTp_net_pcc_protein = []\n",
    "for i in range(cTp_net_pre.shape[1]):\n",
    "    x = np.array(cTp_net_pre[cTp_net_pre.columns[i]])\n",
    "    y = np.array(clr_true[clr_true.columns[i]])    \n",
    "    pcc = pearsonr(x,y)[0]\n",
    "    cTp_net_pcc_protein.append(pcc)\n",
    "cTp_net_pcc_cell = []\n",
    "for i in range(cTp_net_pre.shape[0]):\n",
    "    x = np.array((cTp_net_pre.T)[cTp_net_pre.index[i]])\n",
    "    y = np.array((clr_true.T)[clr_true.index[i]])    \n",
    "    pcc = pearsonr(x,y)[0]\n",
    "    cTp_net_pcc_cell.append(pcc)"
   ]
  },
  {
   "cell_type": "markdown",
   "id": "a2ba2ce7-8bb4-41d0-8448-38a6a2b3d9f3",
   "metadata": {},
   "source": [
    "### scMoGNN ###"
   ]
  },
  {
   "cell_type": "code",
   "execution_count": 16,
   "id": "8388349f-1388-4cb4-8147-9e825bfe6684",
   "metadata": {},
   "outputs": [],
   "source": [
    "scMoGNN_pcc_protein = []\n",
    "for i in range(scMoGNN_pre.shape[1]):\n",
    "    x = np.array(scMoGNN_pre[scMoGNN_pre.columns[i]])\n",
    "    y = np.array(true_data[true_data.columns[i]])    \n",
    "    pcc = pearsonr(x,y)[0]\n",
    "    scMoGNN_pcc_protein.append(pcc)\n",
    "scMoGNN_pcc_cell = []\n",
    "for i in range(scMoGNN_pre.shape[0]):\n",
    "    x = np.array((scMoGNN_pre.T)[scMoGNN_pre.index[i]])\n",
    "    y = np.array((true_data.T)[true_data.index[i]])    \n",
    "    pcc = pearsonr(x,y)[0]\n",
    "    scMoGNN_pcc_cell.append(pcc)"
   ]
  },
  {
   "cell_type": "markdown",
   "id": "ea831972-7a75-4e8f-90a1-1381e5961f0a",
   "metadata": {},
   "source": [
    "### Seurat ###"
   ]
  },
  {
   "cell_type": "code",
   "execution_count": 17,
   "id": "93adc30e-df87-4108-87af-85c87f906265",
   "metadata": {},
   "outputs": [],
   "source": [
    "clr_true = true_data.apply(lambda x: np.log((x+1.0)/stats.gmean(x+1.0)), axis=0)"
   ]
  },
  {
   "cell_type": "code",
   "execution_count": 18,
   "id": "15c653f7-58ef-48d1-87ea-d10af9cfbaa9",
   "metadata": {},
   "outputs": [],
   "source": [
    "Seurat_pcc_protein = []\n",
    "for i in range(Seurat_pre.shape[1]):\n",
    "    x = np.array(Seurat_pre[Seurat_pre.columns[i]])\n",
    "    y = np.array(clr_true[clr_true.columns[i]])    \n",
    "    pcc = pearsonr(x,y)[0]\n",
    "    Seurat_pcc_protein.append(pcc)\n",
    "Seurat_pcc_cell = []\n",
    "for i in range(Seurat_pre.shape[0]):\n",
    "    x = np.array((Seurat_pre.T)[Seurat_pre.index[i]])\n",
    "    y = np.array((clr_true.T)[clr_true.index[i]])    \n",
    "    pcc = pearsonr(x,y)[0]\n",
    "    Seurat_pcc_cell.append(pcc)"
   ]
  },
  {
   "cell_type": "markdown",
   "id": "31d69986-5619-4572-a921-fa46e4375976",
   "metadata": {},
   "source": [
    "### LIGER ##"
   ]
  },
  {
   "cell_type": "code",
   "execution_count": 19,
   "id": "45edea97-0ed6-431b-b135-3b0608ab40b7",
   "metadata": {},
   "outputs": [],
   "source": [
    "Liger_pcc_protein = []\n",
    "for i in range(Liger_pre.shape[1]):\n",
    "    x = np.array(Liger_pre[Liger_pre.columns[i]])\n",
    "    y = np.array(true_data[true_data.columns[i]])    \n",
    "    pcc = pearsonr(x,y)[0]\n",
    "    Liger_pcc_protein.append(pcc)\n",
    "Liger_pcc_cell = []\n",
    "for i in range(Liger_pre.shape[0]):\n",
    "    x = np.array((Liger_pre.T)[Liger_pre.index[i]])\n",
    "    y = np.array((true_data.T)[true_data.index[i]])    \n",
    "    pcc = pearsonr(x,y)[0]\n",
    "    Liger_pcc_cell.append(pcc)"
   ]
  },
  {
   "cell_type": "markdown",
   "id": "009d0f61-ef75-40e4-9de1-7045b60ece0c",
   "metadata": {},
   "source": [
    "### BABEL ###"
   ]
  },
  {
   "cell_type": "code",
   "execution_count": 20,
   "id": "5c30e835-7af5-4af4-86a5-b817ec37d3a7",
   "metadata": {},
   "outputs": [],
   "source": [
    "BABEL_pcc_protein = []\n",
    "for i in range(BABEL_pre.shape[1]):\n",
    "    x = np.array(BABEL_pre[BABEL_pre.columns[i]])\n",
    "    y = np.array(true_data[true_data.columns[i]])    \n",
    "    pcc = pearsonr(x,y)[0]\n",
    "    BABEL_pcc_protein.append(pcc)\n",
    "BABEL_pcc_cell = []\n",
    "for i in range(BABEL_pre.shape[0]):\n",
    "    x = np.array((BABEL_pre.T)[BABEL_pre.index[i]])\n",
    "    y = np.array((true_data.T)[true_data.index[i]])    \n",
    "    pcc = pearsonr(x,y)[0]\n",
    "    BABEL_pcc_cell.append(pcc)"
   ]
  },
  {
   "cell_type": "markdown",
   "id": "1b5670f3-190d-4183-bcd2-7406a66ba293",
   "metadata": {},
   "source": [
    "### CMAE ##"
   ]
  },
  {
   "cell_type": "code",
   "execution_count": 21,
   "id": "bf8bf591-0f7f-4d53-a76d-b2b0edbd6dc0",
   "metadata": {},
   "outputs": [],
   "source": [
    "CMAE_pcc_protein = []\n",
    "for i in range(CMAE_pre.shape[1]):\n",
    "    x = np.array(CMAE_pre[CMAE_pre.columns[i]])\n",
    "    y = np.array(true_data[true_data.columns[i]])    \n",
    "    pcc = pearsonr(x,y)[0]\n",
    "    CMAE_pcc_protein.append(pcc)\n",
    "CMAE_pcc_cell = []\n",
    "for i in range(CMAE_pre.shape[0]):\n",
    "    x = np.array((CMAE_pre.T)[CMAE_pre.index[i]])\n",
    "    y = np.array((true_data.T)[true_data.index[i]])    \n",
    "    pcc = pearsonr(x,y)[0]\n",
    "    CMAE_pcc_cell.append(pcc)"
   ]
  },
  {
   "cell_type": "markdown",
   "id": "a38ab07a-984f-4999-8490-0a55e887fbc6",
   "metadata": {},
   "source": [
    "### sciPENN"
   ]
  },
  {
   "cell_type": "code",
   "execution_count": 22,
   "id": "6a6d20da-3338-40c9-b80e-fa0a8a0afaaa",
   "metadata": {},
   "outputs": [],
   "source": [
    "A = ad.AnnData(X = true_data).copy()\n",
    "sc.pp.normalize_total(A)\n",
    "sc.pp.log1p(A)\n",
    "sc.pp.scale(A)\n",
    "\n",
    "B = pd.DataFrame(data = A.X,columns = A.var_names,index = A.obs_names)\n",
    "\n",
    "C = (B.T[sciPENN_pre.index]).T"
   ]
  },
  {
   "cell_type": "code",
   "execution_count": 23,
   "id": "a1c5311c-b55f-4b53-ac62-4c04a574efd2",
   "metadata": {},
   "outputs": [],
   "source": [
    "sciPENN_scale = ad.AnnData(sciPENN_pre)\n",
    "sc.pp.scale(sciPENN_scale)\n",
    "sciPENN_scale = pd.DataFrame(data = sciPENN_scale.X,columns = sciPENN_scale.var_names,index = sciPENN_scale.obs_names)"
   ]
  },
  {
   "cell_type": "code",
   "execution_count": 24,
   "id": "42b6344b-9535-4a29-b0bc-509d2ad57655",
   "metadata": {},
   "outputs": [],
   "source": [
    "sciPENN_pcc_protein = []\n",
    "for i in range(sciPENN_scale.shape[1]):\n",
    "    x = np.array(sciPENN_scale[sciPENN_scale.columns[i]])\n",
    "    y = np.array(C[C.columns[i]])    \n",
    "    pcc = pearsonr(x,y)[0]\n",
    "    sciPENN_pcc_protein.append(pcc)\n",
    "sciPENN_pcc_cell = []\n",
    "for i in range(sciPENN_scale.shape[0]):\n",
    "    x = np.array((sciPENN_scale.T)[sciPENN_scale.index[i]])\n",
    "    y = np.array((C.T)[C.index[i]])    \n",
    "    pcc = pearsonr(x,y)[0]\n",
    "    sciPENN_pcc_cell.append(pcc)"
   ]
  },
  {
   "cell_type": "markdown",
   "id": "26aa1e83-256d-48b9-b6d7-3259b74f3285",
   "metadata": {},
   "source": [
    "### scVAEIT"
   ]
  },
  {
   "cell_type": "code",
   "execution_count": 25,
   "id": "bc38aae4-759b-45d4-a860-1deddebdfd4f",
   "metadata": {},
   "outputs": [],
   "source": [
    "Y = true_data.values\n",
    "true_data_after = np.log(Y/np.sum(Y, axis=1, keepdims=True)*1e4+1.)\n",
    "true_data_after = pd.DataFrame(data = true_data_after,index= true_data.index,columns=true_data.columns)"
   ]
  },
  {
   "cell_type": "code",
   "execution_count": 26,
   "id": "8f326111-9358-4dbb-871f-d2bdba06e858",
   "metadata": {},
   "outputs": [],
   "source": [
    "scVAEIT_pcc_protein = []\n",
    "for i in range(scVAEIT_pre.shape[1]):\n",
    "    x = np.array(scVAEIT_pre[scVAEIT_pre.columns[i]])\n",
    "    y = np.array(true_data_after[true_data_after.columns[i]])    \n",
    "    pcc = pearsonr(x,y)[0]\n",
    "    scVAEIT_pcc_protein.append(pcc)\n",
    "scVAEIT_pcc_cell = []\n",
    "for i in range(scVAEIT_pre.shape[0]):\n",
    "    x = np.array((scVAEIT_pre.T)[scVAEIT_pre.index[i]])\n",
    "    y = np.array((true_data_after.T)[true_data_after.index[i]])    \n",
    "    pcc = pearsonr(x,y)[0]\n",
    "    scVAEIT_pcc_cell.append(pcc)"
   ]
  },
  {
   "cell_type": "markdown",
   "id": "56e1d5ac-0c62-4caa-96f5-733e6648c029",
   "metadata": {},
   "source": [
    "### Summary PCC results"
   ]
  },
  {
   "cell_type": "code",
   "execution_count": 27,
   "id": "01079a3d-2c54-427a-b971-97b49258052a",
   "metadata": {},
   "outputs": [],
   "source": [
    "my_pal = {'totalVI':'#E6D885','scArches':'#F1C67F','Dengkw':'#E7A365','scMoGNN':'#EE9185','CMAE':'#E2A6C0','BABEL':'#BEABCB','Seurat':'#7DC9C4','sciPENN':'#84a4e8','Liger':'#65AADD','cTp_net':'#7CC38A','scVAEIT':'c'}\n"
   ]
  },
  {
   "cell_type": "code",
   "execution_count": 28,
   "id": "1ee84785-9527-440a-84f7-d3e8c6d80e45",
   "metadata": {},
   "outputs": [],
   "source": [
    "index = ['totalVI','scArches','Dengkw','cTp_net','scMoGNN','Seurat','Liger','BABEL','CMAE','sciPENN','scVAEIT']\n",
    "pro_columns = true_data.columns\n",
    "cell_columns = true_data.index\n",
    "PCCs_protein = pd.DataFrame([totalVI_pcc_protein,scArches_pcc_protein,Dengkw_pcc_protein,cTp_net_pcc_protein,scMoGNN_pcc_protein,Seurat_pcc_protein,Liger_pcc_protein,BABEL_pcc_protein,CMAE_pcc_protein,sciPENN_pcc_protein,scVAEIT_pcc_protein],index = index,columns = pro_columns)\n",
    "PCCs_cell = pd.DataFrame([totalVI_pcc_cell,scArches_pcc_cell,Dengkw_pcc_cell,cTp_net_pcc_cell,scMoGNN_pcc_cell,Seurat_pcc_cell,Liger_pcc_cell,BABEL_pcc_cell,CMAE_pcc_cell,sciPENN_pcc_cell,scVAEIT_pcc_cell],index = index,columns = cell_columns)\n"
   ]
  },
  {
   "cell_type": "code",
   "execution_count": 29,
   "id": "a4edd1bb-3bd1-4353-b1dc-e825e46c9def",
   "metadata": {},
   "outputs": [],
   "source": [
    "PCCs_protein.to_csv(\"../Results/\"+ test_id + \"_from_\" + train_id +\"_pcc_protein.csv\")\n",
    "PCCs_cell.to_csv(\"../Results/\"+ test_id + \"_from_\" + train_id +\"_pcc_cell.csv\")"
   ]
  },
  {
   "cell_type": "code",
   "execution_count": 30,
   "id": "5ca4f46f-d05a-410a-9ccf-8c789fb99470",
   "metadata": {},
   "outputs": [
    {
     "data": {
      "image/png": "[encoded data removed]",
      "text/plain": [
       "<Figure size 400x320 with 1 Axes>"
      ]
     },
     "metadata": {},
     "output_type": "display_data"
    }
   ],
   "source": [
    "font = {'family':'DejaVu Sans','weight':'normal','size':15}\n",
    "plt.figure(figsize=(5,4), dpi= 80)\n",
    "fig1 = sns.boxplot(data=PCCs_protein.T,orient = \"h\",linewidth=1,width=0.7, palette=my_pal,fliersize=0,flierprops = {'marker':'o'})\n",
    "fig1.set_xlabel(\"protein-protein PCC\")\n",
    "fig1.set_xlim(-1.1,1.1)\n",
    "fig1.spines['top'].set_visible(False)\n",
    "fig1.spines['right'].set_visible(False)\n",
    "plt.title(test_id + \"_from_\" + train_id, fontdict={'size': 12})\n",
    "# plt.savefig(\"../Results/\"+ test_id + \"_from_\" + train_id +\"_pcc_protein.pdf\", bbox_inches=\"tight\")\n",
    "plt.show()"
   ]
  },
  {
   "cell_type": "code",
   "execution_count": 31,
   "id": "b4d2663b-7eeb-4d90-91d1-d443b4a0ba1f",
   "metadata": {},
   "outputs": [
    {
     "data": {
      "image/png": "[encoded data removed]",
      "text/plain": [
       "<Figure size 400x320 with 1 Axes>"
      ]
     },
     "metadata": {},
     "output_type": "display_data"
    }
   ],
   "source": [
    "font = {'family':'DejaVu Sans','weight':'normal','size':15}\n",
    "plt.figure(figsize=(5,4), dpi= 80)\n",
    "fig2 = sns.boxplot(data=PCCs_cell.T,orient = \"h\",linewidth=1,width=0.7, palette=my_pal,fliersize=0,flierprops = {'marker':'o'})\n",
    "fig2.set_xlabel(\"cell-cell PCC\")\n",
    "fig2.set_xlim(-1.1,1.1)\n",
    "fig2.spines['top'].set_visible(False)\n",
    "fig2.spines['right'].set_visible(False)\n",
    "plt.title(test_id + \"_from_\" + train_id, fontdict={'size': 12})\n",
    "# plt.savefig(\"../Results/\"+ test_id + \"_from_\" + train_id +\"_pcc_cell.pdf\", bbox_inches=\"tight\")\n",
    "plt.show()"
   ]
  },
  {
   "cell_type": "markdown",
   "id": "d74ff4c9-7a01-4362-985f-423fe1f4074b",
   "metadata": {},
   "source": [
    "# Compute CMDs #"
   ]
  },
  {
   "cell_type": "code",
   "execution_count": 32,
   "id": "a47816d2-abb1-463c-a74c-1d042c069d13",
   "metadata": {},
   "outputs": [],
   "source": [
    "List = ['totalVI_pre','scArches_pre','Dengkw_pre','cTp_net_pre','scMoGNN_pre','Seurat_pre','Liger_pre','BABEL_pre','CMAE_pre','sciPENN_pre','scVAEIT_pre']\n",
    "index = ['totalVI','scArches','Dengkw','cTp_net','scMoGNN','Seurat','Liger','BABEL','CMAE','sciPENN','scVAEIT']"
   ]
  },
  {
   "cell_type": "code",
   "execution_count": 33,
   "id": "39cd01d8-210b-43b5-b186-34257fefc04e",
   "metadata": {},
   "outputs": [],
   "source": [
    "def CMD_dist(A, B):\n",
    "    a = np.multiply(A,B).sum()\n",
    "    # a = np.trace(A.dot(B))\n",
    "    b = np.linalg.norm(A,'fro')*np.linalg.norm(B,'fro')\n",
    "    return 1- a/(b+1e-8)"
   ]
  },
  {
   "cell_type": "code",
   "execution_count": 34,
   "id": "7f634355-6a07-41e0-ad09-93ca96805d9f",
   "metadata": {},
   "outputs": [],
   "source": [
    "# compute cmd_cell\n",
    "true_corr = true_data.T.corr()\n",
    "true_corr.dropna(how='all',axis = 1,inplace = True)\n",
    "true_corr.dropna(how='all',inplace = True)\n",
    "\n",
    "cmd_cell = []\n",
    "\n",
    "for i in range(len(List)):\n",
    "    if List[i] == 'sciPENN_pre':\n",
    "        A = sciPENN_scale.T.corr()\n",
    "        B = C.T.corr()\n",
    "        B.dropna(how='all',axis = 1,inplace = True)\n",
    "        B.dropna(how='all',inplace = True)\n",
    "    elif List[i] == 'scVAEIT_pre':\n",
    "        A = scVAEIT_pre.T.corr()\n",
    "        B = true_data_after.T.corr()\n",
    "        B.dropna(how='all',axis = 1,inplace = True)\n",
    "        B.dropna(how='all',inplace = True)\n",
    "    else:\n",
    "        A = eval(List[i]).T.corr()\n",
    "        B = true_corr\n",
    "\n",
    "    A.dropna(how='all',axis = 1,inplace = True)\n",
    "    A.dropna(how='all',inplace = True)\n",
    "    \n",
    "    inter_cell = A.index.intersection(B.index)\n",
    "    B = B[inter_cell]\n",
    "    B = (B.T)[inter_cell].T\n",
    "    \n",
    "    A = A[inter_cell]\n",
    "    A = (A.T)[inter_cell].T\n",
    "    \n",
    "    cmd = CMD_dist(A.values.T,B.values)\n",
    "\n",
    "    cmd_cell.append(cmd)\n",
    "\n",
    "CMD_cell = pd.DataFrame(data = cmd_cell, index = index,columns = ['cmd_values'])"
   ]
  },
  {
   "cell_type": "code",
   "execution_count": 35,
   "id": "51d377e6-e8d3-4717-a9eb-77a348e80327",
   "metadata": {},
   "outputs": [],
   "source": [
    "# compute cmd_protein\n",
    "true_protein_corr = true_data.corr()\n",
    "true_protein_corr.dropna(how='all',axis = 1,inplace = True)\n",
    "true_protein_corr.dropna(how='all',inplace = True)\n",
    "\n",
    "cmd_protein = []\n",
    "for i in range(len(List)):\n",
    "    if List[i] == 'sciPENN_pre':\n",
    "        A = sciPENN_scale.corr()\n",
    "        B = C.corr()\n",
    "        B.dropna(how='all',axis = 1,inplace = True)\n",
    "        B.dropna(how='all',inplace = True)\n",
    "    elif List[i] == 'scVAEIT_pre':\n",
    "        A = scVAEIT_pre.corr()\n",
    "        B = true_data_after.corr()\n",
    "        B.dropna(how='all',axis = 1,inplace = True)\n",
    "        B.dropna(how='all',inplace = True)\n",
    "    else:\n",
    "        A = eval(List[i]).corr()\n",
    "        B = true_protein_corr\n",
    "\n",
    "    A.dropna(how='all',axis = 1,inplace = True)\n",
    "    A.dropna(how='all',inplace = True)\n",
    "    \n",
    "    inter_cell = A.columns.intersection(B.columns)\n",
    "    inter_gene = A.index.intersection(B.index)\n",
    "    B = B[inter_cell]\n",
    "    B = (B.T)[inter_gene].T\n",
    "    \n",
    "    A = (A.T)[inter_gene].T\n",
    "    A = A[inter_cell]\n",
    "\n",
    "    cmd = CMD_dist(A.values.T,B.values)\n",
    "\n",
    "    cmd_protein.append(cmd)\n",
    "\n",
    "CMD_protein = pd.DataFrame(data = cmd_protein, index = index,columns = ['cmd_values'])"
   ]
  },
  {
   "cell_type": "code",
   "execution_count": 36,
   "id": "786a3c72-d39d-412f-bd85-ced58431940e",
   "metadata": {},
   "outputs": [],
   "source": [
    "CMD_cell.to_csv(\"../Results/\"+ test_id + \"_from_\" + train_id +\"_cmd_cell.csv\")\n",
    "CMD_protein.to_csv(\"../Results/\"+ test_id + \"_from_\" + train_id +\"_cmd_protein.csv\")"
   ]
  },
  {
   "cell_type": "code",
   "execution_count": 37,
   "id": "77a893ff-e145-48c4-b1a7-72be775d99e1",
   "metadata": {},
   "outputs": [
    {
     "data": {
      "image/png": "[encoded data removed]",
      "text/plain": [
       "<Figure size 400x320 with 1 Axes>"
      ]
     },
     "metadata": {},
     "output_type": "display_data"
    }
   ],
   "source": [
    "font = {'family':'DejaVu Sans','weight':'normal','size':15}\n",
    "plt.figure(figsize=(5,4), dpi= 80)\n",
    "fig3 = sns.barplot(x = \"cmd_values\",y = index,orient = \"h\",data = CMD_cell, ci = 95, palette = my_pal)\n",
    "fig3.set_xlabel(\"cell-cell CMD\")\n",
    "fig3.spines['top'].set_visible(False)\n",
    "fig3.spines['right'].set_visible(False)\n",
    "fig3.set_xticks(np.arange(0,0.55,0.1))\n",
    "plt.title(test_id + \"_from_\" + train_id, fontdict={'size': 12})\n",
    "# plt.savefig(\"../Results/new_pictures/Twobatches/\"+ test_id + \"_from_\" + train_id +\"_cmd_cell.pdf\", bbox_inches=\"tight\")\n",
    "plt.show()"
   ]
  },
  {
   "cell_type": "code",
   "execution_count": 38,
   "id": "d2c5f05c-f3ed-4226-9abe-9275ba5fd416",
   "metadata": {},
   "outputs": [
    {
     "data": {
      "image/png": "[encoded data removed]",
      "text/plain": [
       "<Figure size 400x320 with 1 Axes>"
      ]
     },
     "metadata": {},
     "output_type": "display_data"
    }
   ],
   "source": [
    "font = {'family':'DejaVu Sans','weight':'normal','size':15}\n",
    "plt.figure(figsize=(5,4), dpi= 80)\n",
    "fig4 = sns.barplot(x = \"cmd_values\",y = index,orient = \"h\",data = CMD_protein, ci = 95, palette = my_pal)\n",
    "fig4.set_xlabel(\"cmd_protein\")\n",
    "fig4.spines['top'].set_visible(False)\n",
    "fig4.spines['right'].set_visible(False)\n",
    "fig4.set_xticks(np.arange(0,0.55,0.1))\n",
    "plt.title(test_id + \"_from_\" + train_id, fontdict={'size': 12})\n",
    "# plt.savefig(\"../Results/\"+ test_id + \"_from_\" + train_id +\"_cmd_protein.pdf\", bbox_inches=\"tight\")\n",
    "plt.show()"
   ]
  },
  {
   "cell_type": "markdown",
   "id": "884bf19b-21d1-45fe-93e3-8aec76962d15",
   "metadata": {},
   "source": [
    "# Compute RMSE"
   ]
  },
  {
   "cell_type": "code",
   "execution_count": 39,
   "id": "c1cb402e-dbdf-4d5d-899d-af47630783a9",
   "metadata": {},
   "outputs": [],
   "source": [
    "def RMSE(true,pred):\n",
    "    true_array = np.array(true,dtype=np.float32).flatten()\n",
    "    pred_array = np.array(pred,dtype=np.float32).flatten() \n",
    "    rmse = metrics.mean_squared_error(true_array, pred_array)**0.5\n",
    "    return rmse"
   ]
  },
  {
   "cell_type": "code",
   "execution_count": 40,
   "id": "952a51ea-ad00-48eb-aede-00389181331b",
   "metadata": {},
   "outputs": [],
   "source": [
    "method_list = ['totalVI','scArches','Dengkw','cTp_net','scMoGNN','Seurat','Liger','BABEL','CMAE','sciPENN','scVAEIT']"
   ]
  },
  {
   "cell_type": "code",
   "execution_count": 41,
   "id": "4afc402b-4de5-47a0-9ebd-bef8953a1625",
   "metadata": {},
   "outputs": [
    {
     "name": "stdout",
     "output_type": "stream",
     "text": [
      "totalVI\n",
      "1.1702337852255997\n",
      "scArches\n",
      "1.1765505279701944\n",
      "Dengkw\n",
      "1.2055825239720976\n",
      "cTp_net\n",
      "1.2057723606795805\n",
      "scMoGNN\n",
      "1.1803283466530747\n",
      "Seurat\n",
      "1.1444884933453203\n",
      "Liger\n",
      "1.2211012534352146\n",
      "BABEL\n",
      "1.0694566632408118\n",
      "CMAE\n",
      "1.3426723594768977\n",
      "sciPENN\n",
      "0.8844994150809968\n",
      "scVAEIT\n",
      "1.2126053184309593\n"
     ]
    }
   ],
   "source": [
    "## compute\n",
    "for i in range(len(method_list)):\n",
    "    A = ad.AnnData(X = true_data).copy()\n",
    "    sc.pp.normalize_total(A)\n",
    "    sc.pp.log1p(A)\n",
    "    sc.pp.scale(A)\n",
    "\n",
    "    B = pd.DataFrame(data = A.X,columns = A.var_names,index = A.obs_names)    \n",
    "    \n",
    "    name = method_list[i]\n",
    "    print(name)\n",
    "    if name in ['Seurat','cTp_net']:\n",
    "        temp = eval(name+'_pre').apply(lambda x: np.exp(x), axis=0)\n",
    "        temp = ad.AnnData(temp)\n",
    "        sc.pp.normalize_total(temp)\n",
    "        sc.pp.log1p(temp)\n",
    "        sc.pp.scale(temp)\n",
    "\n",
    "        temp_pred = pd.DataFrame(data = temp.X,columns = temp.var_names,index = temp.obs_names)\n",
    "        \n",
    "        locals()[name+'_rmse'] = RMSE(B,temp_pred)\n",
    "            \n",
    "    elif name in ['sciPENN']:\n",
    "        A_1 = ad.AnnData(true_data.T[sciPENN_pre.index].T).copy()\n",
    "        sc.pp.normalize_total(A_1)\n",
    "        sc.pp.log1p(A_1)\n",
    "        sc.pp.scale(A_1)\n",
    "\n",
    "        B_1 = pd.DataFrame(data = A_1.X,columns = A_1.var_names,index = A_1.obs_names) \n",
    "        \n",
    "        sciPENN_rmse = RMSE(B_1,sciPENN_pre)\n",
    "            \n",
    "    elif name in ['scVAEIT']:\n",
    "        A_1 = ad.AnnData(X = true_data_after).copy()\n",
    "        sc.pp.normalize_total(A_1)\n",
    "        sc.pp.log1p(A_1)\n",
    "        sc.pp.scale(A_1)\n",
    "\n",
    "        B_1 = pd.DataFrame(data = A_1.X,columns = A_1.var_names,index = A_1.obs_names) \n",
    "        \n",
    "        scVAEIT_scale = ad.AnnData(scVAEIT_pre)\n",
    "        sc.pp.scale(scVAEIT_scale)\n",
    "        scVAEIT_scale = pd.DataFrame(data = scVAEIT_scale.X,columns = scVAEIT_scale.var_names,index = scVAEIT_scale.obs_names)\n",
    "\n",
    "        scVAEIT_rmse = RMSE(B_1,scVAEIT_scale)\n",
    "        \n",
    "    else:\n",
    "        temp = eval(name+'_pre').copy()\n",
    "        temp[temp<0] = 1e-20\n",
    "        temp = ad.AnnData(temp)\n",
    "        sc.pp.normalize_total(temp)\n",
    "        sc.pp.log1p(temp)\n",
    "        sc.pp.scale(temp)\n",
    "\n",
    "        temp_pred = pd.DataFrame(data = temp.X,columns = temp.var_names,index = temp.obs_names)\n",
    "        locals()[name+'_rmse'] = RMSE(B,temp_pred)\n",
    "    print(f\"{eval(name+'_rmse')}\")\n",
    "\n",
    "rmse_data = []                \n",
    "for method in method_list:\n",
    "    rmse_data.append(eval(method+'_rmse'))"
   ]
  },
  {
   "cell_type": "code",
   "execution_count": 42,
   "id": "e4697c39-5945-4046-8bc2-2a8ed02cbfc7",
   "metadata": {},
   "outputs": [],
   "source": [
    "RMSE_Data = pd.DataFrame(data = rmse_data, index = method_list,columns = ['rmse_values'])"
   ]
  },
  {
   "cell_type": "code",
   "execution_count": 43,
   "id": "bae1acef-924e-4e98-9ad3-2c6d4c90d891",
   "metadata": {},
   "outputs": [],
   "source": [
    "RMSE_Data.to_csv(\"../Results/\"+ test_id + \"_from_\" + train_id +\"_rmse.csv\")"
   ]
  },
  {
   "cell_type": "markdown",
   "id": "e2360086-7c94-4550-817b-926ebc83006c",
   "metadata": {},
   "source": [
    "# Draw pictures"
   ]
  },
  {
   "cell_type": "code",
   "execution_count": 44,
   "id": "85bc7ee2-e812-4983-a563-6393f014f8bd",
   "metadata": {},
   "outputs": [],
   "source": [
    "index_new = ['totalVI','scArches','Dengkw','sciPENN','scMoGNN','Seurat','BABEL','scVAEIT','cTp_net','CMAE','Liger']"
   ]
  },
  {
   "cell_type": "code",
   "execution_count": 45,
   "id": "d66890d9-0e78-4d08-9e44-8b2e8f66b529",
   "metadata": {},
   "outputs": [],
   "source": [
    "PCCs_protein = PCCs_protein.T[index_new].T\n",
    "PCCs_cell = PCCs_cell.T[index_new].T\n",
    "\n",
    "CMD_cell = CMD_cell.T[index_new].T\n",
    "CMD_protein = CMD_protein.T[index_new].T"
   ]
  },
  {
   "cell_type": "code",
   "execution_count": 46,
   "id": "5f44ad7f-c677-4319-ade8-2d37e4c0f975",
   "metadata": {},
   "outputs": [
    {
     "data": {
      "image/png": "[encoded data removed]",
      "text/plain": [
       "<Figure size 1600x240 with 5 Axes>"
      ]
     },
     "metadata": {},
     "output_type": "display_data"
    }
   ],
   "source": [
    "plt.figure(figsize=(20,3), dpi= 80)\n",
    "\n",
    "ax1 = plt.subplot(151)\n",
    "ax1 = sns.boxplot(data=PCCs_protein.T,orient = \"h\",linewidth=1,width=0.7, palette=my_pal,fliersize=0,flierprops = {'marker':'o'})\n",
    "ax1.set_xlabel(\"protein-protein PCC\")\n",
    "ax1.set_xlim(-1.1,1.1)\n",
    "ax1.spines['top'].set_visible(False)\n",
    "ax1.spines['right'].set_visible(False)\n",
    "\n",
    "ax2 = plt.subplot(152)\n",
    "ax2 = sns.boxplot(data=PCCs_cell.T,orient = \"h\",linewidth=1,width=0.7, palette=my_pal,fliersize=0,flierprops = {'marker':'o'})\n",
    "ax2.set_xlabel(\"cell-cell PCC\")\n",
    "ax2.set_xlim(-1.1,1.1)\n",
    "ax2.spines['top'].set_visible(False)\n",
    "ax2.spines['right'].set_visible(False)\n",
    "plt.yticks(alpha=0)\n",
    "\n",
    "ax3 = plt.subplot(153)\n",
    "ax3 = sns.barplot(x = \"cmd_values\",y = CMD_cell.index,orient = \"h\",data = CMD_cell, ci = 95, palette = my_pal)\n",
    "ax3.set_xlabel(\"cell-cell CMD\")\n",
    "ax3.spines['top'].set_visible(False)\n",
    "ax3.spines['right'].set_visible(False)\n",
    "ax3.set_xticks(np.arange(0,0.55,0.1))\n",
    "plt.yticks(alpha=0)\n",
    "\n",
    "ax4 = plt.subplot(154)\n",
    "ax4 = sns.barplot(x = \"cmd_values\",y = CMD_protein.index,orient = \"h\",data = CMD_protein, ci = 95, palette = my_pal)\n",
    "ax4.set_xlabel(\"protein-protein CMD\")\n",
    "ax4.spines['top'].set_visible(False)\n",
    "ax4.spines['right'].set_visible(False)\n",
    "ax4.set_xticks(np.arange(0,0.55,0.1))\n",
    "plt.yticks(alpha=0)\n",
    "\n",
    "ax5 = plt.subplot(155)\n",
    "ax5 = sns.barplot(x = \"rmse_values\",y = RMSE_Data.index,orient = \"h\",data = RMSE_Data, ci = 95, palette = my_pal)\n",
    "ax5.set_xlabel(\"RMSE\")\n",
    "ax5.spines['top'].set_visible(False)\n",
    "ax5.spines['right'].set_visible(False)\n",
    "ax5.set_xticks(np.arange(0,2,0.4))\n",
    "plt.yticks(alpha=0)\n",
    "\n",
    "# plt.savefig(\"../Results/\"+ test_id + \"_from_\" + train_id +\"_total.pdf\", bbox_inches=\"tight\")\n",
    "plt.show()\n"
   ]
  },
  {
   "cell_type": "code",
   "execution_count": null,
   "id": "fc0a2cd0-f2cd-4e93-902d-aa565f8e26da",
   "metadata": {},
   "outputs": [],
   "source": []
  }
 ],
 "metadata": {
  "kernelspec": {
   "display_name": "Python 3 (ipykernel)",
   "language": "python",
   "name": "python3"
  },
  "language_info": {
   "codemirror_mode": {
    "name": "ipython",
    "version": 3
   },
   "file_extension": ".py",
   "mimetype": "text/x-python",
   "name": "python",
   "nbconvert_exporter": "python",
   "pygments_lexer": "ipython3",
   "version": "3.8.17"
  }
 },
 "nbformat": 4,
 "nbformat_minor": 5
}
