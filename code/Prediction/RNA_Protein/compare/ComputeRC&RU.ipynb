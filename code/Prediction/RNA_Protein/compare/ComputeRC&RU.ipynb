{
 "cells": [
  {
   "cell_type": "code",
   "execution_count": 2,
   "id": "e37d0fba-7b67-4610-9606-62014263542f",
   "metadata": {},
   "outputs": [],
   "source": [
    "import numpy as np\n",
    "import pandas as pd\n",
    "import scanpy as sc\n",
    "import anndata as ad\n",
    "import argparse\n",
    "import os\n",
    "\n",
    "from scipy.stats import pearsonr\n",
    "from scipy.sparse import csr_matrix, coo_matrix, csc_matrix\n",
    "from scipy.io import mmread, mmwrite\n",
    "from scipy import stats\n",
    "from sklearn import metrics\n",
    "\n",
    "import seaborn as sns\n",
    "import matplotlib\n",
    "import matplotlib.pyplot as plt\n",
    "matplotlib.rcParams.update(matplotlib.rcParamsDefault)\n",
    "# matplotlib.rcParams['pdf.fonttype'] = 42\n",
    "# matplotlib.rcParams['ps.fonttype'] = 42\n",
    "# matplotlib.rcParams['font.serif'] = ['Arial']\n",
    "# # matplotlib.rcParams['font.serif'] = ['SimHei']\n",
    "# sc.settings.set_figure_params(dpi=150,dpi_save=300,facecolor='white',fontsize=10,figsize=(3,3))\n",
    "matplotlib.rcParams['font.serif'] = ['Arial']\n",
    "\n",
    "import warnings\n",
    "warnings.filterwarnings(\"ignore\")"
   ]
  },
  {
   "cell_type": "markdown",
   "id": "2923069c-743b-4c5b-8b07-ae8984fdb301",
   "metadata": {},
   "source": [
    "# Determine RC and RU proteins #"
   ]
  },
  {
   "cell_type": "code",
   "execution_count": 27,
   "id": "ee13d170-fe75-4b48-9bb5-03df97ada087",
   "metadata": {},
   "outputs": [],
   "source": [
    "train_id = \"24\"\n",
    "test_id = \"23\"\n",
    "data_path = \"../dataset/dataset\""
   ]
  },
  {
   "cell_type": "code",
   "execution_count": 28,
   "id": "fdb3840e-a1d3-4d81-a0b2-fe23525b2a12",
   "metadata": {},
   "outputs": [],
   "source": [
    "true_data_path = data_path + test_id +\"_adata.h5ad\"\n",
    "test_data = sc.read(true_data_path)\n",
    "true_data = test_data.obsm['protein_expression']\n",
    "true_data.columns = true_data.columns.str.replace(\"-\",\"_\")\n",
    "true_data.columns = true_data.columns.str.replace(\".\",\"_\")"
   ]
  },
  {
   "cell_type": "code",
   "execution_count": 29,
   "id": "df3275f4-7097-4230-9613-b6b4be7e0419",
   "metadata": {},
   "outputs": [],
   "source": [
    "train_data = sc.read(data_path + train_id +\"_adata.h5ad\")\n",
    "train_data.obsm['protein_expression'].columns = train_data.obsm['protein_expression'].columns.str.replace(\"-\",\"_\")\n",
    "train_data.obsm['protein_expression'].columns = train_data.obsm['protein_expression'].columns.str.replace(\".\",\"_\")"
   ]
  },
  {
   "cell_type": "code",
   "execution_count": 30,
   "id": "ddeed623-1dae-4e2e-8270-558efac854ae",
   "metadata": {},
   "outputs": [],
   "source": [
    "proteins_inter = train_data.obsm['protein_expression'].columns.intersection(test_data.obsm['protein_expression'].columns)"
   ]
  },
  {
   "cell_type": "code",
   "execution_count": 31,
   "id": "064a5fed-0100-4b25-bf2b-a86ad748b3f9",
   "metadata": {},
   "outputs": [],
   "source": [
    "protein_path = \"../dataset/dataset\" + test_id + \"_adtdata_all.csv\"\n",
    "norm_proteins = pd.read_csv(protein_path,index_col = 0).T\n",
    "norm_proteins.columns = norm_proteins.columns.str.replace(\"-\",\"_\")\n",
    "norm_proteins.columns = norm_proteins.columns.str.replace(\".\",\"_\")"
   ]
  },
  {
   "cell_type": "code",
   "execution_count": 32,
   "id": "a9decc27-abff-4d02-85e3-ecf485392306",
   "metadata": {},
   "outputs": [],
   "source": [
    "norm_proteins = norm_proteins[proteins_inter]"
   ]
  },
  {
   "cell_type": "code",
   "execution_count": 33,
   "id": "3f0539f2-1539-41b9-87c5-356fe9ae3a3a",
   "metadata": {},
   "outputs": [],
   "source": [
    "gene_path = \"../dataset/dataset\" + test_id + \"_genedata_all.mtx\"\n",
    "norm_genes = mmread(gene_path)\n",
    "norm_genes = norm_genes.toarray()\n",
    "norm_genes = pd.DataFrame(data = norm_genes.T,index = test_data.obs_names,columns = test_data.var_names)"
   ]
  },
  {
   "cell_type": "code",
   "execution_count": 34,
   "id": "18e8132f-c268-4014-985e-2be13da08ac6",
   "metadata": {
    "tags": []
   },
   "outputs": [],
   "source": [
    "PCC_protein2genes = pd.DataFrame()\n",
    "for pro in range(norm_proteins.shape[1]):\n",
    "    pccs_protein2genes = []\n",
    "    for i in range(norm_genes.shape[1]):\n",
    "        x = np.array(norm_proteins[norm_proteins.columns[pro]])\n",
    "        y = np.array(norm_genes[norm_genes.columns[i]])    \n",
    "        pcc = pearsonr(x,y)[0]\n",
    "        pccs_protein2genes.append(pcc)\n",
    "    PCC_protein2genes = pd.concat([PCC_protein2genes,pd.DataFrame(data = pccs_protein2genes,columns = [norm_proteins.columns[pro]])],axis = 1)"
   ]
  },
  {
   "cell_type": "code",
   "execution_count": 35,
   "id": "ea669b17-f319-46ba-9a8b-41f24a2f0d97",
   "metadata": {},
   "outputs": [],
   "source": [
    "RC_protein = PCC_protein2genes.max()[(PCC_protein2genes.max() > 0.5 ) == True]\n",
    "RC_protein = RC_protein.index.str.replace('-','_')\n",
    "RC_protein = RC_protein.str.replace('.','_')\n",
    "\n",
    "RU_protein = PCC_protein2genes.max()[(PCC_protein2genes.max() <= 0.5 ) == True]\n",
    "RU_protein = RU_protein.index.str.replace('-','_')\n",
    "RU_protein = RU_protein.str.replace('.','_')"
   ]
  },
  {
   "cell_type": "code",
   "execution_count": 36,
   "id": "8b64e1c3-3aca-492c-bfdb-87dc78c11d3e",
   "metadata": {},
   "outputs": [
    {
     "name": "stdout",
     "output_type": "stream",
     "text": [
      "There are 48 types of proteins, including 16 RC proteins and 31 RU proteins.\n"
     ]
    }
   ],
   "source": [
    "print(\"There are {} types of proteins, including {} RC proteins and {} RU proteins.\".format(PCC_protein2genes.shape[1],len(RC_protein),len(RU_protein)))"
   ]
  },
  {
   "cell_type": "markdown",
   "id": "d6525981-488e-4507-adf5-0a3773e7d142",
   "metadata": {},
   "source": [
    "# Load data"
   ]
  },
  {
   "cell_type": "code",
   "execution_count": 37,
   "id": "cdfb276b-2f10-4184-8ab1-865e9b30a556",
   "metadata": {},
   "outputs": [],
   "source": [
    "totalVI_path = \"../Results/\" + test_id + \"_from_\" + train_id + \"_totalVI.csv\"\n",
    "scArches_path = \"../Results/\" + test_id + \"_from_\" + train_id + \"_scArches.csv\"\n",
    "Dengkw_path = \"../Results/\" + test_id + \"_from_\" + train_id + \"_Dengkw.csv\"\n",
    "cTp_net_path = \"../Results/\" + test_id + \"_from_\" + train_id + \"_cTPnet.csv\"\n",
    "scMoGNN_path = \"../Results/\" + test_id + \"_from_\" + train_id + \"_scMoGNN.csv\"\n",
    "Seurat_path = \"../Results/\" + test_id + \"_from_\" + train_id + \"_seurat.csv\"\n",
    "Liger_path = \"../Results/\" + test_id + \"_from_\" + train_id + \"_Liger.csv\"\n",
    "BABEL_path = \"../Results/\" + test_id + \"_from_\" + train_id + \"_babel.csv\"\n",
    "CMAE_path = \"../Results/\" + test_id + \"_from_\" + train_id + \"_cmae.csv\"\n",
    "sciPENN_path = \"../Results/\" + test_id + \"_from_\" + train_id + \"_sciPENN.csv\"\n",
    "scVAEIT_path = \"../Results/\" + test_id + \"_from_\" + train_id + \"_scVAEIT.csv\""
   ]
  },
  {
   "cell_type": "code",
   "execution_count": 38,
   "id": "f95e6b37-620d-48ba-bd80-2c7776d4d69c",
   "metadata": {},
   "outputs": [],
   "source": [
    "totalVI_pre = pd.read_csv(totalVI_path,index_col = 0)\n",
    "scArches_pre = pd.read_csv(scArches_path,index_col = 0)\n",
    "Dengkw_pre = pd.read_csv(Dengkw_path,index_col = 0)\n",
    "cTp_net_pre = pd.read_csv(cTp_net_path,index_col = 0).T\n",
    "scMoGNN_pre = pd.read_csv(scMoGNN_path,index_col = 0).T\n",
    "Seurat_pre = pd.read_csv(Seurat_path,index_col = 0).T\n",
    "Liger_pre = pd.read_csv(Liger_path,index_col = 0).T\n",
    "BABEL_pre = pd.read_csv(BABEL_path,index_col = 0).T\n",
    "CMAE_pre = pd.read_csv(CMAE_path,index_col = 0).T\n",
    "sciPENN_pre = pd.read_csv(sciPENN_path,index_col = 0)\n",
    "scVAEIT_pre = pd.read_csv(scVAEIT_path,index_col = 0)"
   ]
  },
  {
   "cell_type": "code",
   "execution_count": 39,
   "id": "61a9ce6b-bef1-43cb-9951-3b874463e379",
   "metadata": {},
   "outputs": [],
   "source": [
    "totalVI_pre.columns = totalVI_pre.columns.str.replace(\"-\",\"_\")\n",
    "totalVI_pre.columns = totalVI_pre.columns.str.replace(\".\",\"_\")\n",
    "scArches_pre.columns = scArches_pre.columns.str.replace(\"-\",\"_\")\n",
    "Dengkw_pre.columns = Dengkw_pre.columns.str.replace(\"-\",\"_\")\n",
    "cTp_net_pre.columns = cTp_net_pre.columns.str.replace(\"-\",\"_\")\n",
    "Seurat_pre.columns = Seurat_pre.columns.str.replace(\"-\",\"_\")\n",
    "Seurat_pre.columns = Seurat_pre.columns.str.replace(\".\",\"_\")\n",
    "Liger_pre.columns = Liger_pre.columns.str.replace(\"-\",\"_\")\n",
    "Liger_pre.columns = Liger_pre.columns.str.replace(\".\",\"_\")\n",
    "sciPENN_pre.columns = sciPENN_pre.columns.str.replace(\"-\",\"_\")\n",
    "sciPENN_pre.columns = sciPENN_pre.columns.str.replace(\".\",\"_\")\n",
    "scVAEIT_pre.columns = scVAEIT_pre.columns.str.replace(\"-\",\"_\")\n",
    "scVAEIT_pre.columns = scVAEIT_pre.columns.str.replace(\".\",\"_\")"
   ]
  },
  {
   "cell_type": "code",
   "execution_count": 40,
   "id": "1bfa2f85-4f26-45ad-8fee-7b7238a8985a",
   "metadata": {
    "tags": []
   },
   "outputs": [],
   "source": [
    "scMoGNN_pre = pd.DataFrame(data = scMoGNN_pre.values, index = true_data.index , columns = proteins_inter)\n",
    "CMAE_pre = pd.DataFrame(data = CMAE_pre.values, index = true_data.index , columns = train_data.obsm['protein_expression'].columns)\n",
    "CMAE_pre = CMAE_pre[proteins_inter]\n",
    "BABEL_pre = pd.DataFrame(data = BABEL_pre.values, index = true_data.index , columns = train_data.obsm['protein_expression'].columns)\n",
    "BABEL_pre = BABEL_pre[proteins_inter]\n",
    "totalVI_pre = totalVI_pre[proteins_inter]\n",
    "scArches_pre = scArches_pre[proteins_inter]\n",
    "Dengkw_pre = Dengkw_pre[proteins_inter]\n",
    "cTp_net_pre = cTp_net_pre[proteins_inter]\n",
    "Seurat_pre = Seurat_pre[proteins_inter]\n",
    "Liger_pre = Liger_pre[proteins_inter]\n",
    "sciPENN_pre = sciPENN_pre[proteins_inter]\n",
    "scVAEIT_pre = scVAEIT_pre[proteins_inter]\n",
    "true_data = true_data[proteins_inter]"
   ]
  },
  {
   "cell_type": "code",
   "execution_count": 41,
   "id": "ff47b53f-a614-4317-8ca4-b48af1fdd543",
   "metadata": {},
   "outputs": [
    {
     "name": "stdout",
     "output_type": "stream",
     "text": [
      "(3158, 48)\n",
      "(3158, 48)\n",
      "(3158, 48)\n",
      "(3158, 48)\n",
      "(3158, 48)\n",
      "(3158, 48)\n",
      "(3158, 48)\n",
      "(3158, 48)\n",
      "(3158, 48)\n",
      "(3158, 48)\n",
      "(3158, 48)\n"
     ]
    }
   ],
   "source": [
    "print(scMoGNN_pre.shape)\n",
    "print(totalVI_pre.shape)\n",
    "print(scArches_pre.shape)\n",
    "print(Dengkw_pre.shape)\n",
    "print(cTp_net_pre.shape)\n",
    "print(Seurat_pre.shape)\n",
    "print(Liger_pre.shape)\n",
    "print(BABEL_pre.shape)\n",
    "print(CMAE_pre.shape)\n",
    "print(sciPENN_pre.shape)\n",
    "print(scVAEIT_pre.shape)"
   ]
  },
  {
   "cell_type": "code",
   "execution_count": 42,
   "id": "734d3615-f1ee-4fae-a11e-3ce145dc3119",
   "metadata": {},
   "outputs": [],
   "source": [
    "RC_true = true_data[RC_protein]\n",
    "RC_totalVI_pre = totalVI_pre[RC_protein]\n",
    "RC_scArches_pre = scArches_pre[RC_protein]\n",
    "RC_Dengkw_pre = Dengkw_pre[RC_protein]\n",
    "RC_cTp_net_pre = cTp_net_pre[RC_protein]\n",
    "RC_scMoGNN_pre = scMoGNN_pre[RC_protein]\n",
    "RC_Seurat_pre = Seurat_pre[RC_protein]\n",
    "RC_Liger_pre = Liger_pre[RC_protein]\n",
    "RC_BABEL_pre = BABEL_pre[RC_protein]\n",
    "RC_CMAE_pre = CMAE_pre[RC_protein]\n",
    "RC_sciPENN_pre = sciPENN_pre[RC_protein]\n",
    "RC_scVAEIT_pre = scVAEIT_pre[RC_protein]"
   ]
  },
  {
   "cell_type": "code",
   "execution_count": 43,
   "id": "44b0ddf0-c0da-40f6-96fa-f97a7ec97189",
   "metadata": {},
   "outputs": [],
   "source": [
    "RU_true = true_data[RU_protein]\n",
    "RU_totalVI_pre = totalVI_pre[RU_protein]\n",
    "RU_scArches_pre = scArches_pre[RU_protein]\n",
    "RU_Dengkw_pre = Dengkw_pre[RU_protein]\n",
    "RU_cTp_net_pre = cTp_net_pre[RU_protein]\n",
    "RU_scMoGNN_pre = scMoGNN_pre[RU_protein]\n",
    "RU_Seurat_pre = Seurat_pre[RU_protein]\n",
    "RU_Liger_pre = Liger_pre[RU_protein]\n",
    "RU_BABEL_pre = BABEL_pre[RU_protein]\n",
    "RU_CMAE_pre = CMAE_pre[RU_protein]\n",
    "RU_sciPENN_pre = sciPENN_pre[RU_protein]\n",
    "RU_scVAEIT_pre = scVAEIT_pre[RU_protein]"
   ]
  },
  {
   "cell_type": "markdown",
   "id": "02c48a5f-63e0-4d28-84a8-5ac63e0f1444",
   "metadata": {},
   "source": [
    "# Compute PCCs #"
   ]
  },
  {
   "cell_type": "markdown",
   "id": "8450a78f-6a30-4096-b361-a89e90067dfc",
   "metadata": {},
   "source": [
    "### totalVI ###"
   ]
  },
  {
   "cell_type": "code",
   "execution_count": 44,
   "id": "3bee7689-df42-4338-89e8-148d1ff1135a",
   "metadata": {},
   "outputs": [],
   "source": [
    "RC_totalVI_pcc_protein = []\n",
    "for i in range(RC_totalVI_pre.shape[1]):\n",
    "    x = np.array(RC_totalVI_pre[RC_totalVI_pre.columns[i]])\n",
    "    y = np.array(RC_true[RC_true.columns[i]])    \n",
    "    pcc = pearsonr(x,y)[0]\n",
    "    RC_totalVI_pcc_protein.append(pcc)\n",
    "RC_totalVI_pcc_cell = []\n",
    "for i in range(RC_totalVI_pre.shape[0]):\n",
    "    x = np.array((RC_totalVI_pre.T)[RC_totalVI_pre.index[i]])\n",
    "    y = np.array((RC_true.T)[RC_true.index[i]])    \n",
    "    pcc = pearsonr(x,y)[0]\n",
    "    RC_totalVI_pcc_cell.append(pcc)"
   ]
  },
  {
   "cell_type": "code",
   "execution_count": 45,
   "id": "b84dcee6-f399-4b31-ad34-ddec41c70b8b",
   "metadata": {},
   "outputs": [],
   "source": [
    "RU_totalVI_pcc_protein = []\n",
    "for i in range(RU_totalVI_pre.shape[1]):\n",
    "    x = np.array(RU_totalVI_pre[RU_totalVI_pre.columns[i]])\n",
    "    y = np.array(RU_true[RU_true.columns[i]])    \n",
    "    pcc = pearsonr(x,y)[0]\n",
    "    RU_totalVI_pcc_protein.append(pcc)\n",
    "RU_totalVI_pcc_cell = []\n",
    "for i in range(RU_totalVI_pre.shape[0]):\n",
    "    x = np.array((RU_totalVI_pre.T)[RU_totalVI_pre.index[i]])\n",
    "    y = np.array((RU_true.T)[RU_true.index[i]])    \n",
    "    pcc = pearsonr(x,y)[0]\n",
    "    RU_totalVI_pcc_cell.append(pcc)"
   ]
  },
  {
   "cell_type": "markdown",
   "id": "2b509dcf-b65b-44b2-9681-80f1a738b1fb",
   "metadata": {},
   "source": [
    "### scArches ###"
   ]
  },
  {
   "cell_type": "code",
   "execution_count": 46,
   "id": "4fa6789a-4310-483a-8508-691a67fca300",
   "metadata": {},
   "outputs": [],
   "source": [
    "RC_scArches_pcc_protein = []\n",
    "for i in range(RC_scArches_pre.shape[1]):\n",
    "    x = np.array(RC_scArches_pre[RC_scArches_pre.columns[i]])\n",
    "    y = np.array(RC_true[RC_true.columns[i]])    \n",
    "    pcc = pearsonr(x,y)[0]\n",
    "    RC_scArches_pcc_protein.append(pcc)\n",
    "RC_scArches_pcc_cell = []\n",
    "for i in range(RC_scArches_pre.shape[0]):\n",
    "    x = np.array((RC_scArches_pre.T)[RC_scArches_pre.index[i]])\n",
    "    y = np.array((RC_true.T)[RC_true.index[i]])    \n",
    "    pcc = pearsonr(x,y)[0]\n",
    "    RC_scArches_pcc_cell.append(pcc)"
   ]
  },
  {
   "cell_type": "code",
   "execution_count": 47,
   "id": "f262a1af-6362-499f-9ae0-433c14b96142",
   "metadata": {},
   "outputs": [],
   "source": [
    "RU_scArches_pcc_protein = []\n",
    "for i in range(RU_scArches_pre.shape[1]):\n",
    "    x = np.array(RU_scArches_pre[RU_scArches_pre.columns[i]])\n",
    "    y = np.array(RU_true[RU_true.columns[i]])    \n",
    "    pcc = pearsonr(x,y)[0]\n",
    "    RU_scArches_pcc_protein.append(pcc)\n",
    "RU_scArches_pcc_cell = []\n",
    "for i in range(RU_scArches_pre.shape[0]):\n",
    "    x = np.array((RU_scArches_pre.T)[RU_scArches_pre.index[i]])\n",
    "    y = np.array((RU_true.T)[RU_true.index[i]])    \n",
    "    pcc = pearsonr(x,y)[0]\n",
    "    RU_scArches_pcc_cell.append(pcc)"
   ]
  },
  {
   "cell_type": "markdown",
   "id": "01d6f930-acd1-4439-8e9e-359099c6c304",
   "metadata": {},
   "source": [
    "### Guanlab-dengkw"
   ]
  },
  {
   "cell_type": "code",
   "execution_count": 48,
   "id": "69c0fdec-884a-49ae-99e5-434856a573e0",
   "metadata": {},
   "outputs": [],
   "source": [
    "RC_Dengkw_pcc_protein = []\n",
    "for i in range(RC_Dengkw_pre.shape[1]):\n",
    "    x = np.array(RC_Dengkw_pre[RC_Dengkw_pre.columns[i]])\n",
    "    y = np.array(RC_true[RC_true.columns[i]])    \n",
    "    pcc = pearsonr(x,y)[0]\n",
    "    RC_Dengkw_pcc_protein.append(pcc)\n",
    "RC_Dengkw_pcc_cell = []\n",
    "for i in range(RC_Dengkw_pre.shape[0]):\n",
    "    x = np.array((RC_Dengkw_pre.T)[RC_Dengkw_pre.index[i]])\n",
    "    y = np.array((RC_true.T)[RC_true.index[i]])    \n",
    "    pcc = pearsonr(x,y)[0]\n",
    "    RC_Dengkw_pcc_cell.append(pcc)"
   ]
  },
  {
   "cell_type": "code",
   "execution_count": 49,
   "id": "d884b408-2c3f-4a1a-8d3f-f86cdb06e9b2",
   "metadata": {},
   "outputs": [],
   "source": [
    "RU_Dengkw_pcc_protein = []\n",
    "for i in range(RU_Dengkw_pre.shape[1]):\n",
    "    x = np.array(RU_Dengkw_pre[RU_Dengkw_pre.columns[i]])\n",
    "    y = np.array(RU_true[RU_true.columns[i]])    \n",
    "    pcc = pearsonr(x,y)[0]\n",
    "    RU_Dengkw_pcc_protein.append(pcc)\n",
    "RU_Dengkw_pcc_cell = []\n",
    "for i in range(RU_Dengkw_pre.shape[0]):\n",
    "    x = np.array((RU_Dengkw_pre.T)[RU_Dengkw_pre.index[i]])\n",
    "    y = np.array((RU_true.T)[RU_true.index[i]])    \n",
    "    pcc = pearsonr(x,y)[0]\n",
    "    RU_Dengkw_pcc_cell.append(pcc)"
   ]
  },
  {
   "cell_type": "markdown",
   "id": "0128c887-4561-453b-a4c4-b3994fbf8780",
   "metadata": {},
   "source": [
    "### cTP-net ###"
   ]
  },
  {
   "cell_type": "code",
   "execution_count": 50,
   "id": "20d9c5a9-fb92-4b51-bd80-630a86b343d9",
   "metadata": {},
   "outputs": [],
   "source": [
    "clr_true = true_data.apply(lambda x: np.log((x+1.0)/stats.gmean(x+1.0)), axis=0)\n",
    "RC_clr = clr_true[RC_protein]\n",
    "RU_clr = clr_true[RU_protein]"
   ]
  },
  {
   "cell_type": "code",
   "execution_count": 51,
   "id": "1f0fd94b-5a5a-4057-8191-cec4321acf2c",
   "metadata": {},
   "outputs": [],
   "source": [
    "RC_cTp_net_pcc_protein = []\n",
    "for i in range(RC_cTp_net_pre.shape[1]):\n",
    "    x = np.array(RC_cTp_net_pre[RC_cTp_net_pre.columns[i]])\n",
    "    y = np.array(RC_clr[RC_clr.columns[i]])    \n",
    "    pcc = pearsonr(x,y)[0]\n",
    "    RC_cTp_net_pcc_protein.append(pcc)\n",
    "RC_cTp_net_pcc_cell = []\n",
    "for i in range(RC_cTp_net_pre.shape[0]):\n",
    "    x = np.array((RC_cTp_net_pre.T)[RC_cTp_net_pre.index[i]])\n",
    "    y = np.array((RC_clr.T)[RC_clr.index[i]])    \n",
    "    pcc = pearsonr(x,y)[0]\n",
    "    RC_cTp_net_pcc_cell.append(pcc)"
   ]
  },
  {
   "cell_type": "code",
   "execution_count": 52,
   "id": "458ff422-7852-4c36-baaf-31077223719f",
   "metadata": {},
   "outputs": [],
   "source": [
    "RU_cTp_net_pcc_protein = []\n",
    "for i in range(RU_cTp_net_pre.shape[1]):\n",
    "    x = np.array(RU_cTp_net_pre[RU_cTp_net_pre.columns[i]])\n",
    "    y = np.array(RU_clr[RU_clr.columns[i]])    \n",
    "    pcc = pearsonr(x,y)[0]\n",
    "    RU_cTp_net_pcc_protein.append(pcc)\n",
    "RU_cTp_net_pcc_cell = []\n",
    "for i in range(RU_cTp_net_pre.shape[0]):\n",
    "    x = np.array((RU_cTp_net_pre.T)[RU_cTp_net_pre.index[i]])\n",
    "    y = np.array((RU_clr.T)[RU_clr.index[i]])    \n",
    "    pcc = pearsonr(x,y)[0]\n",
    "    RU_cTp_net_pcc_cell.append(pcc)"
   ]
  },
  {
   "cell_type": "markdown",
   "id": "a2ba2ce7-8bb4-41d0-8448-38a6a2b3d9f3",
   "metadata": {},
   "source": [
    "### scMoGNN"
   ]
  },
  {
   "cell_type": "code",
   "execution_count": 53,
   "id": "8388349f-1388-4cb4-8147-9e825bfe6684",
   "metadata": {},
   "outputs": [],
   "source": [
    "RC_scMoGNN_pcc_protein = []\n",
    "for i in range(RC_scMoGNN_pre.shape[1]):\n",
    "    x = np.array(RC_scMoGNN_pre[RC_scMoGNN_pre.columns[i]])\n",
    "    y = np.array(RC_true[RC_true.columns[i]])    \n",
    "    pcc = pearsonr(x,y)[0]\n",
    "    RC_scMoGNN_pcc_protein.append(pcc)\n",
    "RC_scMoGNN_pcc_cell = []\n",
    "for i in range(RC_scMoGNN_pre.shape[0]):\n",
    "    x = np.array((RC_scMoGNN_pre.T)[RC_scMoGNN_pre.index[i]])\n",
    "    y = np.array((RC_true.T)[RC_true.index[i]])    \n",
    "    pcc = pearsonr(x,y)[0]\n",
    "    RC_scMoGNN_pcc_cell.append(pcc)"
   ]
  },
  {
   "cell_type": "code",
   "execution_count": 54,
   "id": "37a85662-d48f-4434-9bfb-7ef4b778e64a",
   "metadata": {},
   "outputs": [],
   "source": [
    "RU_scMoGNN_pcc_protein = []\n",
    "for i in range(RU_scMoGNN_pre.shape[1]):\n",
    "    x = np.array(RU_scMoGNN_pre[RU_scMoGNN_pre.columns[i]])\n",
    "    y = np.array(RU_true[RU_true.columns[i]])    \n",
    "    pcc = pearsonr(x,y)[0]\n",
    "    RU_scMoGNN_pcc_protein.append(pcc)\n",
    "RU_scMoGNN_pcc_cell = []\n",
    "for i in range(RU_scMoGNN_pre.shape[0]):\n",
    "    x = np.array((RU_scMoGNN_pre.T)[RU_scMoGNN_pre.index[i]])\n",
    "    y = np.array((RU_true.T)[RU_true.index[i]])    \n",
    "    pcc = pearsonr(x,y)[0]\n",
    "    RU_scMoGNN_pcc_cell.append(pcc)"
   ]
  },
  {
   "cell_type": "markdown",
   "id": "ea831972-7a75-4e8f-90a1-1381e5961f0a",
   "metadata": {},
   "source": [
    "### Seurat ###"
   ]
  },
  {
   "cell_type": "code",
   "execution_count": 55,
   "id": "93adc30e-df87-4108-87af-85c87f906265",
   "metadata": {},
   "outputs": [],
   "source": [
    "clr_true = true_data.apply(lambda x: np.log((x+1.0)/stats.gmean(x+1.0)), axis=0)\n",
    "RC_clr = clr_true[RC_protein]\n",
    "RU_clr = clr_true[RU_protein]"
   ]
  },
  {
   "cell_type": "code",
   "execution_count": 56,
   "id": "15c653f7-58ef-48d1-87ea-d10af9cfbaa9",
   "metadata": {},
   "outputs": [],
   "source": [
    "RC_Seurat_pcc_protein = []\n",
    "for i in range(RC_Seurat_pre.shape[1]):\n",
    "    x = np.array(RC_Seurat_pre[RC_Seurat_pre.columns[i]])\n",
    "    y = np.array(RC_clr[RC_clr.columns[i]])    \n",
    "    pcc = pearsonr(x,y)[0]\n",
    "    RC_Seurat_pcc_protein.append(pcc)\n",
    "RC_Seurat_pcc_cell = []\n",
    "for i in range(RC_Seurat_pre.shape[0]):\n",
    "    x = np.array((RC_Seurat_pre.T)[RC_Seurat_pre.index[i]])\n",
    "    y = np.array((RC_clr.T)[RC_clr.index[i]])    \n",
    "    pcc = pearsonr(x,y)[0]\n",
    "    RC_Seurat_pcc_cell.append(pcc)"
   ]
  },
  {
   "cell_type": "code",
   "execution_count": 57,
   "id": "018f9a20-81bc-4036-a061-8936a5bae832",
   "metadata": {},
   "outputs": [],
   "source": [
    "RU_Seurat_pcc_protein = []\n",
    "for i in range(RU_Seurat_pre.shape[1]):\n",
    "    x = np.array(RU_Seurat_pre[RU_Seurat_pre.columns[i]])\n",
    "    y = np.array(RU_clr[RU_clr.columns[i]])    \n",
    "    pcc = pearsonr(x,y)[0]\n",
    "    RU_Seurat_pcc_protein.append(pcc)\n",
    "RU_Seurat_pcc_cell = []\n",
    "for i in range(RU_Seurat_pre.shape[0]):\n",
    "    x = np.array((RU_Seurat_pre.T)[RU_Seurat_pre.index[i]])\n",
    "    y = np.array((RU_clr.T)[RU_clr.index[i]])    \n",
    "    pcc = pearsonr(x,y)[0]\n",
    "    RU_Seurat_pcc_cell.append(pcc)"
   ]
  },
  {
   "cell_type": "markdown",
   "id": "31d69986-5619-4572-a921-fa46e4375976",
   "metadata": {},
   "source": [
    "### LIGER"
   ]
  },
  {
   "cell_type": "code",
   "execution_count": 58,
   "id": "45edea97-0ed6-431b-b135-3b0608ab40b7",
   "metadata": {},
   "outputs": [],
   "source": [
    "RC_Liger_pcc_protein = []\n",
    "for i in range(RC_Liger_pre.shape[1]):\n",
    "    x = np.array(RC_Liger_pre[RC_Liger_pre.columns[i]])\n",
    "    y = np.array(RC_true[RC_true.columns[i]])    \n",
    "    pcc = pearsonr(x,y)[0]\n",
    "    RC_Liger_pcc_protein.append(pcc)\n",
    "RC_Liger_pcc_cell = []\n",
    "for i in range(RC_Liger_pre.shape[0]):\n",
    "    x = np.array((RC_Liger_pre.T)[RC_Liger_pre.index[i]])\n",
    "    y = np.array((RC_true.T)[RC_true.index[i]])    \n",
    "    pcc = pearsonr(x,y)[0]\n",
    "    RC_Liger_pcc_cell.append(pcc)"
   ]
  },
  {
   "cell_type": "code",
   "execution_count": 59,
   "id": "71f1b729-0c39-46a2-9cd1-8b45c27fa944",
   "metadata": {},
   "outputs": [],
   "source": [
    "RU_Liger_pcc_protein = []\n",
    "for i in range(RU_Liger_pre.shape[1]):\n",
    "    x = np.array(RU_Liger_pre[RU_Liger_pre.columns[i]])\n",
    "    y = np.array(RU_true[RU_true.columns[i]])    \n",
    "    pcc = pearsonr(x,y)[0]\n",
    "    RU_Liger_pcc_protein.append(pcc)\n",
    "RU_Liger_pcc_cell = []\n",
    "for i in range(RU_Liger_pre.shape[0]):\n",
    "    x = np.array((RU_Liger_pre.T)[RU_Liger_pre.index[i]])\n",
    "    y = np.array((RU_true.T)[RU_true.index[i]])    \n",
    "    pcc = pearsonr(x,y)[0]\n",
    "    RU_Liger_pcc_cell.append(pcc)"
   ]
  },
  {
   "cell_type": "markdown",
   "id": "009d0f61-ef75-40e4-9de1-7045b60ece0c",
   "metadata": {},
   "source": [
    "### BABEL ###"
   ]
  },
  {
   "cell_type": "code",
   "execution_count": 60,
   "id": "5c30e835-7af5-4af4-86a5-b817ec37d3a7",
   "metadata": {},
   "outputs": [],
   "source": [
    "RC_BABEL_pcc_protein = []\n",
    "for i in range(RC_BABEL_pre.shape[1]):\n",
    "    x = np.array(RC_BABEL_pre[RC_BABEL_pre.columns[i]])\n",
    "    y = np.array(RC_true[RC_true.columns[i]])    \n",
    "    pcc = pearsonr(x,y)[0]\n",
    "    RC_BABEL_pcc_protein.append(pcc)\n",
    "RC_BABEL_pcc_cell = []\n",
    "for i in range(RC_BABEL_pre.shape[0]):\n",
    "    x = np.array((RC_BABEL_pre.T)[RC_BABEL_pre.index[i]])\n",
    "    y = np.array((RC_true.T)[RC_true.index[i]])    \n",
    "    pcc = pearsonr(x,y)[0]\n",
    "    RC_BABEL_pcc_cell.append(pcc)"
   ]
  },
  {
   "cell_type": "code",
   "execution_count": 61,
   "id": "12a6cc93-5f00-4f23-8314-bdf3c85233d6",
   "metadata": {},
   "outputs": [],
   "source": [
    "RU_BABEL_pcc_protein = []\n",
    "for i in range(RU_BABEL_pre.shape[1]):\n",
    "    x = np.array(RU_BABEL_pre[RU_BABEL_pre.columns[i]])\n",
    "    y = np.array(RU_true[RU_true.columns[i]])    \n",
    "    pcc = pearsonr(x,y)[0]\n",
    "    RU_BABEL_pcc_protein.append(pcc)\n",
    "RU_BABEL_pcc_cell = []\n",
    "for i in range(RU_BABEL_pre.shape[0]):\n",
    "    x = np.array((RU_BABEL_pre.T)[RU_BABEL_pre.index[i]])\n",
    "    y = np.array((RU_true.T)[RU_true.index[i]])    \n",
    "    pcc = pearsonr(x,y)[0]\n",
    "    RU_BABEL_pcc_cell.append(pcc)"
   ]
  },
  {
   "cell_type": "markdown",
   "id": "1b5670f3-190d-4183-bcd2-7406a66ba293",
   "metadata": {},
   "source": [
    "### CMAE ##"
   ]
  },
  {
   "cell_type": "code",
   "execution_count": 62,
   "id": "bf8bf591-0f7f-4d53-a76d-b2b0edbd6dc0",
   "metadata": {},
   "outputs": [],
   "source": [
    "RC_CMAE_pcc_protein = []\n",
    "for i in range(RC_CMAE_pre.shape[1]):\n",
    "    x = np.array(RC_CMAE_pre[RC_CMAE_pre.columns[i]])\n",
    "    y = np.array(RC_true[RC_true.columns[i]])    \n",
    "    pcc = pearsonr(x,y)[0]\n",
    "    RC_CMAE_pcc_protein.append(pcc)\n",
    "RC_CMAE_pcc_cell = []\n",
    "for i in range(RC_CMAE_pre.shape[0]):\n",
    "    x = np.array((RC_CMAE_pre.T)[RC_CMAE_pre.index[i]])\n",
    "    y = np.array((RC_true.T)[RC_true.index[i]])    \n",
    "    pcc = pearsonr(x,y)[0]\n",
    "    RC_CMAE_pcc_cell.append(pcc)"
   ]
  },
  {
   "cell_type": "code",
   "execution_count": 63,
   "id": "4cf689a9-3eb8-43bf-8005-ee945afdb23f",
   "metadata": {},
   "outputs": [],
   "source": [
    "RU_CMAE_pcc_protein = []\n",
    "for i in range(RU_CMAE_pre.shape[1]):\n",
    "    x = np.array(RU_CMAE_pre[RU_CMAE_pre.columns[i]])\n",
    "    y = np.array(RU_true[RU_true.columns[i]])    \n",
    "    pcc = pearsonr(x,y)[0]\n",
    "    RU_CMAE_pcc_protein.append(pcc)\n",
    "RU_CMAE_pcc_cell = []\n",
    "for i in range(RU_CMAE_pre.shape[0]):\n",
    "    x = np.array((RU_CMAE_pre.T)[RU_CMAE_pre.index[i]])\n",
    "    y = np.array((RU_true.T)[RU_true.index[i]])    \n",
    "    pcc = pearsonr(x,y)[0]\n",
    "    RU_CMAE_pcc_cell.append(pcc)"
   ]
  },
  {
   "cell_type": "markdown",
   "id": "993738d3-3d1f-4e83-8e12-eb574aaed1a7",
   "metadata": {},
   "source": [
    "### sciPENN"
   ]
  },
  {
   "cell_type": "code",
   "execution_count": 64,
   "id": "fac38eef-67b1-437c-a973-472d444dd8b8",
   "metadata": {},
   "outputs": [],
   "source": [
    "A = ad.AnnData(X = true_data).copy()\n",
    "sc.pp.normalize_total(A)\n",
    "sc.pp.log1p(A)\n",
    "sc.pp.scale(A)\n",
    "\n",
    "B = pd.DataFrame(data = A.X,columns = A.var_names,index = A.obs_names)\n",
    "\n",
    "C = (B.T[sciPENN_pre.index]).T\n",
    "# C = B\n",
    "RC_C = C[RC_protein]\n",
    "RU_C = C[RU_protein]"
   ]
  },
  {
   "cell_type": "code",
   "execution_count": 65,
   "id": "a12cdb78-353b-404d-a0d9-266b7472ee12",
   "metadata": {},
   "outputs": [],
   "source": [
    "sciPENN_scale = ad.AnnData(sciPENN_pre)\n",
    "sc.pp.scale(sciPENN_scale)\n",
    "sciPENN_scale = pd.DataFrame(data = sciPENN_scale.X,columns = sciPENN_scale.var_names,index = sciPENN_scale.obs_names)\n",
    "\n",
    "RC_sciPENN_scale = sciPENN_scale[RC_protein]\n",
    "RU_sciPENN_scale = sciPENN_scale[RU_protein]"
   ]
  },
  {
   "cell_type": "code",
   "execution_count": 66,
   "id": "87966c57-6daf-4c1e-b39e-469cedb9c6af",
   "metadata": {},
   "outputs": [],
   "source": [
    "RC_sciPENN_pcc_protein = []\n",
    "for i in range(RC_sciPENN_scale.shape[1]):\n",
    "    x = np.array(RC_sciPENN_scale[RC_sciPENN_scale.columns[i]])\n",
    "    y = np.array(RC_C[RC_C.columns[i]])    \n",
    "    pcc = pearsonr(x,y)[0]\n",
    "    RC_sciPENN_pcc_protein.append(pcc)\n",
    "RC_sciPENN_pcc_cell = []\n",
    "for i in range(RC_sciPENN_scale.shape[0]):\n",
    "    x = np.array((RC_sciPENN_scale.T)[RC_sciPENN_scale.index[i]])\n",
    "    y = np.array((RC_C.T)[RC_C.index[i]])    \n",
    "    pcc = pearsonr(x,y)[0]\n",
    "    RC_sciPENN_pcc_cell.append(pcc)"
   ]
  },
  {
   "cell_type": "code",
   "execution_count": 67,
   "id": "1eb842fe-ea7f-4103-9dc7-8357b5d8f33e",
   "metadata": {},
   "outputs": [],
   "source": [
    "RU_sciPENN_pcc_protein = []\n",
    "for i in range(RU_sciPENN_scale.shape[1]):\n",
    "    x = np.array(RU_sciPENN_scale[RU_sciPENN_scale.columns[i]])\n",
    "    y = np.array(RU_C[RU_C.columns[i]])    \n",
    "    pcc = pearsonr(x,y)[0]\n",
    "    RU_sciPENN_pcc_protein.append(pcc)\n",
    "RU_sciPENN_pcc_cell = []\n",
    "for i in range(RU_sciPENN_scale.shape[0]):\n",
    "    x = np.array((RU_sciPENN_scale.T)[RU_sciPENN_scale.index[i]])\n",
    "    y = np.array((RU_C.T)[RU_C.index[i]])    \n",
    "    pcc = pearsonr(x,y)[0]\n",
    "    RU_sciPENN_pcc_cell.append(pcc)"
   ]
  },
  {
   "cell_type": "markdown",
   "id": "ac6a83a0-d08e-46e8-a816-03ba442a8f66",
   "metadata": {},
   "source": [
    "### scVAEIT"
   ]
  },
  {
   "cell_type": "code",
   "execution_count": 69,
   "id": "2be4cb18-faa4-4bfb-965f-03e0f1a31230",
   "metadata": {},
   "outputs": [],
   "source": [
    "Y = RC_true.values\n",
    "RC_true_data_after = np.log(Y/np.sum(Y, axis=1, keepdims=True)*1e4+1.)\n",
    "RC_true_data_after = pd.DataFrame(data = RC_true_data_after,index= RC_true.index,columns=RC_true.columns)\n",
    "\n",
    "Y = RU_true.values\n",
    "RU_true_data_after = np.log(Y/np.sum(Y, axis=1, keepdims=True)*1e4+1.)\n",
    "RU_true_data_after = pd.DataFrame(data = RU_true_data_after,index= RU_true.index,columns=RU_true.columns)"
   ]
  },
  {
   "cell_type": "code",
   "execution_count": 70,
   "id": "cc2cd9f8-27ce-48f6-865a-2d8b7f7b5d7f",
   "metadata": {},
   "outputs": [],
   "source": [
    "RC_scVAEIT_pcc_protein = []\n",
    "for i in range(RC_scVAEIT_pre.shape[1]):\n",
    "    x = np.array(RC_scVAEIT_pre[RC_scVAEIT_pre.columns[i]])\n",
    "    y = np.array(RC_true_data_after[RC_true_data_after.columns[i]])    \n",
    "    pcc = pearsonr(x,y)[0]\n",
    "    RC_scVAEIT_pcc_protein.append(pcc)\n",
    "RC_scVAEIT_pcc_cell = []\n",
    "for i in range(RC_scVAEIT_pre.shape[0]):\n",
    "    x = np.array((RC_scVAEIT_pre.T)[RC_scVAEIT_pre.index[i]])\n",
    "    y = np.array((RC_true_data_after.T)[RC_true_data_after.index[i]])    \n",
    "    pcc = pearsonr(x,y)[0]\n",
    "    RC_scVAEIT_pcc_cell.append(pcc)"
   ]
  },
  {
   "cell_type": "code",
   "execution_count": 71,
   "id": "d5ccb274-6d3b-4901-beb5-ac641ae028a6",
   "metadata": {},
   "outputs": [],
   "source": [
    "RU_scVAEIT_pcc_protein = []\n",
    "for i in range(RU_scVAEIT_pre.shape[1]):\n",
    "    x = np.array(RU_scVAEIT_pre[RU_scVAEIT_pre.columns[i]])\n",
    "    y = np.array(RU_true_data_after[RU_true_data_after.columns[i]])    \n",
    "    pcc = pearsonr(x,y)[0]\n",
    "    RU_scVAEIT_pcc_protein.append(pcc)\n",
    "RU_scVAEIT_pcc_cell = []\n",
    "for i in range(RU_scVAEIT_pre.shape[0]):\n",
    "    x = np.array((RU_scVAEIT_pre.T)[RU_scVAEIT_pre.index[i]])\n",
    "    y = np.array((RU_true_data_after.T)[RU_true_data_after.index[i]])    \n",
    "    pcc = pearsonr(x,y)[0]\n",
    "    RU_scVAEIT_pcc_cell.append(pcc)"
   ]
  },
  {
   "cell_type": "markdown",
   "id": "56e1d5ac-0c62-4caa-96f5-733e6648c029",
   "metadata": {},
   "source": [
    "### Summary PCC results"
   ]
  },
  {
   "cell_type": "code",
   "execution_count": 73,
   "id": "201b8af5-e373-43a3-9af5-74107a713524",
   "metadata": {},
   "outputs": [],
   "source": [
    "index = ['totalVI','scArches','Dengkw','cTp_net','scMoGNN','Seurat','Liger','BABEL','CMAE','sciPENN','scVAEIT']\n",
    "RC_pro_columns = RC_true.columns\n",
    "RU_pro_columns = RU_true.columns\n",
    "cell_columns = true_data.index\n",
    "\n",
    "RC_PCC_protein = pd.DataFrame([RC_totalVI_pcc_protein,RC_scArches_pcc_protein,RC_Dengkw_pcc_protein,RC_cTp_net_pcc_protein,RC_scMoGNN_pcc_protein,RC_Seurat_pcc_protein,RC_Liger_pcc_protein,RC_BABEL_pcc_protein,RC_CMAE_pcc_protein,RC_sciPENN_pcc_protein,RC_scVAEIT_pcc_protein],index = index,columns = RC_pro_columns)\n",
    "RC_PCC_cell = pd.DataFrame([RC_totalVI_pcc_cell,RC_scArches_pcc_cell,RC_Dengkw_pcc_cell,RC_cTp_net_pcc_cell,RC_scMoGNN_pcc_cell,RC_Seurat_pcc_cell,RC_Liger_pcc_cell,RC_BABEL_pcc_cell,RC_CMAE_pcc_cell,RC_sciPENN_pcc_cell,RC_scVAEIT_pcc_cell],index = index,columns = cell_columns)\n",
    "\n",
    "RU_PCC_protein = pd.DataFrame([RU_totalVI_pcc_protein,RU_scArches_pcc_protein,RU_Dengkw_pcc_protein,RU_cTp_net_pcc_protein,RU_scMoGNN_pcc_protein,RU_Seurat_pcc_protein,RU_Liger_pcc_protein,RU_BABEL_pcc_protein,RU_CMAE_pcc_protein,RU_sciPENN_pcc_protein,RU_scVAEIT_pcc_protein],index = index,columns = RU_pro_columns)\n",
    "RU_PCC_cell = pd.DataFrame([RU_totalVI_pcc_cell,RU_scArches_pcc_cell,RU_Dengkw_pcc_cell,RU_cTp_net_pcc_cell,RU_scMoGNN_pcc_cell,RU_Seurat_pcc_cell,RU_Liger_pcc_cell,RU_BABEL_pcc_cell,RU_CMAE_pcc_cell,RU_sciPENN_pcc_cell,RU_scVAEIT_pcc_cell],index = index,columns = cell_columns)\n"
   ]
  },
  {
   "cell_type": "code",
   "execution_count": 74,
   "id": "1599d995-1d07-4341-9421-5179eb9b23c8",
   "metadata": {},
   "outputs": [],
   "source": [
    "RC_PCC_protein.to_csv(\"../Results/\"+test_id + \"_from_\" + train_id +\"_pcc_protein_RC.csv\")\n",
    "RC_PCC_cell.to_csv(\"../Results/\"+test_id + \"_from_\" + train_id+\"_pcc_cell_RC.csv\")\n",
    "\n",
    "RU_PCC_protein.to_csv(\"../Results/\"+test_id + \"_from_\" + train_id+\"_pcc_protein_RU.csv\")\n",
    "RU_PCC_cell.to_csv(\"../Results/\"+test_id + \"_from_\" + train_id+\"_pcc_cell_RU.csv\")"
   ]
  },
  {
   "cell_type": "markdown",
   "id": "d74ff4c9-7a01-4362-985f-423fe1f4074b",
   "metadata": {},
   "source": [
    "# Compute CMDs"
   ]
  },
  {
   "cell_type": "code",
   "execution_count": 75,
   "id": "0a1537b3-910c-44d1-a905-d0609e47e7e5",
   "metadata": {},
   "outputs": [],
   "source": [
    "List = ['totalVI_pre','scArches_pre','Dengkw_pre','cTp_net_pre','scMoGNN_pre','Seurat_pre','Liger_pre','BABEL_pre','CMAE_pre','sciPENN_pre','scVAEIT_pre']\n",
    "index = ['totalVI','scArches','Dengkw','cTp_net','scMoGNN','Seurat','Liger','BABEL','CMAE','sciPENN','scVAEIT']"
   ]
  },
  {
   "cell_type": "code",
   "execution_count": 76,
   "id": "39cd01d8-210b-43b5-b186-34257fefc04e",
   "metadata": {},
   "outputs": [],
   "source": [
    "def CMD_dist(A, B):\n",
    "    a = np.trace(A.dot(B))\n",
    "    b = np.linalg.norm(A,'fro')*np.linalg.norm(B,'fro')\n",
    "    return 1- a/(b+1e-8)"
   ]
  },
  {
   "cell_type": "markdown",
   "id": "938bcae0-6dd0-4182-9ee2-956de7f9cfe2",
   "metadata": {},
   "source": [
    "### cmd_cell"
   ]
  },
  {
   "cell_type": "code",
   "execution_count": 77,
   "id": "de2f2466-dfeb-4798-becd-4995f2570a14",
   "metadata": {},
   "outputs": [],
   "source": [
    "RC_true_corr = RC_true.T.corr()\n",
    "RC_true_corr.dropna(how='all',axis = 1,inplace = True)\n",
    "RC_true_corr.dropna(how='all',inplace = True)\n",
    "\n",
    "RU_true_corr = RU_true.T.corr()\n",
    "RU_true_corr.dropna(how='all',axis = 1,inplace = True)\n",
    "RU_true_corr.dropna(how='all',inplace = True)"
   ]
  },
  {
   "cell_type": "code",
   "execution_count": 78,
   "id": "51308a93-93e4-4cf3-9bb8-89547af2f2b7",
   "metadata": {},
   "outputs": [],
   "source": [
    "RC_cmd_cell = []\n",
    "for i in range(len(List)):\n",
    "    if List[i] == 'sciPENN_pre':\n",
    "        A = RC_sciPENN_scale.T.corr()\n",
    "        B = RC_C.T.corr()\n",
    "    elif List[i] == 'scVAEIT_pre':\n",
    "        A = RC_scVAEIT_pre.T.corr()\n",
    "        B = RC_true_data_after.T.corr()\n",
    "    else:\n",
    "        A = eval('RC_'+List[i]).T.corr()\n",
    "        B = RC_true_corr\n",
    "        \n",
    "    A.dropna(how='all',axis = 1,inplace = True)\n",
    "    A.dropna(how='all',inplace = True)\n",
    "    \n",
    "    inter_cell = A.index.intersection(B.index)\n",
    "    B = B[inter_cell]\n",
    "    B = (B.T)[inter_cell].T\n",
    "    \n",
    "    A = A[inter_cell]\n",
    "    A = (A.T)[inter_cell].T\n",
    "    \n",
    "    cmd = CMD_dist(A.values.T,B.values)\n",
    "    RC_cmd_cell.append(cmd)"
   ]
  },
  {
   "cell_type": "code",
   "execution_count": 79,
   "id": "f4701317-ed36-41d9-b6d3-6054637ec163",
   "metadata": {},
   "outputs": [],
   "source": [
    "RU_cmd_cell = []\n",
    "for i in range(len(List)):\n",
    "    if List[i] == 'sciPENN_pre':\n",
    "        A = RU_sciPENN_scale.T.corr()\n",
    "        B = RU_C.T.corr()\n",
    "    elif List[i] == 'scVAEIT_pre':\n",
    "        A = RU_scVAEIT_pre.T.corr()\n",
    "        B = RU_true_data_after.T.corr()\n",
    "    else:\n",
    "        A = eval('RU_'+List[i]).T.corr()\n",
    "        B = RU_true_corr\n",
    "\n",
    "    A.dropna(how='all',axis = 1,inplace = True)\n",
    "    A.dropna(how='all',inplace = True)\n",
    "   \n",
    "    inter_cell = A.index.intersection(B.index)\n",
    "    B = B[inter_cell]\n",
    "    B = (B.T)[inter_cell].T\n",
    "    \n",
    "    A = A[inter_cell]\n",
    "    A = (A.T)[inter_cell].T\n",
    "\n",
    "    cmd = CMD_dist(A.values.T,B.values)\n",
    "    RU_cmd_cell.append(cmd)"
   ]
  },
  {
   "cell_type": "code",
   "execution_count": 80,
   "id": "309af069-09f5-4b17-b422-e4ebed6bfded",
   "metadata": {},
   "outputs": [],
   "source": [
    "RC_CMD_cell = pd.DataFrame(data = RC_cmd_cell, index = index,columns = ['cmd_values'])\n",
    "RU_CMD_cell = pd.DataFrame(data = RU_cmd_cell, index = index,columns = ['cmd_values'])"
   ]
  },
  {
   "cell_type": "code",
   "execution_count": 81,
   "id": "ce8539e2-f2ab-438a-9ebb-bad4aea2e8d7",
   "metadata": {},
   "outputs": [],
   "source": [
    "RC_CMD_cell.to_csv(\"../Results/\"+test_id + \"_from_\" + train_id +\"_cmd_cell_RC.csv\")\n",
    "RU_CMD_cell.to_csv(\"../Results/\"+test_id + \"_from_\" + train_id +\"_cmd_cell_RU.csv\")"
   ]
  },
  {
   "cell_type": "markdown",
   "id": "39bc8695-a354-4acb-aa6b-fb3d0b02b79d",
   "metadata": {},
   "source": [
    "### cmd_protein"
   ]
  },
  {
   "cell_type": "code",
   "execution_count": 82,
   "id": "91cfd2dd-74a1-4e72-820b-54e39c24b6cd",
   "metadata": {},
   "outputs": [],
   "source": [
    "RC_true_protein_corr = RC_true.corr()\n",
    "RC_true_protein_corr.dropna(how='all',axis = 1,inplace = True)\n",
    "RC_true_protein_corr.dropna(how='all',inplace = True)\n",
    "\n",
    "RU_true_protein_corr = RU_true.corr()\n",
    "RU_true_protein_corr.dropna(how='all',axis = 1,inplace = True)\n",
    "RU_true_protein_corr.dropna(how='all',inplace = True)"
   ]
  },
  {
   "cell_type": "code",
   "execution_count": 83,
   "id": "2cb23b63-0cab-4234-9501-7c6c3a0787ab",
   "metadata": {},
   "outputs": [],
   "source": [
    "RC_cmd_protein = []\n",
    "for i in range(len(List)):\n",
    "    if List[i] == 'sciPENN_pre':\n",
    "        A = RC_sciPENN_scale.corr()\n",
    "        B = RC_C.corr()\n",
    "    elif List[i] == 'scVAEIT_pre':\n",
    "        A = RC_scVAEIT_pre.corr()\n",
    "        B = RC_true_data_after.corr()\n",
    "    else:\n",
    "        A = eval('RC_'+List[i]).corr()\n",
    "        B = RC_true_protein_corr\n",
    "\n",
    "    A.dropna(how='all',axis = 1,inplace = True)\n",
    "    A.dropna(how='all',inplace = True)\n",
    "    \n",
    "    inter_cell = A.columns.intersection(B.columns)\n",
    "    inter_gene = A.index.intersection(B.index)\n",
    "    B = B[inter_cell]\n",
    "    B = (B.T)[inter_gene].T\n",
    "    A = (A.T)[inter_gene].T\n",
    "    A = A[inter_cell]\n",
    "\n",
    "    cmd = CMD_dist(A.values.T,B.values)\n",
    "    RC_cmd_protein.append(cmd)"
   ]
  },
  {
   "cell_type": "code",
   "execution_count": 84,
   "id": "03ea485f-17d3-499c-87fe-540f7b4fc682",
   "metadata": {},
   "outputs": [],
   "source": [
    "RU_cmd_protein = []\n",
    "for i in range(len(List)):\n",
    "    if List[i] == 'sciPENN_pre':\n",
    "        A = RU_sciPENN_scale.corr()\n",
    "        B = RU_C.corr()\n",
    "    elif List[i] == 'scVAEIT_pre':\n",
    "        A = RU_scVAEIT_pre.corr()\n",
    "        B = RU_true_data_after.corr()\n",
    "    else:\n",
    "        A = eval('RU_'+List[i]).corr()\n",
    "        B = RU_true_protein_corr\n",
    "        \n",
    "    A.dropna(how='all',axis = 1,inplace = True)\n",
    "    A.dropna(how='all',inplace = True)\n",
    "    \n",
    "    inter_cell = A.columns.intersection(B.columns)\n",
    "    inter_gene = A.index.intersection(B.index)\n",
    "    B = B[inter_cell]\n",
    "    B = (B.T)[inter_gene].T\n",
    "    A = (A.T)[inter_gene].T\n",
    "    A = A[inter_cell]\n",
    "\n",
    "    cmd = CMD_dist(A.values.T,B.values)\n",
    "    RU_cmd_protein.append(cmd)"
   ]
  },
  {
   "cell_type": "code",
   "execution_count": 85,
   "id": "899e155d-bea9-4563-b422-276ea96b5e38",
   "metadata": {},
   "outputs": [],
   "source": [
    "RC_CMD_protein = pd.DataFrame(data = RC_cmd_protein, index = index,columns = ['cmd_values'])\n",
    "RU_CMD_protein = pd.DataFrame(data = RU_cmd_protein, index = index,columns = ['cmd_values'])"
   ]
  },
  {
   "cell_type": "code",
   "execution_count": 86,
   "id": "8f4beec8-fbdd-4e58-a65c-f044c4e71f89",
   "metadata": {},
   "outputs": [],
   "source": [
    "RC_CMD_protein.to_csv(\"../Results/\"+test_id + \"_from_\" + train_id +\"_cmd_protein_RC.csv\")\n",
    "RU_CMD_protein.to_csv(\"../Results/\"+test_id + \"_from_\" + train_id +\"_cmd_protein_RU.csv\")"
   ]
  },
  {
   "cell_type": "markdown",
   "id": "12ca7776-2422-4bd0-92be-e8c5779fbf06",
   "metadata": {},
   "source": [
    "# Compute RMSE"
   ]
  },
  {
   "cell_type": "code",
   "execution_count": 89,
   "id": "708fe038-17a0-4b19-8269-e30e2e5309b1",
   "metadata": {},
   "outputs": [],
   "source": [
    "def RMSE(true,pred):\n",
    "    true_array = np.array(true,dtype=np.float32).flatten()\n",
    "    pred_array = np.array(pred,dtype=np.float32).flatten() \n",
    "    rmse = metrics.mean_squared_error(true_array, pred_array)**0.5\n",
    "    return rmse"
   ]
  },
  {
   "cell_type": "code",
   "execution_count": 92,
   "id": "969c1ec0-407d-4f14-a3cf-caceb5beeb8a",
   "metadata": {},
   "outputs": [],
   "source": [
    "method_list = ['BABEL','CMAE','cTp_net','scMoGNN','Dengkw','scArches','sciPENN','Seurat','totalVI','Liger','scVAEIT']"
   ]
  },
  {
   "cell_type": "code",
   "execution_count": 93,
   "id": "82701f38-bf0e-4b89-afe1-66c7c5f16976",
   "metadata": {},
   "outputs": [
    {
     "name": "stdout",
     "output_type": "stream",
     "text": [
      "BABEL\n",
      "1.0842889031521823\n",
      "CMAE\n",
      "1.349329255509403\n",
      "cTp_net\n",
      "1.048786126970622\n",
      "scMoGNN\n",
      "1.084502390213861\n",
      "Dengkw\n",
      "1.124153825636119\n",
      "scArches\n",
      "1.0318286312782572\n",
      "sciPENN\n",
      "0.8451134650102362\n",
      "Seurat\n",
      "1.0245791175903447\n",
      "totalVI\n",
      "1.0196679268494877\n",
      "Liger\n",
      "1.0523174075856\n",
      "scVAEIT\n",
      "1.1481630165978634\n",
      "BABEL\n",
      "1.1359907093205461\n",
      "CMAE\n",
      "1.3924197926869855\n",
      "cTp_net\n",
      "1.2651549985412311\n",
      "scMoGNN\n",
      "1.229941167199734\n",
      "Dengkw\n",
      "1.2725137742052115\n",
      "scArches\n",
      "1.254713612589953\n",
      "sciPENN\n",
      "1.0043244437102723\n",
      "Seurat\n",
      "1.2134043025039691\n",
      "totalVI\n",
      "1.2874669691126415\n",
      "Liger\n",
      "1.2509847100235996\n",
      "scVAEIT\n",
      "1.2803807915576406\n"
     ]
    }
   ],
   "source": [
    "for part in ['RC','RU']:\n",
    "    ## compute\n",
    "    for i in range(len(method_list)):\n",
    "        A = ad.AnnData(X = eval(part+'_true')).copy()\n",
    "        sc.pp.normalize_total(A)\n",
    "        sc.pp.log1p(A)\n",
    "        sc.pp.scale(A)\n",
    "\n",
    "        B = pd.DataFrame(data = A.X,columns = A.var_names,index = A.obs_names)    \n",
    "    \n",
    "        name = method_list[i]\n",
    "        print(name)\n",
    "        if name in ['Seurat','cTp_net']:\n",
    "            temp = eval(part+'_'+name+'_pre').apply(lambda x: np.exp(x), axis=0)\n",
    "            temp = ad.AnnData(temp)\n",
    "            sc.pp.normalize_total(temp)\n",
    "            sc.pp.log1p(temp)\n",
    "            sc.pp.scale(temp)\n",
    "\n",
    "            temp_pred = pd.DataFrame(data = temp.X,columns = temp.var_names,index = temp.obs_names)\n",
    "        \n",
    "            locals()[part+'_'+name+'_rmse'] = RMSE(B,temp_pred)\n",
    "            \n",
    "        elif name in ['sciPENN']:\n",
    "            A_1 = ad.AnnData(eval(part+'_true').T[eval(part+'_sciPENN_pre').index].T).copy()\n",
    "            sc.pp.normalize_total(A_1)\n",
    "            sc.pp.log1p(A_1)\n",
    "            sc.pp.scale(A_1)\n",
    "\n",
    "            B_1 = pd.DataFrame(data = A_1.X,columns = A_1.var_names,index = A_1.obs_names) \n",
    "        \n",
    "            locals()[part+'_sciPENN_rmse'] = RMSE(B_1,eval(part+'_sciPENN_pre'))\n",
    "            \n",
    "        elif name in ['scVAEIT']:\n",
    "            locals()[part+'_true_data_after'] = eval(part+'_true_data_after').dropna()\n",
    "            locals()[part+'_scVAEIT_pre'] = eval(part+'_scVAEIT_pre').loc[eval(part+'_true_data_after').index]\n",
    "            A_1 = ad.AnnData(X = eval(part+'_true_data_after')).copy()\n",
    "            sc.pp.normalize_total(A_1)\n",
    "            sc.pp.log1p(A_1)\n",
    "            sc.pp.scale(A_1)\n",
    "\n",
    "            B_1 = pd.DataFrame(data = A_1.X,columns = A_1.var_names,index = A_1.obs_names) \n",
    "        \n",
    "            locals()[part+'_scVAEIT_scale'] = ad.AnnData(eval(part+'_scVAEIT_pre'))\n",
    "            sc.pp.scale(eval(part+'_scVAEIT_scale'))\n",
    "            locals()[part+'_scVAEIT_scale'] = pd.DataFrame(data = eval(part+'_scVAEIT_scale').X,columns = eval(part+'_scVAEIT_scale').var_names,index = eval(part+'_scVAEIT_scale').obs_names)\n",
    "\n",
    "            locals()[part+'_scVAEIT_rmse'] = RMSE(B_1,eval(part+'_scVAEIT_scale'))\n",
    "        \n",
    "        else:\n",
    "            temp = eval(part+'_'+name+'_pre').copy()\n",
    "            temp[temp<0] = 1e-20\n",
    "            temp = ad.AnnData(temp)\n",
    "            sc.pp.normalize_total(temp)\n",
    "            sc.pp.log1p(temp)\n",
    "            sc.pp.scale(temp)\n",
    "\n",
    "            temp_pred = pd.DataFrame(data = temp.X,columns = temp.var_names,index = temp.obs_names)\n",
    "            locals()[part+'_'+name+'_rmse'] = RMSE(B,temp_pred)\n",
    "        print(f\"{eval(part+'_'+name+'_rmse')}\")\n",
    "\n",
    "    locals()[part+'_rmse_data'] = []                \n",
    "    for method in method_list:\n",
    "        locals()[part+'_rmse_data'].append(eval(part+'_'+method+'_rmse'))\n",
    "\n",
    "    locals()[part+'_RMSE_Data'] = pd.DataFrame(data = eval(part+'_rmse_data'), index = method_list,columns = ['rmse_values'])"
   ]
  },
  {
   "cell_type": "code",
   "execution_count": 94,
   "id": "18112bab-07f3-44c8-ba70-d46eeecd9918",
   "metadata": {},
   "outputs": [],
   "source": [
    "RC_RMSE_Data.to_csv(\"../Results/\"+test_id + \"_from_\" + train_id +\"_rmse_RC.csv\")\n",
    "RU_RMSE_Data.to_csv(\"../Results/\"+test_id + \"_from_\" + train_id +\"_rmse_RU.csv\")"
   ]
  },
  {
   "cell_type": "markdown",
   "id": "e3d47ad4-f2c5-4e20-b7b6-239043b511ff",
   "metadata": {},
   "source": [
    "# Draw pictures"
   ]
  },
  {
   "cell_type": "code",
   "execution_count": 95,
   "id": "351e2ff3-00c6-433c-9683-e982db73c36e",
   "metadata": {},
   "outputs": [],
   "source": [
    "index_new = ['totalVI','scArches','Dengkw','sciPENN','scMoGNN','Seurat','BABEL','scVAEIT','cTp_net','CMAE','Liger']"
   ]
  },
  {
   "cell_type": "code",
   "execution_count": 100,
   "id": "c4c5dfbc-e349-4c0b-b5aa-35ea4ce165fe",
   "metadata": {},
   "outputs": [],
   "source": [
    "my_pal = {'totalVI':'#E6D885','scArches':'#F1C67F','Dengkw':'#E7A365','scMoGNN':'#EE9185','CMAE':'#E2A6C0','BABEL':'#BEABCB','Seurat':'#7DC9C4','sciPENN':'#84a4e8','Liger':'#65AADD','cTp_net':'#7CC38A','scVAEIT':'c'}\n"
   ]
  },
  {
   "cell_type": "code",
   "execution_count": 96,
   "id": "e6fdf9b5-de0c-47e4-9441-77b512a900b6",
   "metadata": {},
   "outputs": [],
   "source": [
    "RC_PCC_protein = RC_PCC_protein.T[index_new].T\n",
    "RC_PCC_cell = RC_PCC_cell.T[index_new].T\n",
    "\n",
    "RC_CMD_cell = RC_CMD_cell.T[index_new].T\n",
    "RC_CMD_protein = RC_CMD_protein.T[index_new].T"
   ]
  },
  {
   "cell_type": "code",
   "execution_count": 97,
   "id": "c2c8ff2a-125a-4a7e-95c7-ecd0aa4ab904",
   "metadata": {},
   "outputs": [],
   "source": [
    "RU_PCC_protein = RU_PCC_protein.T[index_new].T\n",
    "RU_PCC_cell = RU_PCC_cell.T[index_new].T\n",
    "\n",
    "RU_CMD_cell = RU_CMD_cell.T[index_new].T\n",
    "RU_CMD_protein = RU_CMD_protein.T[index_new].T"
   ]
  },
  {
   "cell_type": "code",
   "execution_count": 101,
   "id": "141e3b56-16eb-4c5c-a747-437f82c3b527",
   "metadata": {},
   "outputs": [
    {
     "data": {
      "image/png": "[encoded data removed]",
      "text/plain": [
       "<Figure size 1600x480 with 10 Axes>"
      ]
     },
     "metadata": {},
     "output_type": "display_data"
    }
   ],
   "source": [
    "font = {'family':'DejaVu Sans','weight':'normal','size':15}\n",
    "plt.figure(figsize=(20,6), dpi= 80)\n",
    "\n",
    "ax1 = plt.subplot(251)\n",
    "ax1 = sns.boxplot(data=RC_PCC_protein.T,orient = \"h\",linewidth=1,width=0.7, palette=my_pal,fliersize=0,flierprops = {'marker':'o'})\n",
    "ax1.set_xlabel(\"RC PCC protein\")\n",
    "ax1.set_xlim(-1.1,1.1)\n",
    "ax1.spines['top'].set_visible(False)\n",
    "ax1.spines['right'].set_visible(False)\n",
    "\n",
    "ax2 = plt.subplot(252)\n",
    "ax2 = sns.boxplot(data=RC_PCC_cell.T,orient = \"h\",linewidth=1,width=0.7, palette=my_pal,fliersize=0,flierprops = {'marker':'o'})\n",
    "ax2.set_xlabel(\"RC PCC cell\")\n",
    "ax2.set_xlim(-1.1,1.1)\n",
    "ax2.spines['top'].set_visible(False)\n",
    "ax2.spines['right'].set_visible(False)\n",
    "plt.yticks(alpha=0)\n",
    "\n",
    "ax3 = plt.subplot(253)\n",
    "ax3 = sns.barplot(x = \"cmd_values\",y = RC_CMD_cell.index,orient = \"h\",data = RC_CMD_cell, ci = 95, palette = my_pal)\n",
    "ax3.set_xlabel(\"RC CMD cell\")\n",
    "ax3.spines['top'].set_visible(False)\n",
    "ax3.spines['right'].set_visible(False)\n",
    "ax3.set_xticks(np.arange(0,0.55,0.1))\n",
    "plt.yticks(alpha=0)\n",
    "\n",
    "ax4 = plt.subplot(254)\n",
    "ax4 = sns.barplot(x = \"cmd_values\",y = RC_CMD_protein.index,orient = \"h\",data = RC_CMD_protein, ci = 95, palette = my_pal)\n",
    "ax4.set_xlabel(\"RC CMD protein\")\n",
    "ax4.spines['top'].set_visible(False)\n",
    "ax4.spines['right'].set_visible(False)\n",
    "ax4.set_xticks(np.arange(0,0.55,0.1))\n",
    "plt.yticks(alpha=0)\n",
    "\n",
    "ax5 = plt.subplot(255)\n",
    "ax5 = sns.barplot(x = \"rmse_values\",y = RC_RMSE_Data.index,orient = \"h\",data = RC_RMSE_Data, ci = 95, palette = my_pal)\n",
    "ax5.set_xlabel(\"RC RMSE\")\n",
    "ax5.spines['top'].set_visible(False)\n",
    "ax5.spines['right'].set_visible(False)\n",
    "ax5.set_xticks(np.arange(0,2,0.4))\n",
    "plt.yticks(alpha=0)\n",
    "\n",
    "ax6 = plt.subplot(256)\n",
    "ax6 = sns.boxplot(data=RU_PCC_protein.T,orient = \"h\",linewidth=1,width=0.7, palette=my_pal,fliersize=0,flierprops = {'marker':'o'})\n",
    "ax6.set_xlabel(\"RU PCC protein\")\n",
    "ax6.set_xlim(-1.1,1.1)\n",
    "ax6.spines['top'].set_visible(False)\n",
    "ax6.spines['right'].set_visible(False)\n",
    "\n",
    "ax7 = plt.subplot(257)\n",
    "ax7 = sns.boxplot(data=RU_PCC_cell.T,orient = \"h\",linewidth=1,width=0.7, palette=my_pal,fliersize=0,flierprops = {'marker':'o'})\n",
    "ax7.set_xlabel(\"RU PCC cell\")\n",
    "ax7.set_xlim(-1.1,1.1)\n",
    "ax7.spines['top'].set_visible(False)\n",
    "ax7.spines['right'].set_visible(False)\n",
    "plt.yticks(alpha=0)\n",
    "\n",
    "ax8 = plt.subplot(258)\n",
    "ax8 = sns.barplot(x = \"cmd_values\",y = RU_CMD_cell.index,orient = \"h\",data = RU_CMD_cell, ci = 95, palette = my_pal)\n",
    "ax8.set_xlabel(\"RU CMD cell\")\n",
    "ax8.spines['top'].set_visible(False)\n",
    "ax8.spines['right'].set_visible(False)\n",
    "# ax3.set_xticks(np.arange(0,0.35,0.05))\n",
    "ax8.set_xticks(np.arange(0,0.55,0.1))\n",
    "plt.yticks(alpha=0)\n",
    "\n",
    "ax9 = plt.subplot(259)\n",
    "ax9 = sns.barplot(x = \"cmd_values\",y = RU_CMD_protein.index,orient = \"h\",data = RU_CMD_protein, ci = 95, palette = my_pal)\n",
    "ax9.set_xlabel(\"RU CMD protein\")\n",
    "ax9.spines['top'].set_visible(False)\n",
    "ax9.spines['right'].set_visible(False)\n",
    "ax9.set_xticks(np.arange(0,0.55,0.1))\n",
    "plt.yticks(alpha=0)\n",
    "\n",
    "ax10 = plt.subplot(2,5,10)\n",
    "ax10 = sns.barplot(x = \"rmse_values\",y = RU_RMSE_Data.index,orient = \"h\",data = RU_RMSE_Data, ci = 95, palette = my_pal)\n",
    "ax10.set_xlabel(\"RU RMSE\")\n",
    "ax10.spines['top'].set_visible(False)\n",
    "ax10.spines['right'].set_visible(False)\n",
    "ax10.set_xticks(np.arange(0,2,0.4))\n",
    "plt.yticks(alpha=0)\n",
    "\n",
    "# plt.savefig(test_id + \"_from_\" + train_id +\"_RC_RU.pdf\", bbox_inches=\"tight\")\n",
    "plt.show()"
   ]
  },
  {
   "cell_type": "code",
   "execution_count": null,
   "id": "e9a1046a-6b39-4213-866e-589d3788e544",
   "metadata": {},
   "outputs": [],
   "source": []
  }
 ],
 "metadata": {
  "kernelspec": {
   "display_name": "Python 3 (ipykernel)",
   "language": "python",
   "name": "python3"
  },
  "language_info": {
   "codemirror_mode": {
    "name": "ipython",
    "version": 3
   },
   "file_extension": ".py",
   "mimetype": "text/x-python",
   "name": "python",
   "nbconvert_exporter": "python",
   "pygments_lexer": "ipython3",
   "version": "3.8.17"
  }
 },
 "nbformat": 4,
 "nbformat_minor": 5
}
